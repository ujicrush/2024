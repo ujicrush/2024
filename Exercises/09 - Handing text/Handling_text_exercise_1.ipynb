{
 "cells": [
  {
   "cell_type": "markdown",
   "metadata": {},
   "source": [
    "# Handling text exercise"
   ]
  },
  {
   "cell_type": "markdown",
   "metadata": {},
   "source": [
    "## Welcome! This exercise consists of:\n",
    "\n",
    "## Part 1: Hands on tutorial\n",
    "1. Implementing the natural language processing pipeline\n",
    "2. Solving four typical language processing tasks:\n",
    "   * Sentiment analysis\n",
    "   * Document classification\n",
    "   * Topic detection\n",
    "   * Semantic analysis\n",
    "\n",
    "\n",
    "### We will be working with four books in plain text:\n",
    "1. Moby-Dick, by Herman Melville\n",
    "2. Frankenstein; or, The Modern Prometheus, by Mary Shelley\n",
    "3. Pride and Prejudice, by Jane Austen\n",
    "4. Dracula, Bram Stoker\n",
    "\n",
    "#### To run this notebook, you need to install the following libraries:\n",
    "\n",
    "conda install nltk gensim spacy <br>\n",
    "pip install pyLDAvis  <br>\n",
    "pip install vaderSentiment  <br>\n",
    "pip install empath <br>\n",
    "python -m spacy download en  <br>\n",
    "python -m nltk.downloader punkt <br>\n",
    "python -m nltk.downloader all-corpora <br>\n",
    "\n",
    "## Part 2: Handling text comprehension questions\n",
    "- You can test your understanding of important NLP concepts. Solutions will be released next week.\n",
    "\n",
    "## Part 3: Coding exercise\n",
    "- When you are done, in \"Handling_text_exercise_2.ipynb\", you will find additional exercises you can work on independently."
   ]
  },
  {
   "cell_type": "markdown",
   "metadata": {},
   "source": [
    "## Part 1"
   ]
  },
  {
   "cell_type": "code",
   "execution_count": 65,
   "metadata": {},
   "outputs": [
    {
     "name": "stdout",
     "output_type": "stream",
     "text": [
      "The autoreload extension is already loaded. To reload it, use:\n",
      "  %reload_ext autoreload\n"
     ]
    }
   ],
   "source": [
    "%load_ext autoreload\n",
    "%autoreload 2\n",
    "\n",
    "import warnings; warnings.simplefilter('ignore')\n",
    "import os, codecs, string, random\n",
    "import numpy as np\n",
    "from numpy.random import seed as random_seed\n",
    "from numpy.random import shuffle as random_shuffle\n",
    "import matplotlib.pyplot as plt\n",
    "%matplotlib inline  \n",
    "\n",
    "seed = 42\n",
    "random.seed(seed)\n",
    "np.random.seed(seed)\n",
    "\n",
    "#NLP libraries\n",
    "import spacy, nltk, gensim, sklearn\n",
    "#import pyLDAvis.gensim\n",
    "import pyLDAvis.gensim_models\n",
    "\n",
    "#Vader\n",
    "import vaderSentiment\n",
    "from vaderSentiment.vaderSentiment import SentimentIntensityAnalyzer\n",
    "\n",
    "#Scikit imports\n",
    "from sklearn.feature_extraction.text import CountVectorizer\n",
    "from sklearn.model_selection import train_test_split\n",
    "from sklearn.model_selection import cross_val_score\n",
    "from sklearn.linear_model import LogisticRegression\n",
    "from sklearn import preprocessing\n",
    "from sklearn.preprocessing import StandardScaler\n",
    "from sklearn.utils import shuffle\n",
    "\n",
    "#The data\n",
    "corpus_root = 'books/'"
   ]
  },
  {
   "cell_type": "markdown",
   "metadata": {},
   "source": [
    "#### In this tutorial we will be working with text in English. The same principles apply, but the methods cannot be applied directly to the text in unknown or other languages. We will be working mainly with the Spacy library."
   ]
  },
  {
   "cell_type": "markdown",
   "metadata": {},
   "source": [
    "Initialize the Spacy analyzer in English"
   ]
  },
  {
   "cell_type": "markdown",
   "metadata": {},
   "source": [
    "加载一个预训练的 spaCy NLP 语言模型，这里的 en_core_web_sm 是一个小型的英文模型。加载后，语言模型对象会被存储到变量 nlp 中，作为一个 NLP 管道（pipeline）"
   ]
  },
  {
   "cell_type": "code",
   "execution_count": 66,
   "metadata": {},
   "outputs": [],
   "source": [
    "nlp = spacy.load('en_core_web_sm')"
   ]
  },
  {
   "cell_type": "markdown",
   "metadata": {},
   "source": [
    "Load the books"
   ]
  },
  {
   "cell_type": "code",
   "execution_count": 67,
   "metadata": {},
   "outputs": [
    {
     "name": "stdout",
     "output_type": "stream",
     "text": [
      "DRACULA.txt\n",
      "Frankenstein.txt\n",
      "Moby_Dick.txt\n",
      "PRIDE_AND_PREJUDICE.txt\n"
     ]
    }
   ],
   "source": [
    "books = list() # 创建一个空列表 books，用来存储每个 .txt 文件的内容\n",
    "\n",
    "# 使用 os.listdir() 列出指定文件夹 corpus_root 中的所有文件和文件夹\n",
    "# os.listdir() 不会区分文件和文件夹，因此需要进一步判断是否是 .txt 文件。\n",
    "# 使用 os.path.join(corpus_root, book_file) 将目录路径和文件名拼接成文件的完整路径\n",
    "# 使用 codecs.open() 以 UTF-8 编码打开文件。这样可以避免因为文件编码问题导致的报错。\n",
    "# with 语句：确保文件使用后被正确关闭，避免文件资源占用。\n",
    "# 使用 f.read() 读取整个文件的内容，并将其存储到变量中。\n",
    "# 使用 books.append() 将文件内容作为字符串添加到 books 列表中。\n",
    "for book_file in os.listdir(corpus_root): \n",
    "    if \".txt\" in book_file:\n",
    "        print(book_file)\n",
    "        with codecs.open(os.path.join(corpus_root,book_file),encoding=\"utf8\") as f:\n",
    "            books.append(f.read())"
   ]
  },
  {
   "cell_type": "markdown",
   "metadata": {},
   "source": [
    "Print the beginning of Pride and Prejudice"
   ]
  },
  {
   "cell_type": "code",
   "execution_count": 68,
   "metadata": {},
   "outputs": [
    {
     "name": "stdout",
     "output_type": "stream",
     "text": [
      "PRIDE AND PREJUDICE\n",
      "\n",
      "By Jane Austen\n",
      "\n",
      "\n",
      "\n",
      "Chapter 1\n",
      "\n",
      "\n",
      "It is a truth universally acknowledged, that a single man in possession\n",
      "of a good fortune, must be in want of a wife.\n",
      "\n",
      "However little known the feelings or views of such a man may be on his\n",
      "first entering a neighbourhood, this truth is so well fixed in the minds\n",
      "of the surrounding families, that he is considered the rightful property\n",
      "of some one or other of their daughters.\n",
      "\n",
      "“My dear Mr. Bennet,” said his lady to him one day, “have you heard that\n",
      "Netherfield Park is let at last?”\n",
      "\n",
      "Mr. Bennet replied that he had not.\n",
      "\n",
      "“But\n"
     ]
    }
   ],
   "source": [
    "print(books[3][0:600]) \n",
    "# 打印books列表中第四个文本的前600个字符\n",
    "# 0:600 表示从字符串的第 0 个字符开始，提取前 600 个字符（不包括第 600 个字符）"
   ]
  },
  {
   "cell_type": "markdown",
   "metadata": {},
   "source": [
    "#### Let's remove the new lines"
   ]
  },
  {
   "cell_type": "code",
   "execution_count": 69,
   "metadata": {},
   "outputs": [],
   "source": [
    "# 对 books 列表中的每个文本字符串进行预处理，移除多余的空白字符（包括换行符和多余空格），使每个文本成为一个清洁的字符串\n",
    "# for b in books: 遍历 books 列表，b 是每次迭代时获取的一个字符串（对应某个文件的内容）\n",
    "# \" \".join(b.split()): 对每个字符串 b 进行处理，移除多余空白，并将结果重新拼接成一个干净的字符串\n",
    "books = [\" \".join(b.split()) for b in books]"
   ]
  },
  {
   "cell_type": "code",
   "execution_count": 70,
   "metadata": {},
   "outputs": [
    {
     "name": "stdout",
     "output_type": "stream",
     "text": [
      "PRIDE AND PREJUDICE By Jane Austen Chapter 1 It is a truth universally acknowledged, that a single man in possession of a good fortune, must be in want of a wife. However little known the feelings or views of such a man may be on his first entering a neighbourhood, this truth is so well fixed in the minds of the surrounding families, that he is considered the rightful property of some one or other of their daughters. “My dear Mr. Bennet,” said his lady to him one day, “have you heard that Netherfield Park is let at last?” Mr. Bennet replied that he had not. “But it is,” returned she; “for Mrs.\n"
     ]
    }
   ],
   "source": [
    "print(books[3][0:600])"
   ]
  },
  {
   "cell_type": "markdown",
   "metadata": {},
   "source": [
    "### Load Frankenstein"
   ]
  },
  {
   "cell_type": "code",
   "execution_count": 71,
   "metadata": {},
   "outputs": [],
   "source": [
    "#index all books\n",
    "book = books[1]\n",
    "\n",
    "#put in raw text, get a Spacy object\n",
    "doc = nlp(book)"
   ]
  },
  {
   "cell_type": "markdown",
   "metadata": {},
   "source": [
    "## Let's create our own NLP pipeline with Spacy!"
   ]
  },
  {
   "cell_type": "markdown",
   "metadata": {},
   "source": [
    "### Step 1: Sentence splitting\n",
    "\n",
    "#### May sound trivial, but it's not! (e.g., U.K. or Yahoo!) Spacy uses a statistical model to generate accurate predictions. This works well out of the box for general-purpose text or web text. For social media use dedicated libraries."
   ]
  },
  {
   "cell_type": "markdown",
   "metadata": {},
   "source": [
    "**1. 什么是句子分割？**\n",
    "\n",
    "- **句子分割** 是将一段连续的文本分割成单独的句子。比如：\n",
    "\n",
    "  ```text\n",
    "  Hello world! This is an example. I am learning NLP.\n",
    "  ```\n",
    "\n",
    "  被分割为三句话：\n",
    "\n",
    "  1. `Hello world!`\n",
    "\n",
    "  2. `This is an example.`\n",
    "\n",
    "  3. `I am learning NLP.`\n",
    "\n",
    "- 表面上看，句子分割似乎很简单，但实际上可能会遇到一些棘手的问题，例如：\n",
    "\n",
    "  - **缩写**：\n",
    "\n",
    "    - `U.K.` 是一个国家名称，而不是句子结束。\n",
    "\n",
    "    - `e.g.` 是缩写形式，也不应该被错误地识别为句子结束。\n",
    "\n",
    "  - **标点歧义**：\n",
    "\n",
    "    - `Yahoo!` 是公司名称，而不是句子结束。\n",
    "\n",
    "  - **多种语言支持**：\n",
    "\n",
    "    - 不同语言的分割规则可能差异很大，比如中文没有句号分隔。\n",
    "\n",
    "**2. SpaCy 如何处理句子分割？**\n",
    "\n",
    "- SpaCy 使用的是 **统计模型** 来预测句子边界，而不是简单地基于规则（如检测标点符号）。\n",
    "\n",
    "  - **统计模型**：模型会根据上下文信息（如单词之间的关系）来判断某个标点是否是句子的结束标志。\n",
    "\n",
    "  - 优点：能处理常见的标点歧义问题，适用于通用文本和网络文本。\n",
    "\n",
    "**3. 为什么社交媒体需要专门的库？**\n",
    "\n",
    "- **社交媒体文本** 通常非常不同于标准的通用文本，可能包含：\n",
    "\n",
    "  1. **缩写和俚语**：如 `brb`（be right back）、`LOL`（laugh out loud）。\n",
    "\n",
    "  2. **缺少标点**：很多社交媒体帖子没有使用正确的标点。\n",
    "\n",
    "  3. **非正式表达**：如重复字母、表情符号等。\n",
    "\n",
    "  4. **混合语言**：如英文和其他语言的代码混合。\n",
    "\n",
    "- SpaCy 的模型是针对通用文本训练的，可能不适用于这些非正式的语言现象。因此，社交媒体文本的句子分割更适合使用专门的工具，如：\n",
    "\n",
    "  - **TweetNLP**：专门针对推文的 NLP 库。\n",
    "  \n",
    "  - **NLTK**：有针对更复杂句子分割的功能模块。"
   ]
  },
  {
   "cell_type": "code",
   "execution_count": 72,
   "metadata": {},
   "outputs": [
    {
     "name": "stdout",
     "output_type": "stream",
     "text": [
      "Sentence 1: Frankenstein, or the Modern Prometheus by Mary Wollstonecraft (Godwin) Shelley Letter 1 St. Petersburgh, Dec. 11th, 17-- TO Mrs. Saville, England You will rejoice to hear that no disaster has accompanied the commencement of an enterprise which you have regarded with such evil forebodings. \n",
      "\n",
      "Sentence 2: I arrived here yesterday, and my first task is to assure my dear sister of my welfare and increasing confidence in the success of my undertaking. \n",
      "\n",
      "Sentence 3: I am already far north of London, and as I walk in the streets of Petersburgh, I feel a cold northern breeze play upon my cheeks, which braces my nerves and fills me with delight. \n",
      "\n"
     ]
    }
   ],
   "source": [
    "# doc.sents 是一个生成器，用来逐一生成文本中的句子。\n",
    "# sents 是 spaCy 自动检测的句子边界，基于内置的句子分割模型。\n",
    "# sent 是每次迭代时生成的句子对象，sent.text 是句子的字符串形式。\n",
    "sentences = [sent for sent in doc.sents]\n",
    "print('Sentence 1:',sentences[0],'\\n')\n",
    "print('Sentence 2:',sentences[1],'\\n')\n",
    "print('Sentence 3:',sentences[2],'\\n')"
   ]
  },
  {
   "cell_type": "markdown",
   "metadata": {},
   "source": [
    "### Step 2: Tokenization\n",
    "\n",
    "#### The task of splitting a text into meaningful segments called tokens. We segment the sentence into words, punctuation, etc. This is done by first splitting on whitespace characters and them applying rules specific to each language. For example, \"don't\" does not contain whitespace, but should be split into two tokens, \"do\" and \"n't\", while \"U.K.\" should always remain one token and \"but,\" shouldn't."
   ]
  },
  {
   "cell_type": "markdown",
   "metadata": {},
   "source": [
    "分词的任务是将文本分割成有意义的片段，这些片段被称为**token（标记）**。我们将句子分割成单词、标点符号等。这一过程首先通过空白字符进行初步分割，然后再根据每种语言的规则进行进一步处理。例如：\n",
    "\n",
    "- \"don't\" 没有空白字符，但应该分割成两个标记 \"do\" 和 \"n't\"。\n",
    "\n",
    "- 而 \"U.K.\" 应始终作为一个标记保留。\n",
    "\n",
    "- 同时像 \"but,\" 这样的词，标点符号应被单独分离。\n",
    "\n",
    "**1. 什么是分词（Tokenization）？**\n",
    "\n",
    "- **分词** 是自然语言处理（NLP）中的一个基础步骤，其任务是将一段文本分解为更小的单元，称为 **token**。\n",
    "\n",
    "  - **token**：可以是一个单词、数字、标点符号，甚至是一个短语，具体取决于上下文和应用需求。\n",
    "\n",
    "  - 分词是文本数据处理的第一步，很多 NLP 应用都依赖于分词后的数据。\n",
    "\n",
    "**2. 为什么分词不是简单的按空格切割？**\n",
    "\n",
    "虽然看起来分词可以简单地通过空格 `split()` 完成，但在实际的自然语言处理中存在一些复杂性：\n",
    "\n",
    "1. **复合单词与缩写**：\n",
    "\n",
    "   - **示例**：\n",
    "\n",
    "     - \"don't\" 不是一个独立的单词，它实际上是 \"do\" 和 \"n't\" 的组合。\n",
    "\n",
    "     - \"U.K.\" 是一个国家名称，不应被错误地分割为 \"U\" 和 \"K\"。\n",
    "\n",
    "2. **标点符号的处理**：\n",
    "\n",
    "   - 标点符号需要单独分离，但不能与单词混淆。\n",
    "\n",
    "   - **示例**：\n",
    "\n",
    "     - 在 \"but,\" 中，标点 \",\" 应该单独作为一个 token。\n",
    "\n",
    "     - 但不能错误地将 \"U.K.\" 的句点 \".\" 分割出来。\n",
    "\n",
    "3. **多语言的复杂性**：\n",
    "\n",
    "   - 不同语言的规则不同。例如，中文没有空格，需要根据词库进行分词，而英文则可以以空格为基础。\n",
    "\n",
    "**3. SpaCy 如何进行分词？**\n",
    "\n",
    "- SpaCy 使用预定义的语言模型，通过 **空格分割** 和 **语言规则** 结合的方式实现分词。\n",
    "\n",
    "- SpaCy 的分词器会：\n",
    "\n",
    "  1. **初步分割**：以空白字符（空格、换行符等）为基础，分割文本。\n",
    "\n",
    "  2. **语言规则调整**：根据语言模型中的规则，进一步对特殊情况进行处理。例如：\n",
    "\n",
    "     - \"don't\" 会被分割为两个 token：\"do\" 和 \"n't\"。\n",
    "\n",
    "     - \"U.K.\" 会被保留为一个 token。\n",
    "\n",
    "**4. 示例代码**\n",
    "\n",
    "假设我们有一段文本：\n",
    "```python\n",
    "text = \"I live in the U.K. and I don't know what to do, but I'll try.\"\n",
    "```\n",
    "\n",
    "**输出**：\n",
    "```plaintext\n",
    "Token: I\n",
    "Token: live\n",
    "Token: in\n",
    "Token: the\n",
    "Token: U.K.\n",
    "Token: and\n",
    "Token: I\n",
    "Token: do\n",
    "Token: n't\n",
    "Token: know\n",
    "Token: what\n",
    "Token: to\n",
    "Token: do\n",
    "Token: ,\n",
    "Token: but\n",
    "Token: I\n",
    "Token: 'll\n",
    "Token: try\n",
    "Token: .\n",
    "```"
   ]
  },
  {
   "cell_type": "markdown",
   "metadata": {},
   "source": [
    "### We will analyze the methods on an example sentence first"
   ]
  },
  {
   "cell_type": "code",
   "execution_count": 73,
   "metadata": {},
   "outputs": [
    {
     "name": "stdout",
     "output_type": "stream",
     "text": [
      "I am already far north of London, and as I walk in the streets of Petersburgh, I feel a cold northern breeze play upon my cheeks, which braces my nerves and fills me with delight. \n",
      "\n",
      "['I', 'am', 'already', 'far', 'north', 'of', 'London', ',', 'and', 'as', 'I', 'walk', 'in', 'the', 'streets', 'of', 'Petersburgh', ',', 'I', 'feel', 'a', 'cold', 'northern', 'breeze', 'play', 'upon', 'my', 'cheeks', ',', 'which', 'braces', 'my', 'nerves', 'and', 'fills', 'me', 'with', 'delight', '.']\n"
     ]
    }
   ],
   "source": [
    "example = 'I am already far north of London, and as I walk in the streets of Petersburgh, I feel a cold northern breeze play upon my cheeks, which braces my nerves and fills me with delight.'\n",
    "\n",
    "doc = nlp(example)\n",
    "\n",
    "#strings are encoded to hashes\n",
    "tokens = [token.text for token in doc]\n",
    "\n",
    "print(example,'\\n')\n",
    "print(tokens)"
   ]
  },
  {
   "cell_type": "markdown",
   "metadata": {},
   "source": [
    "### Step 3: Part of speech tagging\n",
    "\n",
    "#### The model makes a prediction of which tag or label most likely applies in this context. For example, a word following \"the\" in English is most likely a noun."
   ]
  },
  {
   "cell_type": "markdown",
   "metadata": {},
   "source": [
    "这段代码的作用是对文本 **`doc`** 进行 **词性标注（POS tagging）**，并将每个词汇及其对应的词性存储为一个元组列表，最后打印结果。\n",
    "\n",
    "**1. 创建 `pos_tagged` 列表**\n",
    "```python\n",
    "pos_tagged = [(token.text, token.pos_) for token in doc]\n",
    "```\n",
    "\n",
    "- **`doc`**:\n",
    "\n",
    "  - `doc` 是 spaCy 处理后的 `Doc` 对象，表示已经通过 NLP 模型分析的文本。\n",
    "\n",
    "  - 它包含了文本的所有分词结果、词性标注、依存关系、实体识别等信息。\n",
    "\n",
    "  - **`token.text`**：\n",
    "\n",
    "    - 表示分词后的具体单词或标点符号（如 `\"The\"`, `\"dog\"`, `\",\"`, `\"ran\"`）。\n",
    "\n",
    "  - **`token.pos_`**：\n",
    "\n",
    "    - 表示该词的词性（如 `\"NOUN\"`, `\"VERB\"`, `\"ADJ\"` 等）。\n",
    "\n",
    "  - 生成的元组 **`(token.text, token.pos_)`** 表示每个词及其对应的词性。\n",
    "\n",
    "  - 将所有元组存储为一个列表，赋值给变量 `pos_tagged`。\n",
    "\n",
    "**输出结构**：\n",
    "\n",
    "假设 `doc` 是以下文本：\n",
    "```python\n",
    "doc = nlp(\"The dog ran quickly.\")\n",
    "```\n",
    "\n",
    "生成的 `pos_tagged` 结果是：\n",
    "```python\n",
    "pos_tagged = [\n",
    "    ('The', 'DET'),    # \"The\" 是一个限定词（Determiner）\n",
    "    ('dog', 'NOUN'),   # \"dog\" 是一个名词\n",
    "    ('ran', 'VERB'),   # \"ran\" 是一个动词\n",
    "    ('quickly', 'ADV'),# \"quickly\" 是一个副词\n",
    "    ('.', 'PUNCT')     # \".\" 是一个标点符号\n",
    "]\n",
    "```"
   ]
  },
  {
   "cell_type": "code",
   "execution_count": 74,
   "metadata": {},
   "outputs": [
    {
     "name": "stdout",
     "output_type": "stream",
     "text": [
      "I am already far north of London, and as I walk in the streets of Petersburgh, I feel a cold northern breeze play upon my cheeks, which braces my nerves and fills me with delight. \n",
      "\n",
      "[('I', 'PRON'), ('am', 'AUX'), ('already', 'ADV'), ('far', 'ADV'), ('north', 'ADV'), ('of', 'ADP'), ('London', 'PROPN'), (',', 'PUNCT'), ('and', 'CCONJ'), ('as', 'SCONJ'), ('I', 'PRON'), ('walk', 'VERB'), ('in', 'ADP'), ('the', 'DET'), ('streets', 'NOUN'), ('of', 'ADP'), ('Petersburgh', 'PROPN'), (',', 'PUNCT'), ('I', 'PRON'), ('feel', 'VERB'), ('a', 'DET'), ('cold', 'ADJ'), ('northern', 'ADJ'), ('breeze', 'NOUN'), ('play', 'VERB'), ('upon', 'SCONJ'), ('my', 'PRON'), ('cheeks', 'NOUN'), (',', 'PUNCT'), ('which', 'PRON'), ('braces', 'VERB'), ('my', 'PRON'), ('nerves', 'NOUN'), ('and', 'CCONJ'), ('fills', 'VERB'), ('me', 'PRON'), ('with', 'ADP'), ('delight', 'NOUN'), ('.', 'PUNCT')]\n"
     ]
    }
   ],
   "source": [
    "pos_tagged = [(token.text, token.pos_) for token in doc]\n",
    "\n",
    "print(example,'\\n')\n",
    "print(pos_tagged)"
   ]
  },
  {
   "cell_type": "code",
   "execution_count": 75,
   "metadata": {},
   "outputs": [
    {
     "name": "stdout",
     "output_type": "stream",
     "text": [
      "coordinating conjunction\n",
      "adposition\n",
      "determiner\n"
     ]
    }
   ],
   "source": [
    "print(spacy.explain('CCONJ'))   # 并列连词\n",
    "print(spacy.explain('ADP'))     # 介词或后置词\n",
    "print(spacy.explain('DET'))     # 限定词"
   ]
  },
  {
   "cell_type": "markdown",
   "metadata": {},
   "source": [
    "### When unsure, see here for more details: http://universaldependencies.org/u/pos/all.html"
   ]
  },
  {
   "cell_type": "markdown",
   "metadata": {},
   "source": [
    "#### More detailed annotation:"
   ]
  },
  {
   "cell_type": "markdown",
   "metadata": {},
   "source": [
    "这段代码的作用是通过 **spaCy** 对文本 **`doc`** 进行详细的词性标注（POS tagging），并将每个单词及其对应的 **详细词性（`tag_`）** 存储为一个元组列表。最后打印出该列表。\n",
    "\n",
    "```python\n",
    "pos_tagged = [(token.text, token.tag_) for token in doc]\n",
    "```\n",
    "\n",
    "- **`token.tag_`**:\n",
    "\n",
    "  - 表示分词的 **详细词性标签**（fine-grained POS tag）。\n",
    "\n",
    "  - 与 `token.pos_` 的 **粗略词性标签（如名词、动词、形容词等）** 不同，`token.tag_` 提供了更细粒度的词性信息，包括语法属性（如时态、数、性等）。\n",
    "\n",
    "  - 例如：\n",
    "\n",
    "    - `VBD` 表示动词的过去式（如 \"ran\"）。\n",
    "\n",
    "    - `NN` 表示单数的普通名词（如 \"dog\"）。\n",
    "\n",
    "    - `NNS` 表示复数的普通名词（如 \"dogs\"）。"
   ]
  },
  {
   "cell_type": "code",
   "execution_count": 76,
   "metadata": {},
   "outputs": [
    {
     "name": "stdout",
     "output_type": "stream",
     "text": [
      "[('I', 'PRP'), ('am', 'VBP'), ('already', 'RB'), ('far', 'RB'), ('north', 'RB'), ('of', 'IN'), ('London', 'NNP'), (',', ','), ('and', 'CC'), ('as', 'IN'), ('I', 'PRP'), ('walk', 'VBP'), ('in', 'IN'), ('the', 'DT'), ('streets', 'NNS'), ('of', 'IN'), ('Petersburgh', 'NNP'), (',', ','), ('I', 'PRP'), ('feel', 'VBP'), ('a', 'DT'), ('cold', 'JJ'), ('northern', 'JJ'), ('breeze', 'NN'), ('play', 'VB'), ('upon', 'IN'), ('my', 'PRP$'), ('cheeks', 'NNS'), (',', ','), ('which', 'WDT'), ('braces', 'VBZ'), ('my', 'PRP$'), ('nerves', 'NNS'), ('and', 'CC'), ('fills', 'VBZ'), ('me', 'PRP'), ('with', 'IN'), ('delight', 'NN'), ('.', '.')]\n"
     ]
    }
   ],
   "source": [
    "pos_tagged = [(token.text, token.tag_) for token in doc]\n",
    "\n",
    "print(pos_tagged)"
   ]
  },
  {
   "cell_type": "code",
   "execution_count": 77,
   "metadata": {},
   "outputs": [
    {
     "name": "stdout",
     "output_type": "stream",
     "text": [
      "pronoun, personal\n",
      "verb, non-3rd person singular present\n"
     ]
    }
   ],
   "source": [
    "print(spacy.explain('PRP'))\n",
    "print(spacy.explain('VBP'))"
   ]
  },
  {
   "cell_type": "markdown",
   "metadata": {},
   "source": [
    "### Step 4: Named entity recognition\n",
    "\n",
    "#### For example, a person, a country, a product or a book title. Spacy can recognise various types of named entities in a document. This doesn't always work perfectly and might need some tuning later, depending on your use case.\n",
    "\n",
    "Built in entity types: <br>\n",
    "\n",
    "PERSON  People, including fictional.  <br>\n",
    "NORP\tNationalities or religious or political groups. <br>\n",
    "FAC\tBuildings, airports, highways, bridges, etc. <br>\n",
    "ORG\tCompanies, agencies, institutions, etc. <br>\n",
    "GPE\tCountries, cities, states. <br>\n",
    "LOC\tNon-GPE locations, mountain ranges, bodies of water. <br>\n",
    "PRODUCT\tObjects, vehicles, foods, etc. (Not services.) <br>\n",
    "EVENT\tNamed hurricanes, battles, wars, sports events, etc. <br>\n",
    "WORK_OF_ART\tTitles of books, songs, etc. <br>\n",
    "LAW\tNamed documents made into laws. <br>\n",
    "LANGUAGE\tAny named language. <br>\n",
    "DATE\tAbsolute or relative dates or periods. <br>\n",
    "TIME\tTimes smaller than a day. <br>\n",
    "PERCENT\tPercentage, including \"%\". <br>\n",
    "MONEY\tMonetary values, including unit. <br>\n",
    "QUANTITY\tMeasurements, as of weight or distance. <br>\n",
    "ORDINAL\t\"first\", \"second\", etc. <br>\n",
    "CARDINAL\tNumerals that do not fall under another type. <br>"
   ]
  },
  {
   "cell_type": "markdown",
   "metadata": {},
   "source": [
    "**1. Named Entity Recognition (NER)：命名实体识别**\n",
    "\n",
    "- **命名实体识别** 是自然语言处理（NLP）中的一种任务，目标是从文本中识别特定的实体（有意义的名词短语）。\n",
    "\n",
    "- **什么是实体？**\n",
    "\n",
    "  - 实体指的是文本中可以明确指代某种对象的词或词组，例如：\n",
    "\n",
    "    - 人名（PERSON）\n",
    "\n",
    "    - 地点名称（GPE）\n",
    "\n",
    "    - 公司名称（ORG）\n",
    "\n",
    "    - 时间（DATE）\n",
    "\n",
    "    - 金额（MONEY）\n",
    "\n",
    "  - 这些实体通常在实际应用中非常有用，如信息提取、问答系统、情感分析等。\n",
    "\n",
    "**2. spaCy 的命名实体识别**\n",
    "\n",
    "- **spaCy** 是一种功能强大的 NLP 库，它内置了命名实体识别（NER）功能。\n",
    "\n",
    "- 通过使用 **统计模型**，spaCy 可以对文本进行实体识别，并根据上下文预测实体类别。\n",
    "\n",
    "- 尽管 spaCy 提供了开箱即用的实体识别功能，但可能需要根据特定用例进行调优以提高准确性。\n",
    "\n",
    "**3. 内置的实体类别**\n",
    "\n",
    "spaCy 提供了一系列内置的实体类型，以下是主要类别的解释：\n",
    "\n",
    "| **实体类型** | **含义**                                                                                      | **示例**                                  |\n",
    "|--------------|-----------------------------------------------------------------------------------------------|------------------------------------------|\n",
    "| **PERSON**   | 人名，包括真实人物和虚构人物。                                                                | \"Albert Einstein\", \"Harry Potter\"       |\n",
    "| **NORP**     | 国籍、宗教团体或政治团体。                                                                    | \"American\", \"Christian\", \"Communist\"    |\n",
    "| **FAC**      | 设施，包括建筑物、机场、公路、桥梁等。                                                         | \"Golden Gate Bridge\", \"JFK Airport\"     |\n",
    "| **ORG**      | 公司、机构、组织等。                                                                          | \"Google\", \"UNICEF\", \"NASA\"              |\n",
    "| **GPE**      | 地理政治实体，如国家、城市、州等。                                                            | \"United States\", \"London\", \"California\" |\n",
    "| **LOC**      | 非 GPE 的位置，如山脉、水域等。                                                               | \"Mount Everest\", \"Pacific Ocean\"        |\n",
    "| **PRODUCT**  | 物品、车辆、食品等（不包括服务）。                                                             | \"iPhone\", \"Tesla Model 3\", \"Pizza\"      |\n",
    "| **EVENT**    | 已命名的事件，如飓风、战争、体育赛事等。                                                       | \"World War II\", \"Super Bowl\"            |\n",
    "| **WORK_OF_ART** | 书籍、歌曲、电影等作品的标题。                                                              | \"The Great Gatsby\", \"Bohemian Rhapsody\" |\n",
    "| **LAW**      | 已命名的法律文档。                                                                             | \"Constitution\", \"Bill of Rights\"        |\n",
    "| **LANGUAGE** | 语言名称。                                                                                     | \"English\", \"Mandarin\", \"Spanish\"        |\n",
    "| **DATE**     | 绝对或相对的日期或时间段。                                                                     | \"January 1st, 2020\", \"yesterday\"        |\n",
    "| **TIME**     | 小于一天的时间。                                                                               | \"2:30 PM\", \"midnight\"                   |\n",
    "| **PERCENT**  | 百分比，包括 \"%\" 符号。                                                                        | \"50%\", \"75 percent\"                     |\n",
    "| **MONEY**    | 金额，包括货币单位。                                                                           | \"$20\", \"30 USD\"                         |\n",
    "| **QUANTITY** | 测量值，如重量或距离。                                                                         | \"10 kg\", \"5 miles\"                      |\n",
    "| **ORDINAL**  | 序数，如 \"first\", \"second\" 等。                                                                | \"1st\", \"2nd\"                            |\n",
    "| **CARDINAL** | 不属于其他类型的数字。                                                                         | \"1\", \"two hundred\"                      |"
   ]
  },
  {
   "cell_type": "markdown",
   "metadata": {},
   "source": [
    "**1. 遍历 `doc.ents`**\n",
    "```python\n",
    "for ent in doc.ents:\n",
    "    print(ent.text, ent.label_)\n",
    "```\n",
    "\n",
    "- **`doc.ents`**：\n",
    "\n",
    "  - `doc` 是 spaCy 处理后的文档对象（`Doc`），`doc.ents` 是一个命名实体的列表。\n",
    "\n",
    "  - **`ent`**：表示每一个实体（Entity），是 spaCy 的 `Span` 对象，包含实体的文本、标签等信息。\n",
    "  \n",
    "- **`ent.text`**：\n",
    "\n",
    "  - 返回实体的实际文本内容。例如，在输入文本 `\"Apple is looking at buying U.K. startup for $1 billion.\"` 中：\n",
    "\n",
    "    - `ent.text` 可能是 `\"Apple\"`, `\"U.K.\"`, `\"$1 billion\"` 等。\n",
    "\n",
    "- **`ent.label_`**：\n",
    "\n",
    "  - 返回实体的类别标签（字符串形式）。\n",
    "\n",
    "  - **实体类别标签**（如 `ORG`, `GPE`, `MONEY` 等）表示实体的类型，例如：\n",
    "\n",
    "    - `\"ORG\"` 表示组织机构。\n",
    "\n",
    "    - `\"GPE\"` 表示地理政治实体（国家、城市等）。\n",
    "\n",
    "    - `\"MONEY\"` 表示金额。"
   ]
  },
  {
   "cell_type": "code",
   "execution_count": 78,
   "metadata": {},
   "outputs": [
    {
     "name": "stdout",
     "output_type": "stream",
     "text": [
      "I am already far north of London, and as I walk in the streets of Petersburgh, I feel a cold northern breeze play upon my cheeks, which braces my nerves and fills me with delight. \n",
      "\n",
      "London GPE\n",
      "Petersburgh GPE\n"
     ]
    }
   ],
   "source": [
    "print(example,'\\n')\n",
    "for ent in doc.ents:\n",
    "    print(ent.text, ent.label_)"
   ]
  },
  {
   "cell_type": "markdown",
   "metadata": {},
   "source": [
    "### Step 5: Removing stop words"
   ]
  },
  {
   "cell_type": "markdown",
   "metadata": {},
   "source": [
    "Let's check out all the stopwords:"
   ]
  },
  {
   "cell_type": "markdown",
   "metadata": {},
   "source": [
    "**1. 停用词是什么？**\n",
    "\n",
    "- **停用词（Stop Words）**：\n",
    "\n",
    "  - 是自然语言处理（NLP）中的一种常用术语，指在文本处理中会被过滤掉的常见单词。\n",
    "\n",
    "  - 这些词语在语义上通常没有太大意义，不影响文本的核心意思。\n",
    "\n",
    "  - 常见的停用词包括：`\"a\"`, `\"the\"`, `\"is\"`, `\"in\"`, `\"and\"` 等。\n",
    "\n",
    "  - **作用**：\n",
    "\n",
    "    - 删除停用词可以减少文本中的噪音，使模型关注更有意义的内容。\n",
    "\n",
    "**2. 导入 spaCy 的停用词**\n",
    "```python\n",
    "spacy_stopwords = spacy.lang.en.stop_words.STOP_WORDS\n",
    "```\n",
    "- **`spacy.lang.en.stop_words.STOP_WORDS`**：\n",
    "\n",
    "  - 这是 spaCy 提供的英文停用词集合，类型为 Python 的集合（`set`）。\n",
    "\n",
    "  - **`STOP_WORDS`** 包含了一些在英文文本处理中常用的停用词。\n",
    "\n",
    "**3. 计算停用词的数量**\n",
    "```python\n",
    "print('Number of stop words: %d' % len(spacy_stopwords))\n",
    "```\n",
    "- **`len(spacy_stopwords)`**：\n",
    "\n",
    "  - 计算停用词集合中单词的数量。\n",
    "\n",
    "- **`%d` 格式化字符串**：\n",
    "\n",
    "  - 表示以整数的形式插入停用词数量。\n",
    "\n",
    "  - 例如，`len(spacy_stopwords)` 的值为 326，则输出：\n",
    "    ```plaintext\n",
    "    Number of stop words: 326\n",
    "    ```\n",
    "\n",
    "**4. 打印前 10 个停用词**\n",
    "```python\n",
    "print('First ten stop words:', list(spacy_stopwords)[:10])\n",
    "```\n",
    "- **`list(spacy_stopwords)`**：\n",
    "\n",
    "  - 将 spaCy 的停用词集合转换为列表（`list`）。\n",
    "\n",
    "  - 集合（`set`）是无序的，而列表是有序的，因此可以通过切片获取前几个停用词。\n",
    "\n",
    "- **`[:10]`**：\n",
    "\n",
    "  - 表示获取列表的前 10 个元素。"
   ]
  },
  {
   "cell_type": "code",
   "execution_count": 79,
   "metadata": {},
   "outputs": [
    {
     "name": "stdout",
     "output_type": "stream",
     "text": [
      "Number of stop words: 326\n",
      "First ten stop words: ['someone', 'your', \"'d\", 'with', 'yet', 'empty', 'all', 'anything', '‘ve', 'further']\n"
     ]
    }
   ],
   "source": [
    "spacy_stopwords = spacy.lang.en.stop_words.STOP_WORDS\n",
    "print('Number of stop words: %d' % len(spacy_stopwords))\n",
    "print('First ten stop words:',list(spacy_stopwords)[:10])"
   ]
  },
  {
   "cell_type": "markdown",
   "metadata": {},
   "source": [
    "Detecting stopwords in the example:"
   ]
  },
  {
   "cell_type": "markdown",
   "metadata": {},
   "source": [
    "**1. 提取停用词**\n",
    "```python\n",
    "stop_words = [token.text for token in doc if token.is_stop]\n",
    "```\n",
    "\n",
    "- **列表推导式**：\n",
    "\n",
    "  - 遍历 `doc` 中的每个 `token`（分词结果）。\n",
    "\n",
    "  - 检查每个分词是否为停用词（`token.is_stop`），如果是，则将该词的文本内容 `token.text` 加入列表 `stop_words`。\n",
    "\n",
    "- **`token.is_stop`**：\n",
    "\n",
    "  - 是一个布尔属性，用于判断当前分词是否为停用词。\n",
    "\n",
    "  - 如果 `is_stop == True`，表示该词属于停用词。\n",
    "\n",
    "  - 示例：\n",
    "\n",
    "    - 对于句子 `\"This is a test.\"`：\n",
    "\n",
    "      - `\"This\"` 和 `\"is\"` 是停用词。\n",
    "\n",
    "      - `\"test\"` 和 `\".\"` 不是停用词。"
   ]
  },
  {
   "cell_type": "code",
   "execution_count": 80,
   "metadata": {},
   "outputs": [
    {
     "name": "stdout",
     "output_type": "stream",
     "text": [
      "I am already far north of London, and as I walk in the streets of Petersburgh, I feel a cold northern breeze play upon my cheeks, which braces my nerves and fills me with delight. \n",
      "\n",
      "['I', 'am', 'already', 'of', 'and', 'as', 'I', 'in', 'the', 'of', 'I', 'a', 'upon', 'my', 'which', 'my', 'and', 'me', 'with']\n"
     ]
    }
   ],
   "source": [
    "print(example,'\\n')\n",
    "\n",
    "stop_words = [token.text for token in doc if token.is_stop]\n",
    "\n",
    "print(stop_words)"
   ]
  },
  {
   "cell_type": "markdown",
   "metadata": {},
   "source": [
    "#### Sometimes it's useful to define a custom list of stopwords. Other solutions: https://www.ranks.nl/stopwords \n"
   ]
  },
  {
   "cell_type": "markdown",
   "metadata": {},
   "source": [
    "### Step 6: Lemmatization\n",
    "\n",
    "#### A rule-based deterministic lemmatizer maps the surface form of a token to a lemma."
   ]
  },
  {
   "cell_type": "markdown",
   "metadata": {},
   "source": [
    "**1. 检查原始形式与词形还原形式是否不同**\n",
    "```python\n",
    "if token.text != token.lemma_:\n",
    "```\n",
    "\n",
    "- **`token.lemma_`**：\n",
    "\n",
    "  - 表示分词的词形还原形式（lemma）。\n",
    "\n",
    "  - **词形还原** 是 NLP 中的一个任务，旨在将单词转换为其基本形式（不受时态、数、格等影响）。\n",
    "\n",
    "  - 例如：\n",
    "\n",
    "    - `\"running\"` 的 `token.lemma_` 是 `\"run\"`（去掉时态变化）。\n",
    "\n",
    "    - `\"better\"` 的 `token.lemma_` 是 `\"good\"`（变回原始形容词形式）。\n",
    "\n",
    "    - `\"cars\"` 的 `token.lemma_` 是 `\"car\"`（变为单数形式）。\n",
    "\n",
    "- **条件**：\n",
    "  - 如果分词的原始形式 `token.text` 和词形还原形式 `token.lemma_` 不同，说明该词可能有时态、复数、比较级等变化。\n",
    "\n",
    "**2. 打印词形变化**\n",
    "```python\n",
    "print(token.text, '--->', token.lemma_)\n",
    "```\n",
    "- 对于 `token.text` 和 `token.lemma_` 不同的分词，打印出它们的对应关系。"
   ]
  },
  {
   "cell_type": "code",
   "execution_count": 81,
   "metadata": {},
   "outputs": [
    {
     "name": "stdout",
     "output_type": "stream",
     "text": [
      "I am already far north of London, and as I walk in the streets of Petersburgh, I feel a cold northern breeze play upon my cheeks, which braces my nerves and fills me with delight. \n",
      "\n",
      "am ---> be\n",
      "streets ---> street\n",
      "cheeks ---> cheek\n",
      "braces ---> brace\n",
      "nerves ---> nerve\n",
      "fills ---> fill\n",
      "me ---> I\n"
     ]
    }
   ],
   "source": [
    "print(example,'\\n')\n",
    "for token in doc:\n",
    "    if token.text != token.lemma_:\n",
    "        print(token.text,'--->',token.lemma_)"
   ]
  },
  {
   "cell_type": "markdown",
   "metadata": {},
   "source": [
    "### Step 7: Chunking (shallow parsing)\n",
    "\n",
    "#### Noun chunks are \"base noun phrases\" – flat phrases that have a noun as their head -- a noun plus the words describing the noun – for example, \"the lavish green grass\" or \"the world’s largest tech fund\". "
   ]
  },
  {
   "cell_type": "markdown",
   "metadata": {},
   "source": [
    "**1. 遍历 `doc.noun_chunks`**\n",
    "```python\n",
    "for chunk in doc.noun_chunks:\n",
    "    print(chunk.text)\n",
    "```\n",
    "\n",
    "- **`doc.noun_chunks`**：\n",
    "\n",
    "  - `doc.noun_chunks` 是 **名词短语列表**。\n",
    "\n",
    "  - **名词短语（noun chunks）** 是以名词为核心的短语，可以包含限定词（如 \"the\"）、形容词修饰语（如 \"big\"）等。\n",
    "\n",
    "  - 例如，文本 `\"The big red dog\"` 中，`doc.noun_chunks` 会提取 `\"The big red dog\"` 作为一个名词短语。"
   ]
  },
  {
   "cell_type": "code",
   "execution_count": 82,
   "metadata": {},
   "outputs": [
    {
     "name": "stdout",
     "output_type": "stream",
     "text": [
      "I am already far north of London, and as I walk in the streets of Petersburgh, I feel a cold northern breeze play upon my cheeks, which braces my nerves and fills me with delight. \n",
      "\n",
      "I\n",
      "London\n",
      "I\n",
      "the streets\n",
      "Petersburgh\n",
      "I\n",
      "my cheeks\n",
      "which\n",
      "my nerves\n",
      "me\n",
      "delight\n"
     ]
    }
   ],
   "source": [
    "print(example,'\\n')\n",
    "\n",
    "for chunk in doc.noun_chunks:\n",
    "    print(chunk.text)"
   ]
  },
  {
   "cell_type": "markdown",
   "metadata": {},
   "source": [
    "### Step 8: Dependancy parsing\n",
    "\n",
    "#### The terms head and child describe the words connected by an arc in the dependency tree. The type of syntactic relation that connects the child to the head can be obtain through .dep_."
   ]
  },
  {
   "cell_type": "markdown",
   "metadata": {},
   "source": [
    "**1. 什么是依存句法解析？**\n",
    "\n",
    "- 依存句法解析的目标是解析句子的 **语法结构**，描述句子中词与词之间的关系。\n",
    "\n",
    "- 每个词通过某种 **语法关系（syntactic relation）** 与其他词连接：\n",
    "\n",
    "  - **头词（head）**：句法上支配某个词的词。\n",
    "\n",
    "  - **子词（children）**：句法上从属于某个词的词。\n",
    "\n",
    "**2. spaCy 的依存句法解析**\n",
    "\n",
    "- spaCy 提供了内置的依存句法解析器，可以快速分析每个词的句法关系。\n",
    "\n",
    "- **关键属性**：\n",
    "\n",
    "  - **`token.text`**：分词的文本。\n",
    "\n",
    "  - **`token.head`**：当前分词的 **头词**。\n",
    "\n",
    "  - **`token.children`**：当前分词的 **子词**（以迭代器的形式返回）。\n",
    "\n",
    "**3. 打印分词的依存句法信息**\n",
    "```python\n",
    "print('Token:', token.text, 'Head:', token.head.text, 'Children:', [child for child in token.children])\n",
    "```\n",
    "\n",
    "- **`token.head.text`**：\n",
    "\n",
    "  - 当前分词的 **头词** 的文本。\n",
    "\n",
    "  - 头词是句法上支配当前词的词。例如：\n",
    "\n",
    "    - 在 `\"The cat sleeps\"` 中，\"sleeps\" 是 \"cat\" 的头词。\n",
    "\n",
    "- **`token.children`**：\n",
    "\n",
    "  - 当前分词的 **子词**，表示句法上从属于当前词的所有分词。\n",
    "\n",
    "  - 子词是一个迭代器，需要通过列表推导式 `[child for child in token.children]` 提取为列表。\n",
    "\n",
    "**4. 依存句法树结构**\n",
    "\n",
    "如果我们用树状结构表示句子的依存关系：\n",
    "\n",
    "```plaintext\n",
    "         jumps\n",
    "         /   \\\n",
    "       fox    over\n",
    "      / | \\      \\\n",
    "   The quick brown  dog\n",
    "                     |\n",
    "                    the\n",
    "```"
   ]
  },
  {
   "cell_type": "code",
   "execution_count": 83,
   "metadata": {},
   "outputs": [
    {
     "name": "stdout",
     "output_type": "stream",
     "text": [
      "I am already far north of London, and as I walk in the streets of Petersburgh, I feel a cold northern breeze play upon my cheeks, which braces my nerves and fills me with delight. \n",
      "\n",
      "Token: I Head: am Children: []\n",
      "Token: am Head: am Children: [I, already, north, ,, and, feel]\n",
      "Token: already Head: am Children: []\n",
      "Token: far Head: north Children: []\n",
      "Token: north Head: am Children: [far, of]\n",
      "Token: of Head: north Children: [London]\n",
      "Token: London Head: of Children: []\n",
      "Token: , Head: am Children: []\n",
      "Token: and Head: am Children: []\n",
      "Token: as Head: walk Children: []\n",
      "Token: I Head: walk Children: []\n",
      "Token: walk Head: feel Children: [as, I, in]\n",
      "Token: in Head: walk Children: [streets]\n",
      "Token: the Head: streets Children: []\n",
      "Token: streets Head: in Children: [the, of]\n",
      "Token: of Head: streets Children: [Petersburgh]\n",
      "Token: Petersburgh Head: of Children: []\n",
      "Token: , Head: feel Children: []\n",
      "Token: I Head: feel Children: []\n",
      "Token: feel Head: am Children: [walk, ,, I, play, .]\n",
      "Token: a Head: play Children: []\n",
      "Token: cold Head: breeze Children: []\n",
      "Token: northern Head: breeze Children: []\n",
      "Token: breeze Head: play Children: [cold, northern]\n",
      "Token: play Head: feel Children: [a, breeze, upon]\n",
      "Token: upon Head: play Children: [cheeks]\n",
      "Token: my Head: cheeks Children: []\n",
      "Token: cheeks Head: upon Children: [my, ,, braces]\n",
      "Token: , Head: cheeks Children: []\n",
      "Token: which Head: braces Children: []\n",
      "Token: braces Head: cheeks Children: [which, nerves, and, fills]\n",
      "Token: my Head: nerves Children: []\n",
      "Token: nerves Head: braces Children: [my]\n",
      "Token: and Head: braces Children: []\n",
      "Token: fills Head: braces Children: [me, with]\n",
      "Token: me Head: fills Children: []\n",
      "Token: with Head: fills Children: [delight]\n",
      "Token: delight Head: with Children: []\n",
      "Token: . Head: feel Children: []\n"
     ]
    }
   ],
   "source": [
    "print(example,'\\n')\n",
    "\n",
    "for token in doc:\n",
    "    print('Token:',token.text,'Head:',token.head.text, 'Children:',[child for child in token.children])"
   ]
  },
  {
   "cell_type": "markdown",
   "metadata": {},
   "source": [
    "### Counting word occurences"
   ]
  },
  {
   "cell_type": "markdown",
   "metadata": {},
   "source": [
    "**1. 使用 `Counter` 统计单词频率**\n",
    "```python\n",
    "word_freq = Counter(words)\n",
    "```\n",
    "- **`Counter`**：\n",
    "\n",
    "  - `Counter` 是 Python 的标准库 `collections` 提供的一个类，用于快速统计对象的频率。\n",
    "\n",
    "  - `Counter(words)` 会返回一个字典，键是 `words` 中的单词，值是对应单词的出现次数。\n",
    "\n",
    "- **`word_freq` 示例**：\n",
    "  ```python\n",
    "  word_freq = Counter({'The': 1, 'quick': 1, 'brown': 1, 'fox': 1, 'jumps': 1, 'over': 1, 'the': 1, 'lazy': 1, 'dog': 1, '.': 1})\n",
    "  ```\n",
    "\n",
    "**2. 获取按频率排序的单词**\n",
    "```python\n",
    "common_words = word_freq.most_common()\n",
    "```\n",
    "- **`most_common()`**：\n",
    "\n",
    "  - `Counter.most_common()` 返回一个列表，包含按频率从高到低排序的键值对。\n",
    "\n",
    "  - 每个键值对是一个元组 `(单词, 频率)`。"
   ]
  },
  {
   "cell_type": "code",
   "execution_count": 84,
   "metadata": {},
   "outputs": [
    {
     "name": "stdout",
     "output_type": "stream",
     "text": [
      "I am already far north of London, and as I walk in the streets of Petersburgh, I feel a cold northern breeze play upon my cheeks, which braces my nerves and fills me with delight. \n",
      "\n",
      "[('I', 3), (',', 3), ('of', 2), ('and', 2), ('my', 2), ('am', 1), ('already', 1), ('far', 1), ('north', 1), ('London', 1), ('as', 1), ('walk', 1), ('in', 1), ('the', 1), ('streets', 1), ('Petersburgh', 1), ('feel', 1), ('a', 1), ('cold', 1), ('northern', 1), ('breeze', 1), ('play', 1), ('upon', 1), ('cheeks', 1), ('which', 1), ('braces', 1), ('nerves', 1), ('fills', 1), ('me', 1), ('with', 1), ('delight', 1), ('.', 1)]\n"
     ]
    }
   ],
   "source": [
    "from collections import Counter\n",
    "\n",
    "print(example,'\\n')\n",
    "words = [token.text for token in doc]\n",
    "\n",
    "# five most common tokens\n",
    "word_freq = Counter(words)\n",
    "common_words = word_freq.most_common()\n",
    "\n",
    "print(common_words)"
   ]
  },
  {
   "cell_type": "markdown",
   "metadata": {},
   "source": [
    "### Without stop words and punctuation"
   ]
  },
  {
   "cell_type": "markdown",
   "metadata": {},
   "source": [
    "**提取分词并过滤停用词和标点**\n",
    "```python\n",
    "words = [token.text for token in doc if token.is_stop != True and token.is_punct != True]\n",
    "```\n",
    "\n",
    "- **列表推导式**：\n",
    "\n",
    "  - 遍历 `doc` 中的每个分词 `token`，对分词进行过滤，提取符合条件的单词。\n",
    "\n",
    "  - 条件：\n",
    "\n",
    "    - **`token.is_stop != True`**：\n",
    "\n",
    "      - 排除停用词（`is_stop` 是一个布尔属性，表示分词是否为停用词）。\n",
    "\n",
    "    - **`token.is_punct != True`**：\n",
    "\n",
    "      - 排除标点符号（`is_punct` 是一个布尔属性，表示分词是否为标点符号）。\n",
    "\n",
    "  - 满足上述条件的分词会被保留下来，并将其 `token.text`（文本内容）加入列表 `words`。\n",
    "\n",
    "- **过滤后的单词示例**：\n",
    "\n",
    "  - 输入文本：`\"The quick brown fox jumps over the lazy dog.\"`\n",
    "\n",
    "  - 输出列表：`['quick', 'brown', 'fox', 'jumps', 'lazy', 'dog']`\n",
    "\n",
    "    - **`\"The\"` 和 `\"over\"` 是停用词，被过滤掉。**\n",
    "\n",
    "    - **`\".\"` 是标点符号，被过滤掉。**"
   ]
  },
  {
   "cell_type": "code",
   "execution_count": 85,
   "metadata": {},
   "outputs": [
    {
     "name": "stdout",
     "output_type": "stream",
     "text": [
      "[('far', 1), ('north', 1), ('London', 1), ('walk', 1), ('streets', 1), ('Petersburgh', 1), ('feel', 1), ('cold', 1), ('northern', 1), ('breeze', 1), ('play', 1), ('cheeks', 1), ('braces', 1), ('nerves', 1), ('fills', 1), ('delight', 1)]\n"
     ]
    }
   ],
   "source": [
    "words = [token.text for token in doc if token.is_stop != True and token.is_punct != True]\n",
    "\n",
    "# five most common tokens\n",
    "word_freq = Counter(words)\n",
    "common_words = word_freq.most_common()\n",
    "\n",
    "print(common_words)"
   ]
  },
  {
   "cell_type": "markdown",
   "metadata": {},
   "source": [
    "## Putting all the components together"
   ]
  },
  {
   "cell_type": "markdown",
   "metadata": {},
   "source": [
    "### Under the hood: the pipeline [\"tokenizer\",\"tagger\", \"parser\", \"ner\"]."
   ]
  },
  {
   "cell_type": "markdown",
   "metadata": {},
   "source": [
    "#### The NLP pipeline with Spacy\n",
    "<img src=\"spacy.png\">"
   ]
  },
  {
   "cell_type": "code",
   "execution_count": 86,
   "metadata": {},
   "outputs": [],
   "source": [
    "nlp = spacy.load('en_core_web_sm')"
   ]
  },
  {
   "cell_type": "markdown",
   "metadata": {},
   "source": [
    "### If you don't need a particular component of the pipeline – for example, the tagger or the parser, you can disable loading it. This can sometimes make a big difference and improve loading speed. "
   ]
  },
  {
   "cell_type": "code",
   "execution_count": 87,
   "metadata": {},
   "outputs": [
    {
     "data": {
      "text/plain": [
       "('tagger', <spacy.pipeline.tagger.Tagger at 0x1ec0caf1550>)"
      ]
     },
     "execution_count": 87,
     "metadata": {},
     "output_type": "execute_result"
    }
   ],
   "source": [
    "nlp.remove_pipe('parser')\n",
    "nlp.remove_pipe('tagger')"
   ]
  },
  {
   "cell_type": "markdown",
   "metadata": {},
   "source": [
    "# Task 1: Sentiment analysis"
   ]
  },
  {
   "cell_type": "markdown",
   "metadata": {},
   "source": [
    "### Initialize the analyzer. Typically used for data from social media (short sentences)."
   ]
  },
  {
   "cell_type": "markdown",
   "metadata": {},
   "source": [
    "**1. 初始化情感分析器**\n",
    "```python\n",
    "analyzer = SentimentIntensityAnalyzer()\n",
    "```\n",
    "\n",
    "- **`SentimentIntensityAnalyzer`**：\n",
    "\n",
    "  - 来自 `VADER`（Valence Aware Dictionary and sEntiment Reasoner）库。\n",
    "\n",
    "  - 是一种基于词典的方法，用于进行短文本情感分析，特别适用于社交媒体、短句、评论等非正式文本。\n",
    "\n",
    "  - 词典包含一些带有情感分数的词汇（例如，\"good\" 的情感得分为正，\"bad\" 的情感得分为负）。\n",
    "\n",
    "- **初始化 `analyzer`**：\n",
    "  - 创建一个情感分析器实例，用于分析文本的情感得分。\n",
    "\n",
    "**2. 计算情感极性得分**\n",
    "```python\n",
    "vs = analyzer.polarity_scores(example)\n",
    "```\n",
    "\n",
    "- **`polarity_scores` 方法**：\n",
    "\n",
    "  - 输入：文本（`example`）。\n",
    "\n",
    "  - 输出：一个包含四种情感得分的字典。\n",
    "\n",
    "- **得分的四个组成部分**：\n",
    "\n",
    "  - **`neg`**：负向情感得分（负面情绪占比）。\n",
    "\n",
    "  - **`neu`**：中性情感得分（中性情绪占比）。\n",
    "\n",
    "  - **`pos`**：正向情感得分（正面情绪占比）。\n",
    "\n",
    "  - **`compound`**：综合情感得分（整体情感倾向）。\n",
    "\n",
    "- **`compound` 得分范围**：\n",
    "\n",
    "  - 值域为 `[-1, 1]`。\n",
    "\n",
    "  - 越接近 `1`，表明情感越正向。\n",
    "\n",
    "  - 越接近 `-1`，表明情感越负向。\n",
    "\n",
    "  - `0` 表示中性。\n",
    "\n",
    "**运行示例**\n",
    "\n",
    "**输入文本**\n",
    "```python\n",
    "example = \"I absolutely love this product! It's amazing and works perfectly.\"\n",
    "```\n",
    "\n",
    "**输出**\n",
    "```plaintext\n",
    "{'neg': 0.0, 'neu': 0.382, 'pos': 0.618, 'compound': 0.8945}\n",
    "```\n",
    "\n",
    "**结果解读**\n",
    "\n",
    "- **`neg`**：`0.0`\n",
    "\n",
    "  - 文本中没有负向情感的成分。\n",
    "\n",
    "- **`neu`**：`0.382`\n",
    "\n",
    "  - 文本中有 38.2% 的成分是中性的。\n",
    "\n",
    "- **`pos`**：`0.618`\n",
    "\n",
    "  - 文本中有 61.8% 的成分是正向情感的。\n",
    "\n",
    "- **`compound`**：`0.8945`\n",
    "\n",
    "  - 综合得分为 `0.8945`，表示文本整体情感非常正向。"
   ]
  },
  {
   "cell_type": "code",
   "execution_count": 88,
   "metadata": {},
   "outputs": [],
   "source": [
    "analyzer = SentimentIntensityAnalyzer()\n",
    "vs = analyzer.polarity_scores(example)"
   ]
  },
  {
   "cell_type": "markdown",
   "metadata": {},
   "source": [
    "### The sentiment score consits of four values. Neutral, positive and negative sum to one. The final score is obtained by thresholding the compound value (e.g. +/-0.05)."
   ]
  },
  {
   "cell_type": "code",
   "execution_count": 89,
   "metadata": {},
   "outputs": [
    {
     "name": "stdout",
     "output_type": "stream",
     "text": [
      "I am already far north of London, and as I walk in the streets of Petersburgh, I feel a cold northern breeze play upon my cheeks, which braces my nerves and fills me with delight. \n",
      "\n",
      "Negative sentiment: 0.035\n",
      "Neutral sentiment: 0.806\n",
      "Positive sentiment: 0.159\n",
      "Compound sentiment: 0.7096\n"
     ]
    }
   ],
   "source": [
    "print(example, '\\n')\n",
    "print('Negative sentiment:',vs['neg'])\n",
    "print('Neutral sentiment:',vs['neu'])\n",
    "print('Positive sentiment:',vs['pos'])\n",
    "print('Compound sentiment:',vs['compound'])"
   ]
  },
  {
   "cell_type": "markdown",
   "metadata": {},
   "source": [
    "### We can now observe the distributions of sentiment across all sentences in the book Pride and Prejudice:"
   ]
  },
  {
   "cell_type": "code",
   "execution_count": 90,
   "metadata": {},
   "outputs": [],
   "source": [
    "nlp = spacy.load('en_core_web_sm')\n",
    "doc = nlp(books[3])"
   ]
  },
  {
   "cell_type": "markdown",
   "metadata": {},
   "source": [
    "**1. 初始化空列表**\n",
    "```python\n",
    "positive_sent = []\n",
    "```\n",
    "- `positive_sent`：用于存储每个句子的正向情感得分。\n",
    "\n",
    "**2. 遍历每个句子，计算正向情感分数**\n",
    "```python\n",
    "[positive_sent.append(analyzer.polarity_scores(sent.text)['pos']) for sent in doc.sents]\n",
    "```\n",
    "\n",
    "- **`doc.sents`**：\n",
    "\n",
    "  - `doc` 是通过 spaCy 处理的文档对象，`doc.sents` 是文档中所有句子的迭代器。\n",
    "\n",
    "  - 每个 `sent` 是一个句子对象，表示文档中的一个句子。\n",
    "\n",
    "- **`sent.text`**：\n",
    "  - 获取句子的原始文本。\n",
    "\n",
    "- **`analyzer.polarity_scores(sent.text)`**：\n",
    "\n",
    "  - 使用 `SentimentIntensityAnalyzer` 对句子的文本进行情感分析。\n",
    "\n",
    "  - 返回值是一个字典，包含句子的四种情感得分：`neg`（负向）、`neu`（中性）、`pos`（正向）和 `compound`（综合得分）。\n",
    "\n",
    "- **`['pos']`**：\n",
    "  - 提取当前句子的正向情感得分。\n",
    "\n",
    "- **`positive_sent.append()`**：\n",
    "  - 将当前句子的正向情感得分追加到 `positive_sent` 列表中。\n",
    "\n",
    "**3. 绘制正向情感得分的直方图**\n",
    "```python\n",
    "plt.hist(positive_sent, bins=15)\n",
    "```\n",
    "\n",
    "- **`plt.hist`**：\n",
    "\n",
    "  - 绘制直方图。\n",
    "\n",
    "  - 参数：\n",
    "\n",
    "    - `positive_sent`：数据来源，为每个句子的正向情感得分。\n",
    "\n",
    "    - `bins=15`：将数据划分为 15 个区间，每个区间的宽度均等。\n",
    "\n",
    "- **直方图的意义**：\n",
    "\n",
    "  - 统计每个正向情感得分区间中句子的数量。例如，`[0.0, 0.1]` 区间内有多少句子，`[0.1, 0.2]` 区间内有多少句子。"
   ]
  },
  {
   "cell_type": "code",
   "execution_count": 91,
   "metadata": {},
   "outputs": [
    {
     "data": {
      "image/png": "[encoded data removed]",
      "text/plain": [
       "<Figure size 640x480 with 1 Axes>"
      ]
     },
     "metadata": {},
     "output_type": "display_data"
    }
   ],
   "source": [
    "positive_sent = []\n",
    "#iterate through the sentences, get polarity scores, choose a value\n",
    "[positive_sent.append(analyzer.polarity_scores(sent.text)['pos']) for sent in doc.sents]\n",
    "# 可以改成\n",
    "# for sent in doc.sents:\n",
    "#   positive_sent.append(analyzer.polarity_scores(sent.text)['pos'])\n",
    "\n",
    "plt.hist(positive_sent,bins=15)\n",
    "plt.xlim([0,1])\n",
    "plt.ylim([0,8000])\n",
    "plt.xlabel('Positive sentiment')\n",
    "plt.ylabel('Number of sentences')\n",
    "plt.show()"
   ]
  },
  {
   "cell_type": "code",
   "execution_count": 92,
   "metadata": {},
   "outputs": [
    {
     "data": {
      "image/png": "[encoded data removed]",
      "text/plain": [
       "<Figure size 640x480 with 1 Axes>"
      ]
     },
     "metadata": {},
     "output_type": "display_data"
    }
   ],
   "source": [
    "negative_sent = []\n",
    "[negative_sent.append(analyzer.polarity_scores(sent.text)['neg']) for sent in doc.sents]\n",
    "plt.hist(negative_sent,bins=15)\n",
    "plt.xlim([0,1])\n",
    "plt.ylim([0,8000])\n",
    "plt.xlabel('Negative sentiment')\n",
    "plt.ylabel('Number of sentences')\n",
    "plt.show()"
   ]
  },
  {
   "cell_type": "code",
   "execution_count": 93,
   "metadata": {},
   "outputs": [
    {
     "data": {
      "image/png": "[encoded data removed]",
      "text/plain": [
       "<Figure size 640x480 with 1 Axes>"
      ]
     },
     "metadata": {},
     "output_type": "display_data"
    }
   ],
   "source": [
    "total_sent = []\n",
    "[total_sent.append(analyzer.polarity_scores(sent.text)['compound']) for sent in doc.sents]\n",
    "plt.hist(total_sent,bins = 15)\n",
    "plt.xlim([-1,1])\n",
    "plt.ylim([0,8000])\n",
    "plt.xlabel('Compound sentiment')\n",
    "plt.ylabel('Number of sentences')\n",
    "plt.show()"
   ]
  },
  {
   "cell_type": "code",
   "execution_count": 94,
   "metadata": {},
   "outputs": [
    {
     "name": "stdout",
     "output_type": "stream",
     "text": [
      "Number of positive sentences: 2734\n",
      "Number of negative sentences: 1343\n",
      "Number of neutral sentences: 1872\n"
     ]
    }
   ],
   "source": [
    "sents = [analyzer.polarity_scores(sent.text)['compound'] for sent in doc.sents]\n",
    "# 可以改成\n",
    "# sents = []\n",
    "# for sent in doc.sents:\n",
    "#   compound_score = analyzer.polarity_scores(sent.text)['compound']\n",
    "#   sents.append(compound_score)\n",
    "\n",
    "# np.array(sents)>=0.05 得到一个布尔数组，例如：[True, True, False, False, False, False]\n",
    "# NumPy 中，布尔值 True 被视为 1，False 被视为 0。\n",
    "# 使用 sum() 对布尔数组求和，即可统计满足条件的值的数量。\n",
    "print('Number of positive sentences:',sum(np.array(sents)>=0.05))\n",
    "print('Number of negative sentences:',sum(np.array(sents)<=-0.05))\n",
    "print('Number of neutral sentences:',sum(np.abs(np.array(sents))<0.05))"
   ]
  },
  {
   "cell_type": "markdown",
   "metadata": {},
   "source": [
    "#### Most of the sentences are quite neutral in sentiment. This is not the case when working with data from other sources (e.g., in social media opinions are strong and polarized (bimodal distribution))."
   ]
  },
  {
   "cell_type": "markdown",
   "metadata": {},
   "source": [
    "# Task 2: Document classification: Can we detect paragraphs from Frankenstein?"
   ]
  },
  {
   "cell_type": "markdown",
   "metadata": {},
   "source": [
    "这段代码的作用是**使用 `nltk` 加载指定目录下的文本文件**，并初始化一个用于处理文本的 `PlaintextCorpusReader` 对象，方便后续对文本进行分析。以下是逐步解析：\n",
    "\n",
    "- **`PlaintextCorpusReader`**：\n",
    "\n",
    "  - NLTK 中的一个类，用于读取目录下的普通文本文件。\n",
    "\n",
    "  - 它将每个文件视为一个语料库，可以通过指定的正则表达式匹配文件名，并将其加载。\n",
    "\n",
    "**1.查看 `PlaintextCorpusReader` 的帮助信息**\n",
    "```python\n",
    "?PlaintextCorpusReader\n",
    "```\n",
    "\n",
    "- 这行代码是查看 Python 对象的帮助信息的快捷方式。\n",
    "\n",
    "- 它会显示 `PlaintextCorpusReader` 的文档，告诉你它有哪些方法、参数以及功能。\n",
    "\n",
    "**2. 初始化 `PlaintextCorpusReader`**\n",
    "```python\n",
    "our_books = PlaintextCorpusReader(corpus_root, '.*.txt')\n",
    "```\n",
    "\n",
    "- **`corpus_root`**：\n",
    "\n",
    "  - 表示文本文件所在的目录路径。\n",
    "\n",
    "  - 假设 `corpus_root = './books/'`，则它会读取 `./books/` 目录中的文件。\n",
    "\n",
    "- **`'.*.txt'`**：\n",
    "\n",
    "  - 这是一个正则表达式，表示匹配所有以 `.txt` 结尾的文件。\n",
    "\n",
    "- **返回值**：\n",
    "  - `PlaintextCorpusReader` 对象 `our_books`，它可以用来访问文件内容、句子、段落等。\n",
    "\n",
    "**3. 查看加载的文件**\n",
    "```python\n",
    "print(our_books.fileids())\n",
    "```\n",
    "\n",
    "- **`our_books.fileids()`**：\n",
    "\n",
    "  - 方法 `fileids()` 会返回一个列表，包含目录中所有被加载的文件名。\n",
    "\n",
    "  - 例如：\n",
    "    ```python\n",
    "    ['frankenstein.txt', 'dracula.txt']\n",
    "    ```"
   ]
  },
  {
   "cell_type": "code",
   "execution_count": 95,
   "metadata": {},
   "outputs": [
    {
     "name": "stdout",
     "output_type": "stream",
     "text": [
      "['DRACULA.txt', 'Frankenstein.txt', 'Moby_Dick.txt', 'PRIDE_AND_PREJUDICE.txt']\n"
     ]
    },
    {
     "name": "stdout",
     "output_type": "stream",
     "text": [
      "\u001b[1;31mInit signature:\u001b[0m\n",
      "\u001b[0mPlaintextCorpusReader\u001b[0m\u001b[1;33m(\u001b[0m\u001b[1;33m\n",
      "\u001b[0m    \u001b[0mroot\u001b[0m\u001b[1;33m,\u001b[0m\u001b[1;33m\n",
      "\u001b[0m    \u001b[0mfileids\u001b[0m\u001b[1;33m,\u001b[0m\u001b[1;33m\n",
      "\u001b[0m    \u001b[0mword_tokenizer\u001b[0m\u001b[1;33m=\u001b[0m\u001b[0mWordPunctTokenizer\u001b[0m\u001b[1;33m(\u001b[0m\u001b[0mpattern\u001b[0m\u001b[1;33m=\u001b[0m\u001b[1;34m'\\\\w+|[^\\\\w\\\\s]+'\u001b[0m\u001b[1;33m,\u001b[0m \u001b[0mgaps\u001b[0m\u001b[1;33m=\u001b[0m\u001b[1;32mFalse\u001b[0m\u001b[1;33m,\u001b[0m \u001b[0mdiscard_empty\u001b[0m\u001b[1;33m=\u001b[0m\u001b[1;32mTrue\u001b[0m\u001b[1;33m,\u001b[0m \u001b[0mflags\u001b[0m\u001b[1;33m=\u001b[0m\u001b[0mre\u001b[0m\u001b[1;33m.\u001b[0m\u001b[0mUNICODE\u001b[0m\u001b[1;33m|\u001b[0m\u001b[0mre\u001b[0m\u001b[1;33m.\u001b[0m\u001b[0mMULTILINE\u001b[0m\u001b[1;33m|\u001b[0m\u001b[0mre\u001b[0m\u001b[1;33m.\u001b[0m\u001b[0mDOTALL\u001b[0m\u001b[1;33m)\u001b[0m\u001b[1;33m,\u001b[0m\u001b[1;33m\n",
      "\u001b[0m    \u001b[0msent_tokenizer\u001b[0m\u001b[1;33m=\u001b[0m\u001b[1;32mNone\u001b[0m\u001b[1;33m,\u001b[0m\u001b[1;33m\n",
      "\u001b[0m    \u001b[0mpara_block_reader\u001b[0m\u001b[1;33m=\u001b[0m\u001b[1;33m<\u001b[0m\u001b[0mfunction\u001b[0m \u001b[0mread_blankline_block\u001b[0m \u001b[0mat\u001b[0m \u001b[1;36m0x000001EC09507060\u001b[0m\u001b[1;33m>\u001b[0m\u001b[1;33m,\u001b[0m\u001b[1;33m\n",
      "\u001b[0m    \u001b[0mencoding\u001b[0m\u001b[1;33m=\u001b[0m\u001b[1;34m'utf8'\u001b[0m\u001b[1;33m,\u001b[0m\u001b[1;33m\n",
      "\u001b[0m\u001b[1;33m)\u001b[0m\u001b[1;33m\u001b[0m\u001b[1;33m\u001b[0m\u001b[0m\n",
      "\u001b[1;31mDocstring:\u001b[0m     \n",
      "Reader for corpora that consist of plaintext documents.  Paragraphs\n",
      "are assumed to be split using blank lines.  Sentences and words can\n",
      "be tokenized using the default tokenizers, or by custom tokenizers\n",
      "specified as parameters to the constructor.\n",
      "\n",
      "This corpus reader can be customized (e.g., to skip preface\n",
      "sections of specific document formats) by creating a subclass and\n",
      "overriding the ``CorpusView`` class variable.\n",
      "\u001b[1;31mInit docstring:\u001b[0m\n",
      "Construct a new plaintext corpus reader for a set of documents\n",
      "located at the given root directory.  Example usage:\n",
      "\n",
      "    >>> root = '/usr/local/share/nltk_data/corpora/webtext/'\n",
      "    >>> reader = PlaintextCorpusReader(root, '.*\\.txt') # doctest: +SKIP\n",
      "\n",
      ":param root: The root directory for this corpus.\n",
      ":param fileids: A list or regexp specifying the fileids in this corpus.\n",
      ":param word_tokenizer: Tokenizer for breaking sentences or\n",
      "    paragraphs into words.\n",
      ":param sent_tokenizer: Tokenizer for breaking paragraphs\n",
      "    into words.\n",
      ":param para_block_reader: The block reader used to divide the\n",
      "    corpus into paragraph blocks.\n",
      "\u001b[1;31mFile:\u001b[0m           d:\\users\\uji_crush\\anaconda3\\envs\\ada\\lib\\site-packages\\nltk\\corpus\\reader\\plaintext.py\n",
      "\u001b[1;31mType:\u001b[0m           type\n",
      "\u001b[1;31mSubclasses:\u001b[0m     CategorizedPlaintextCorpusReader, EuroparlCorpusReader, UdhrCorpusReader"
     ]
    }
   ],
   "source": [
    "# Let's load our corpus via NLTK this time\n",
    "from nltk.corpus import PlaintextCorpusReader\n",
    "?PlaintextCorpusReader\n",
    "our_books = PlaintextCorpusReader(corpus_root, '.*.txt')\n",
    "print(our_books.fileids())"
   ]
  },
  {
   "cell_type": "markdown",
   "metadata": {},
   "source": [
    "### We will segment the books into equally long chunks"
   ]
  },
  {
   "cell_type": "markdown",
   "metadata": {},
   "source": [
    "**1. 定义 `get_chunks` 函数**\n",
    "```python\n",
    "def get_chunks(l, n):\n",
    "    \"\"\"Yield successive n-sized chunks from l.\"\"\"\n",
    "    for i in range(0, len(l), n):\n",
    "        yield l[i:i + n]\n",
    "```\n",
    "\n",
    "- **功能**：将列表 `l` 按照长度为 `n` 的块分割。\n",
    "\n",
    "- **输入**：\n",
    "\n",
    "  - `l`：要分割的列表。\n",
    "\n",
    "  - `n`：每块的大小。\n",
    "\n",
    "- **输出**：使用 `yield` 返回分块结果（生成器）。\n",
    "\n",
    "- **示例**：\n",
    "  ```python\n",
    "  l = [1, 2, 3, 4, 5, 6]\n",
    "  n = 2\n",
    "  chunks = list(get_chunks(l, n))  # [[1, 2], [3, 4], [5, 6]]\n",
    "  ```\n",
    "\n",
    "**2. 字典 `book_id`**\n",
    "```python\n",
    "book_id = {f: n for n, f in enumerate(our_books.fileids())}\n",
    "```\n",
    "\n",
    "- **功能**：为每本书分配一个唯一的编号。\n",
    "\n",
    "- **输入**：\n",
    "\n",
    "  - `our_books.fileids()`：返回所有加载的书籍文件名。\n",
    "\n",
    "- **输出**：\n",
    "\n",
    "  - `book_id`：一个字典，键是文件名，值是编号。\n",
    "\n",
    "- **示例**：\n",
    "  ```python\n",
    "  our_books.fileids() = ['book1.txt', 'book2.txt']\n",
    "  book_id = {'book1.txt': 0, 'book2.txt': 1}\n",
    "  ```\n",
    "\n",
    "**3. 初始化变量**\n",
    "```python\n",
    "chunks = list()\n",
    "chunk_class = list()\n",
    "limit = 500\n",
    "size = 50\n",
    "```\n",
    "\n",
    "- **`chunks`**：保存所有书籍的分块数据，每个块是一个字符串。\n",
    "\n",
    "- **`chunk_class`**：保存每个块的原始书籍编号，用于后续分类任务。\n",
    "\n",
    "- **`limit`**：每本书最多提取的块数量。\n",
    "\n",
    "- **`size`**：每个块包含的句子数量。\n",
    "\n",
    "**4. 遍历所有书籍**\n",
    "```python\n",
    "for f in our_books.fileids():\n",
    "    sentences = our_books.sents(f)\n",
    "    print(f,\":\")\n",
    "    print('Number of sentences:',len(sentences))\n",
    "```\n",
    "\n",
    "- **`our_books.fileids()`**：获取每本书的文件名。\n",
    "\n",
    "- **`our_books.sents(f)`**：获取书籍 `f` 中的所有句子，返回一个列表，句子中的每个词是一个 token。\n",
    "\n",
    "- **打印信息**：输出书籍名和句子数量。\n",
    "\n",
    "\n",
    "**5. 按句子分块**\n",
    "```python\n",
    "chunks_of_sents = [x for x in get_chunks(sentences, size)]\n",
    "```\n",
    "\n",
    "- 使用 `get_chunks` 函数将句子列表 `sentences` 按 `size` （50）进行分块。\n",
    "\n",
    "- **`chunks_of_sents`** 是一个列表，每个元素是一个包含 50 个句子的列表。\n",
    "\n",
    "**6. 处理块，合并为字符串**\n",
    "```python\n",
    "chs = list()\n",
    "for c in chunks_of_sents:\n",
    "    grouped_chunk = list()\n",
    "    for s in c:\n",
    "        grouped_chunk.extend(s)\n",
    "    chs.append(\" \".join(grouped_chunk))\n",
    "```\n",
    "\n",
    "- **功能**：将块中的句子转换为单个字符串块。\n",
    "\n",
    "- **操作步骤**：\n",
    "\n",
    "  1. 遍历每个块 `c`（`c` 是一个句子列表，句子是 token 列表）。\n",
    "\n",
    "  2. 将块中的所有句子合并为一个列表 `grouped_chunk`。\n",
    "\n",
    "  3. 用 `\" \".join()` 将词用空格拼接成字符串。\n",
    "\n",
    "  4. 将字符串块追加到 `chs`。\n",
    "\n",
    "**7. 统计分块数量**\n",
    "```python\n",
    "print(\"Number of chunks:\", len(chs), '\\n')\n",
    "```\n",
    "\n",
    "- 打印当前书籍的总分块数量。\n",
    "\n",
    "**8. 限制块数量并记录信息**\n",
    "```python\n",
    "chunks.extend(chs[:limit])\n",
    "chunk_class.extend([book_id[f] for _ in range(len(chs[:limit]))])\n",
    "```\n",
    "\n",
    "- **限制块数量**：\n",
    "  - `chs[:limit]`：只保留前 `limit`（500）个块。\n",
    "\n",
    "  - `chunks.extend()`：将这些块添加到总块列表 `chunks` 中。\n",
    "\n",
    "- **记录块的书籍编号**：\n",
    "\n",
    "  - `[book_id[f] for _ in range(len(chs[:limit]))]`：\n",
    "\n",
    "    - 生成一个列表，长度为当前块数量，每个元素为当前书籍的编号。\n",
    "\n",
    "    - 添加到 `chunk_class` 中。\n",
    "\n",
    "**代码输出示例**\n",
    "\n",
    "假设：\n",
    "- 有两本书，分别是 `book1.txt` 和 `book2.txt`。\n",
    "- 每本书有 600 句，每块包含 50 句，限制为 500 块。\n",
    "\n",
    "输出：\n",
    "```plaintext\n",
    "book1.txt :\n",
    "Number of sentences: 600\n",
    "Number of chunks: 12\n",
    "\n",
    "book2.txt :\n",
    "Number of sentences: 600\n",
    "Number of chunks: 12\n",
    "```\n",
    "\n",
    "最终：\n",
    "- `chunks` 包含两个书籍的块，最多 500 个。\n",
    "- `chunk_class` 包含每个块的对应书籍编号。"
   ]
  },
  {
   "cell_type": "code",
   "execution_count": 96,
   "metadata": {},
   "outputs": [
    {
     "name": "stdout",
     "output_type": "stream",
     "text": [
      "DRACULA.txt :\n",
      "Number of sentences: 9303\n",
      "Number of chunks: 187 \n",
      "\n",
      "Frankenstein.txt :\n",
      "Number of sentences: 3378\n",
      "Number of chunks: 68 \n",
      "\n",
      "Moby_Dick.txt :\n",
      "Number of sentences: 9609\n",
      "Number of chunks: 193 \n",
      "\n",
      "PRIDE_AND_PREJUDICE.txt :\n",
      "Number of sentences: 6055\n",
      "Number of chunks: 122 \n",
      "\n"
     ]
    }
   ],
   "source": [
    "def get_chunks(l, n):\n",
    "    \"\"\"Yield successive n-sized chunks from l.\"\"\"\n",
    "    for i in range(0, len(l), n):\n",
    "        yield l[i:i + n]\n",
    "\n",
    "\n",
    "# Get the data\n",
    "book_id = {f:n for n,f in enumerate(our_books.fileids())} # dictionary of books\n",
    "\n",
    "chunks = list()\n",
    "chunk_class = list() # this list contains the original book of the chunk, for evaluation\n",
    "\n",
    "limit = 500 # how many chunks total\n",
    "size = 50 # how many sentences per chunk/page\n",
    "\n",
    "for f in our_books.fileids():\n",
    "    sentences = our_books.sents(f)\n",
    "    print(f,\":\")\n",
    "    print('Number of sentences:',len(sentences))\n",
    "    \n",
    "    # create chunks\n",
    "    chunks_of_sents = [x for x in get_chunks(sentences,size)] # this is a list of lists of sentences, which are a list of tokens\n",
    "    chs = list()\n",
    "    \n",
    "    # regroup so to have a list of chunks which are strings\n",
    "    for c in chunks_of_sents:\n",
    "        grouped_chunk = list()\n",
    "        for s in c:\n",
    "            grouped_chunk.extend(s)\n",
    "        chs.append(\" \".join(grouped_chunk))\n",
    "    print(\"Number of chunks:\",len(chs),'\\n')\n",
    "    \n",
    "    # filter to the limit, to have the same number of chunks per book\n",
    "    chunks.extend(chs[:limit])\n",
    "    chunk_class.extend([book_id[f] for _ in range(len(chs[:limit]))])"
   ]
  },
  {
   "cell_type": "markdown",
   "metadata": {},
   "source": [
    "### Representing the chunks with bag-of-words"
   ]
  },
  {
   "cell_type": "markdown",
   "metadata": {},
   "source": [
    "**1. 初始化 `CountVectorizer`**\n",
    "```python\n",
    "vectorizer = CountVectorizer()\n",
    "```\n",
    "- **`CountVectorizer`** 是 scikit-learn 中的工具，用于将文本转化为词袋模型（bag-of-words）的特征表示。\n",
    "\n",
    "- **词袋模型**：每个文档被表示为一个稀疏矩阵，矩阵的每一列代表一个词，值是词在文档中出现的次数。\n",
    "\n",
    "**2. 可选参数 `min_df`**\n",
    "```python\n",
    "# vectorizer = CountVectorizer(min_df = 2)\n",
    "```\n",
    "- 如果启用 `min_df=2`，仅保留在至少 2 个文档中出现的词。这可以减少特征的数量，避免过于稀疏的矩阵，提升计算效率。\n",
    "\n",
    "**3. 创建 Bag-of-Words 特征**\n",
    "```python\n",
    "X = vectorizer.fit_transform(chunks)\n",
    "```\n",
    "\n",
    "- **`fit_transform(chunks)`**：\n",
    "\n",
    "  - `fit`：学习词汇表，将所有文本块的所有词汇提取成一个唯一词的集合。\n",
    "\n",
    "  - `transform`：将 `chunks` 转换为稀疏矩阵，矩阵的形状为 (文档数, 特征数)。\n",
    "\n",
    "  - 每个文本块（chunk）对应矩阵中的一行，每个词对应一列。\n",
    "\n",
    "**4. 打印特征矩阵的维度**\n",
    "```python\n",
    "print('Number of samples:', X.toarray().shape[0])\n",
    "print('Number of features:', X.toarray().shape[1])\n",
    "```\n",
    "- `X.toarray().shape[0]`：文档数，即 `chunks` 的数量。\n",
    "- `X.toarray().shape[1]`：特征数，即提取出的唯一词汇总数。\n",
    "\n",
    "**5. 生成目标变量 Y**\n",
    "```python\n",
    "Y = np.array(chunk_class) == 1\n",
    "Y = Y.astype(int)\n",
    "```\n",
    "- `chunk_class` 是之前生成的块所属书籍的编号。\n",
    "\n",
    "- **目标变量 `Y`**：\n",
    "\n",
    "  - 判断 `chunk_class` 是否等于 `1`（即 `Frankenstein` 的编号）。\n",
    "\n",
    "  - 如果是 `Frankenstein` 的块，标记为 `1`；否则为 `0`。\n",
    "\n",
    "- `astype(int)`：将布尔值（`True/False`）转化为整型（`1/0`）。\n",
    "\n",
    "**6. 数据打乱**\n",
    "```python\n",
    "X, Y = shuffle(X, Y, random_state=0)\n",
    "```\n",
    "- 使用 `shuffle` 打乱特征 `X` 和目标变量 `Y` 的顺序。\n",
    "\n",
    "- 设置 `random_state=0` 确保每次打乱的结果相同（可复现性）。\n",
    "\n",
    "**7. 划分训练集和测试集**\n",
    "```python\n",
    "X_train, X_test, Y_train, Y_test = train_test_split(X, Y, test_size=0.2, random_state=42)\n",
    "```\n",
    "- **`train_test_split`**：将数据集随机拆分为训练集和测试集。\n",
    "\n",
    "- 参数：\n",
    "\n",
    "  - `X`：特征矩阵（文本块的词袋表示）。\n",
    "\n",
    "  - `Y`：目标变量（是否属于 `Frankenstein`）。\n",
    "\n",
    "  - `test_size=0.2`：测试集占总数据的 20%，训练集占 80%。\n",
    "\n",
    "  - `random_state=42`：固定随机种子，保证可复现性。\n",
    "\n",
    "- 输出：\n",
    "\n",
    "  - `X_train` 和 `Y_train`：用于训练模型的数据。\n",
    "\n",
    "  - `X_test` 和 `Y_test`：用于评估模型性能的数据。"
   ]
  },
  {
   "cell_type": "code",
   "execution_count": 97,
   "metadata": {},
   "outputs": [
    {
     "name": "stdout",
     "output_type": "stream",
     "text": [
      "Number of samples: 570\n",
      "Number of features: 23116\n"
     ]
    }
   ],
   "source": [
    "vectorizer = CountVectorizer()\n",
    "\n",
    "#initialize and specify minumum number of occurences to avoid untractable number of features\n",
    "#vectorizer = CountVectorizer(min_df = 2) if we want high frequency\n",
    "\n",
    "#create bag of words features\n",
    "X = vectorizer.fit_transform(chunks)\n",
    "\n",
    "print('Number of samples:',X.toarray().shape[0])\n",
    "print('Number of features:',X.toarray().shape[1])\n",
    "\n",
    "#mask and convert to int Frankenstein\n",
    "Y = np.array(chunk_class) == 1\n",
    "Y = Y.astype(int)  \n",
    "\n",
    "#shuffle the data\n",
    "X, Y = shuffle(X, Y, random_state=0)\n",
    "\n",
    "#split into training and test set\n",
    "X_train, X_test, Y_train, Y_test = train_test_split(X, Y, test_size=0.2, random_state=42)"
   ]
  },
  {
   "cell_type": "markdown",
   "metadata": {},
   "source": [
    "### Let's fit the regularized logistic regression. We will crossvalidate the regularization parameter on the training set."
   ]
  },
  {
   "cell_type": "markdown",
   "metadata": {},
   "source": [
    "**1. 正则化的逻辑回归**\n",
    "```python\n",
    "clf = LogisticRegression(random_state=0, solver='lbfgs', C=c)\n",
    "```\n",
    "\n",
    "- **正则化参数 \\( C \\)**：\n",
    "  - 参数 `C` 是正则化参数的倒数（\\( C = 1 / \\lambda \\)）。\n",
    "  - **正则化作用**：在模型中防止过拟合：\n",
    "    - \\( C \\) 越小，正则化强度越高（强烈惩罚大权重）。\n",
    "    - \\( C \\) 越大，正则化强度越弱（接近普通逻辑回归）。\n",
    "\n",
    "- **参数含义**：\n",
    "  - `random_state=0`：固定随机种子，确保结果可复现。\n",
    "  - `solver='lbfgs'`：使用 L-BFGS 算法优化，这是适合小到中等规模数据的优化器。\n",
    "\n",
    "**2. 网格搜索（Grid Search）**\n",
    "```python\n",
    "grid = [0.01, 0.1, 1, 10, 100, 1000, 10000]\n",
    "```\n",
    "\n",
    "- 定义了一个包含多个 \\( C \\) 值的列表 `grid`，用于测试不同的正则化强度。\n",
    "\n",
    "**3. 交叉验证**\n",
    "```python\n",
    "scores = cross_val_score(clf, X_train, Y_train, cv=10)\n",
    "```\n",
    "\n",
    "- **交叉验证（Cross-validation）**：\n",
    "  - 将训练集 `X_train` 和 `Y_train` 分成 10 个子集（`cv=10`）。\n",
    "  - 每次从 10 个子集中选出一个作为验证集，其余 9 个作为训练集，重复 10 次。\n",
    "  - 计算每次验证的分数（如准确率 `accuracy`），得到 10 个分数。\n",
    "\n",
    "- **返回值 `scores`**：\n",
    "  - 一个长度为 10 的数组，包含每次验证的分数（准确率）。\n",
    "\n",
    "**4. 记录平均准确率**\n",
    "```python\n",
    "accs.append(np.mean(scores))\n",
    "```\n",
    "\n",
    "- 对每个正则化参数 \\( C \\)，取 10 次交叉验证分数的平均值，作为模型的总体性能表现。\n",
    "- `accs`：一个列表，记录了不同 \\( C \\) 值下模型的平均准确率。"
   ]
  },
  {
   "cell_type": "code",
   "execution_count": 98,
   "metadata": {},
   "outputs": [],
   "source": [
    "accs = []\n",
    "\n",
    "#the grid of regularization parameter \n",
    "grid = [0.01,0.1,1,10,100,1000,10000]\n",
    "\n",
    "for c in grid:\n",
    "    \n",
    "    #initialize the classifier\n",
    "    clf = LogisticRegression(random_state=0, solver='lbfgs',C = c)\n",
    "    \n",
    "    #crossvalidate\n",
    "    scores = cross_val_score(clf, X_train,Y_train, cv=10)\n",
    "    accs.append(np.mean(scores))"
   ]
  },
  {
   "cell_type": "markdown",
   "metadata": {},
   "source": [
    "**1. `plt.plot(accs)`**\n",
    "- `plt.plot(accs)` 默认的横坐标是索引（从 0 到 `len(accs)-1`），纵坐标是 `accs` 的值（对应每个正则化参数的平均准确率）。\n",
    "- 因此，画出的图横坐标默认是数字 0, 1, 2, ...。\n",
    "\n",
    "**2. `plt.xticks(range(len(grid)), grid)`**\n",
    "- **`range(len(grid))`**：\n",
    "  - 横坐标的索引范围，与 `grid` 和 `accs` 的长度一致。\n",
    "  - 每个点的横坐标位置为 0, 1, 2, ...。\n",
    "\n",
    "- **`grid`**：\n",
    "  - 替换默认的横坐标数字为正则化参数 `C` 的值。\n",
    "  - 每个 `C` 值与 `accs` 中的对应值匹配。\n",
    "\n",
    "- **效果**：\n",
    "  - 原来的横坐标是索引（0, 1, 2, ...），现在变成了对应的 `grid` 中的正则化参数值（如 0.01, 0.1, 1, ...）。"
   ]
  },
  {
   "cell_type": "code",
   "execution_count": 99,
   "metadata": {},
   "outputs": [
    {
     "data": {
      "image/png": "[encoded data removed]",
      "text/plain": [
       "<Figure size 640x480 with 1 Axes>"
      ]
     },
     "metadata": {},
     "output_type": "display_data"
    }
   ],
   "source": [
    "plt.plot(accs)\n",
    "plt.xticks(range(len(grid)), grid)\n",
    "plt.xlabel('Regularization parameter \\n (Low - strong regularization, High - weak regularization)')\n",
    "plt.ylabel('Crossvalidation accuracy')\n",
    "plt.ylim([0.986,1])\n",
    "plt.show()"
   ]
  },
  {
   "cell_type": "markdown",
   "metadata": {},
   "source": [
    "### Let's train again, on the entire training set, with the chosen regularization parameter. We will test on the test set"
   ]
  },
  {
   "cell_type": "markdown",
   "metadata": {},
   "source": [
    "**测试集预测**\n",
    "```python\n",
    "print('Accuracy:', clf.score(X_test, Y_test))\n",
    "```\n",
    "\n",
    "- **`.score(X_test, Y_test)`**：\n",
    "  - 直接计算模型在测试集上的 **准确率（Accuracy）**。\n",
    "  - **准确率公式**：\n",
    "    \\[\n",
    "    \\text{Accuracy} = \\frac{\\text{正确预测的样本数}}{\\text{总样本数}}\n",
    "    \\]\n",
    "  - 测试集数据：\n",
    "    - `X_test`：测试集的特征。\n",
    "    - `Y_test`：测试集的真实标签。\n",
    "  - 逻辑回归模型会对 `X_test` 的每个样本生成预测类别，然后将预测值与真实值 `Y_test` 进行比较，计算预测正确的比例。"
   ]
  },
  {
   "cell_type": "code",
   "execution_count": 100,
   "metadata": {},
   "outputs": [
    {
     "name": "stdout",
     "output_type": "stream",
     "text": [
      "Accuracy: 0.9824561403508771\n"
     ]
    }
   ],
   "source": [
    "clf = LogisticRegression(random_state=0, solver='lbfgs',C = 10).fit(X_train,Y_train)\n",
    "\n",
    "#predict on the test set\n",
    "print('Accuracy:',clf.score(X_test,Y_test))"
   ]
  },
  {
   "cell_type": "markdown",
   "metadata": {},
   "source": [
    "### What features characterize Frankenstein? BOW are interpretable!"
   ]
  },
  {
   "cell_type": "markdown",
   "metadata": {},
   "source": [
    "**1. 提取逻辑回归的系数**\n",
    "```python\n",
    "coefs = clf.coef_[0]\n",
    "```\n",
    "\n",
    "- **`clf.coef_`**：\n",
    "  - `clf.coef_` 是逻辑回归模型中每个特征的回归系数。\n",
    "  - 逻辑回归是一个线性模型，对于每个特征，模型会学习一个权重（系数），用于预测目标变量。\n",
    "  - `coef_` 是一个二维数组，形状为 `(1, n_features)`，这里 `[0]` 表示提取第一类的系数。\n",
    "\n",
    "- **作用**：\n",
    "  - 每个特征的系数表示它对分类任务的重要性：\n",
    "    - **正系数**：特征与目标值（`Frankenstein` 属于该类）正相关。\n",
    "    - **负系数**：特征与目标值负相关。\n",
    "\n",
    "**2. 找出最大的 20 个特征的索引**\n",
    "```python\n",
    "top_three = np.argpartition(coefs, -20)[-20:]\n",
    "```\n",
    "\n",
    "- **`np.argpartition()`**：\n",
    "  - `argpartition` 是 NumPy 中用于高效提取最小或最大的几个元素索引的方法。\n",
    "  - 这里 `-20` 表示找出系数值中最大的 20 个元素的索引。\n",
    "\n",
    "- **作用**：\n",
    "  - `top_three` 是一个包含 20 个索引的数组，对应模型中 20 个对分类最重要的特征。\n",
    "\n",
    "**3. 获取特征名称**\n",
    "```python\n",
    "np.array(vectorizer.get_feature_names())[top_three]\n",
    "```\n",
    "\n",
    "- **`vectorizer.get_feature_names_out()`**：\n",
    "  - `get_feature_names()` 是 `CountVectorizer` 的方法，用于返回所有特征（词汇）的名称。\n",
    "  - 每个特征对应 Bag-of-Words 模型中的一列（词汇）。\n",
    "  - 返回的是一个包含所有词汇的列表，长度为特征数（`n_features`）。\n",
    "\n",
    "- **`np.array(vectorizer.get_feature_names_out())`**：\n",
    "  - 将词汇列表转换为 NumPy 数组，以便通过索引提取。\n",
    "\n",
    "- **`[top_three]`**：\n",
    "  - 使用之前提取的索引数组 `top_three` 获取对应的特征名称。\n",
    "  - 输出是一个包含 20 个词汇的数组，表示对分类任务最重要的词。\n",
    "\n",
    "**输出示例**\n",
    "假设 `vectorizer.get_feature_names_out()` 返回的词汇表为：\n",
    "```python\n",
    "['monster', 'science', 'love', 'fear', 'creature', 'frankenstein', 'death', 'life', 'electricity', 'creation', ...]\n",
    "```\n",
    "\n",
    "假设提取的前 20 个特征索引是：\n",
    "```python\n",
    "top_three = [1, 4, 5, 7, 9, ...]\n",
    "```\n",
    "\n",
    "输出结果为：\n",
    "```python\n",
    "['science', 'creature', 'frankenstein', 'life', 'creation', ...]\n",
    "```"
   ]
  },
  {
   "cell_type": "code",
   "execution_count": 101,
   "metadata": {},
   "outputs": [
    {
     "name": "stdout",
     "output_type": "stream",
     "text": [
      "['frankenstein' 'towards' 'death' 'which' 'by' 'had' 'of' 'will' 'misery'\n",
      " 'but' 'father' 'my' 'yet' 'and' 'who' 'creature' 'justine' 'this' 'me'\n",
      " 'poor']\n"
     ]
    }
   ],
   "source": [
    "coefs=clf.coef_[0]\n",
    "top_three = np.argpartition(coefs, -20)[-20:]\n",
    "\n",
    "print(np.array(vectorizer.get_feature_names_out())[top_three])"
   ]
  },
  {
   "cell_type": "markdown",
   "metadata": {},
   "source": [
    "### We can perfectly predict paragraphs from Frankenstein! We saw issues of high dimensionality when using bag of words (more features than samples) and how regularization helps."
   ]
  },
  {
   "cell_type": "markdown",
   "metadata": {},
   "source": [
    "### Alternative text representation: word emdeddings, pretrained on intergraded in Spacy (300-dimensional word vectors trained on Common Crawl with GloVe.) Depending on the application, might be suitable or not"
   ]
  },
  {
   "cell_type": "markdown",
   "metadata": {},
   "source": [
    "**1. 预训练的词嵌入（Word Embeddings）**\n",
    "```python\n",
    "nlp(example).vector\n",
    "```\n",
    "\n",
    "- **`.vector`**：\n",
    "  - `vector` 是 `spaCy` 内置的预训练词嵌入，默认使用 GloVe（300维）。\n",
    "  - 它为整个文本段提供了一个向量表示，这是通过对段落中所有词向量的加权平均计算得到的。\n",
    "\n",
    "**2. 为什么用词嵌入？**\n",
    "词嵌入将每个单词映射为一个稠密向量（dense vector），这些向量具有以下特性：\n",
    "- **语义相似性**：相似意义的词会在向量空间中彼此接近。\n",
    "- **上下文无关**：默认情况下，`spaCy` 提供的 GloVe 词向量是上下文无关的（与 Transformer 模型不同）。\n",
    "\n",
    "**3. 代码功能**\n",
    "```python\n",
    "print('Embedding representation:', list((nlp(example).vector)[0:10]), '...')\n",
    "```\n",
    "\n",
    "- **`nlp(example).vector`**：\n",
    "  - 将文本 `example` 转换为一个 300 维的词向量。\n",
    "  - 示例向量的长度固定为 300，无论输入的文本长度是多少。\n",
    "\n",
    "- **`[0:10]`**：\n",
    "  - 截取向量的前 10 个值，方便展示。\n",
    "\n",
    "- **`list()`**：\n",
    "  - 将截取的向量部分转换为列表形式，便于打印输出。\n",
    "\n",
    "- **输出示例**：\n",
    "  - 如果向量值为 `[0.1, -0.2, 0.3, ..., 0.05]`，则输出类似：\n",
    "    ```plaintext\n",
    "    Embedding representation: [0.1, -0.2, 0.3, 0.4, -0.1, 0.05, 0.2, -0.3, 0.6, 0.7] ...\n",
    "    ```"
   ]
  },
  {
   "cell_type": "code",
   "execution_count": 102,
   "metadata": {},
   "outputs": [
    {
     "name": "stdout",
     "output_type": "stream",
     "text": [
      "I am already far north of London, and as I walk in the streets of Petersburgh, I feel a cold northern breeze play upon my cheeks, which braces my nerves and fills me with delight. \n",
      "\n",
      "Embedding representation: [0.20092034, -0.076974384, -0.23990451, -0.042965, 0.06303602, 0.0937523, 0.36673704, -0.08795012, 0.37766436, -0.11488456] ...\n"
     ]
    }
   ],
   "source": [
    "print(example,'\\n')\n",
    "print('Embedding representation:',list((nlp(example).vector)[0:10]),'...')"
   ]
  },
  {
   "cell_type": "markdown",
   "metadata": {},
   "source": [
    "# Task 3: Topic detection"
   ]
  },
  {
   "cell_type": "code",
   "execution_count": 103,
   "metadata": {},
   "outputs": [
    {
     "name": "stdout",
     "output_type": "stream",
     "text": [
      "DRACULA.txt\n",
      "Number of sentences: 9303\n",
      "Number of chunks: 187 \n",
      "\n",
      "Frankenstein.txt\n",
      "Number of sentences: 3378\n",
      "Number of chunks: 68 \n",
      "\n",
      "Moby_Dick.txt\n",
      "Number of sentences: 9609\n",
      "Number of chunks: 193 \n",
      "\n",
      "PRIDE_AND_PREJUDICE.txt\n",
      "Number of sentences: 6055\n",
      "Number of chunks: 122 \n",
      "\n"
     ]
    }
   ],
   "source": [
    "# Get the chunks again (into smaller chunks)\n",
    "book_id = {f:n for n,f in enumerate(our_books.fileids())} # dictionary of books\n",
    "chunks = list()\n",
    "chunk_class = list() # this list contains the original book of the chunk, for evaluation\n",
    "\n",
    "limit = 60 # how many chunks total\n",
    "size = 50 # how many sentences per chunk/page\n",
    "\n",
    "for f in our_books.fileids():\n",
    "    sentences = our_books.sents(f)\n",
    "    print(f)\n",
    "    print('Number of sentences:',len(sentences))\n",
    "    \n",
    "    # create chunks\n",
    "    chunks_of_sents = [x for x in get_chunks(sentences,size)] # this is a list of lists of sentences, which are a list of tokens\n",
    "    chs = list()\n",
    "    \n",
    "    # regroup so to have a list of chunks which are strings\n",
    "    for c in chunks_of_sents:\n",
    "        grouped_chunk = list()\n",
    "        for s in c:\n",
    "            grouped_chunk.extend(s)\n",
    "        chs.append(\" \".join(grouped_chunk))\n",
    "    print(\"Number of chunks:\",len(chs),'\\n')\n",
    "    \n",
    "    # filter to the limit, to have the same number of chunks per book\n",
    "    chunks.extend(chs[:limit])\n",
    "    chunk_class.extend([book_id[f] for _ in range(len(chs[:limit]))])"
   ]
  },
  {
   "cell_type": "markdown",
   "metadata": {},
   "source": [
    "**1. 遍历处理文档（文本块）**\n",
    "```python\n",
    "for doc in nlp.pipe(chunks, n_process=5, batch_size=10):\n",
    "```\n",
    "\n",
    "- **`nlp.pipe`**：\n",
    "  - `spaCy` 提供的并行处理方法，可以批量处理文本，提高速度。\n",
    "  - 参数：\n",
    "    - `chunks`：要处理的文本块列表。\n",
    "    - `n_process=5`：开启 5 个并行进程。\n",
    "    - `batch_size=10`：每次处理 10 个文本块。\n",
    "\n",
    "- **`doc`**：\n",
    "  - 每个 `doc` 是 `spaCy` 的 `Doc` 对象，包含了分词、词性标注、命名实体识别等信息。\n",
    "\n",
    "**2. 提取命名实体**\n",
    "```python\n",
    "ents = doc.ents  # Named entities\n",
    "```\n",
    "- **`doc.ents`**：\n",
    "  - 提取当前文档的所有命名实体（Named Entities），如人名、地名、日期等。\n",
    "  - 每个实体是一个 `Span` 对象。\n",
    "\n",
    "**3. 文本清理**\n",
    "```python\n",
    "doc = [token.lemma_ for token in doc if token.is_alpha and not token.is_stop]\n",
    "```\n",
    "- 逐个处理文档中的单词（`token`），完成以下操作：\n",
    "  1. **词形还原（Lemmatization）**：\n",
    "     - 使用 `token.lemma_` 获取单词的词根形式。例如，`running` 变为 `run`。\n",
    "  2. **过滤非字母**：\n",
    "     - 使用 `token.is_alpha` 只保留字母，去掉数字、标点符号等。\n",
    "  3. **去除停止词**：\n",
    "     - 使用 `not token.is_stop` 去掉常见的无意义单词。\n",
    "\n",
    "结果是一个只包含有意义单词的列表。\n",
    "\n",
    "**4. 进一步过滤**\n",
    "```python\n",
    "doc = [token for token in doc if token not in STOPWORDS and len(token) > 2]\n",
    "```\n",
    "- 再次过滤，完成以下操作：\n",
    "  1. **自定义停止词过滤**：\n",
    "     - 如果单词在 `STOPWORDS` 中（常用停用词列表），则移除。\n",
    "  2. **长度限制**：\n",
    "     - 去掉长度小于 3 的单词（长度过短的词通常意义不大）。\n",
    "\n",
    "**5. 添加命名实体**\n",
    "```python\n",
    "doc.extend([str(entity) for entity in ents if len(entity) > 1])\n",
    "```\n",
    "- 提取的命名实体也添加到文档中，但只保留长度大于 1 的实体（忽略单字实体）。\n",
    "- `str(entity)`：将命名实体转换为字符串。\n",
    "\n",
    "**6. 保存结果**\n",
    "```python\n",
    "processed_docs.append(doc)\n",
    "```\n",
    "- 将清理后的文档（一个列表，包含处理后的单词）添加到 `processed_docs` 列表中。\n",
    "\n",
    "**7. 输出结果**\n",
    "```python\n",
    "docs = processed_docs\n",
    "del processed_docs\n",
    "```\n",
    "- `processed_docs` 中保存的是所有清理后的文档。\n",
    "- 将其赋值给 `docs`，并删除 `processed_docs`（释放内存）。"
   ]
  },
  {
   "cell_type": "code",
   "execution_count": 104,
   "metadata": {},
   "outputs": [],
   "source": [
    "STOPWORDS = spacy.lang.en.stop_words.STOP_WORDS\n",
    "\n",
    "processed_docs = list()\n",
    "for doc in nlp.pipe(chunks, n_process=5, batch_size=10):\n",
    "\n",
    "    # Process document using Spacy NLP pipeline.\n",
    "    ents = doc.ents  # Named entities\n",
    "\n",
    "    # Keep only words (no numbers, no punctuation).\n",
    "    # Lemmatize tokens, remove punctuation and remove stopwords.\n",
    "    doc = [token.lemma_ for token in doc if token.is_alpha and not token.is_stop]\n",
    "\n",
    "    # Remove common words from a stopword list and keep only words of length 3 or more.\n",
    "    doc = [token for token in doc if token not in STOPWORDS and len(token) > 2]\n",
    "\n",
    "    # Add named entities, but only if they are a compound of more than word.\n",
    "    doc.extend([str(entity) for entity in ents if len(entity) > 1])\n",
    "\n",
    "    processed_docs.append(doc)\n",
    "docs = processed_docs\n",
    "del processed_docs"
   ]
  },
  {
   "cell_type": "markdown",
   "metadata": {},
   "source": [
    "这段代码的目的是在预处理后的文档中加入 **二元短语（bigrams）**，即由两个相邻单词组成的词组。例如，\"New York\" 会被识别为一个二元短语，并在原文档中作为一个新词添加进去。\n",
    "\n",
    "**1. 什么是二元短语（Bigrams）？**\n",
    "二元短语是由两个相邻的单词组成的组合，比如：\n",
    "- 在句子 \"I love machine learning\" 中，可能的二元短语是：\n",
    "  - `I love`\n",
    "  - `love machine`\n",
    "  - `machine learning`\n",
    "\n",
    "**2. `gensim.models.phrases.Phrases`**\n",
    "```python\n",
    "bigram = Phrases(docs, min_count=15)\n",
    "```\n",
    "\n",
    "- **功能**：\n",
    "  - `Phrases` 是 Gensim 中的模块，用于识别文本中的常见二元短语。\n",
    "  - 它会扫描 `docs`（文档列表）中的单词组合，计算它们的共现频率，发现高频短语。\n",
    "\n",
    "- **参数**：\n",
    "  - `min_count=15`：\n",
    "    - 仅识别在所有文档中出现次数大于或等于 15 次的二元短语。\n",
    "    - 例如，如果 \"New York\" 在文档中出现了 20 次，它会被识别为一个短语。\n",
    "    - 如果出现次数少于 15 次，则不会被视为短语。\n",
    "\n",
    "- **结果**：\n",
    "  - `bigram` 是一个可以用于检测二元短语的对象。\n",
    "\n",
    "**3. 遍历文档**\n",
    "```python\n",
    "for idx in range(len(docs)):\n",
    "    for token in bigram[docs[idx]]:\n",
    "        if '_' in token:\n",
    "            # Token is a bigram, add to document.\n",
    "            docs[idx].append(token)\n",
    "```\n",
    "\n",
    "- **逐步解析**：\n",
    "  - 遍历文档 `docs` 中的每个文档（`idx` 表示文档索引）。\n",
    "  - 对每个文档，使用 `bigram[docs[idx]]` 检测文档中是否包含二元短语。\n",
    "    - `bigram[docs[idx]]` 返回的是一个新的单词列表，包含原始单词和检测到的二元短语。\n",
    "  - 检测到的二元短语用下划线 `_` 连接，例如 `\"New York\"` 会变为 `\"New_York\"`。\n",
    "\n",
    "- **`if '_' in token`**：\n",
    "  - 检查当前 `token` 是否为二元短语（是否包含下划线 `_`）。\n",
    "  - 如果是，将该二元短语加入当前文档的单词列表中。\n",
    "\n",
    "- **结果**：\n",
    "  - 如果文档中检测到常见短语，这些短语会被添加到文档中。例如：\n",
    "    - 原始文档：`[\"new\", \"york\", \"city\"]`\n",
    "    - 检测到短语 `\"New_York\"`：\n",
    "      - 更新后文档：`[\"new\", \"york\", \"city\", \"New_York\"]`\n",
    "\n",
    "**4. 示例**\n",
    "\n",
    "**输入文档（预处理后的 `docs`）**\n",
    "```python\n",
    "docs = [\n",
    "    [\"new\", \"york\", \"city\", \"is\", \"beautiful\"],\n",
    "    [\"i\", \"live\", \"in\", \"new\", \"york\"],\n",
    "    [\"new\", \"york\", \"times\", \"is\", \"a\", \"famous\", \"newspaper\"]\n",
    "]\n",
    "```\n",
    "\n",
    "**识别短语**\n",
    "- 假设 `min_count=2`，程序会检测到以下二元短语：\n",
    "  - `\"new_york\"`（出现次数 >= 2）。\n",
    "\n",
    "**处理过程**\n",
    "- 第一篇文档：\n",
    "  - 输入：`[\"new\", \"york\", \"city\", \"is\", \"beautiful\"]`\n",
    "  - 检测到短语 `\"new_york\"`。\n",
    "  - 更新：`[\"new\", \"york\", \"city\", \"is\", \"beautiful\", \"new_york\"]`\n",
    "\n",
    "- 第二篇文档：\n",
    "  - 输入：`[\"i\", \"live\", \"in\", \"new\", \"york\"]`\n",
    "  - 检测到短语 `\"new_york\"`。\n",
    "  - 更新：`[\"i\", \"live\", \"in\", \"new\", \"york\", \"new_york\"]`\n",
    "\n",
    "**输出文档**\n",
    "```python\n",
    "docs = [\n",
    "    [\"new\", \"york\", \"city\", \"is\", \"beautiful\", \"new_york\"],\n",
    "    [\"i\", \"live\", \"in\", \"new\", \"york\", \"new_york\"],\n",
    "    [\"new\", \"york\", \"times\", \"is\", \"a\", \"famous\", \"newspaper\", \"new_york\"]\n",
    "]\n",
    "```"
   ]
  },
  {
   "cell_type": "code",
   "execution_count": 105,
   "metadata": {},
   "outputs": [],
   "source": [
    "# Add bigrams too\n",
    "from gensim.models.phrases import Phrases\n",
    "\n",
    "# Add bigrams to docs (only ones that appear 15 times or more).\n",
    "bigram = Phrases(docs, min_count=15)\n",
    "\n",
    "for idx in range(len(docs)):\n",
    "    for token in bigram[docs[idx]]:\n",
    "        if '_' in token:\n",
    "            # Token is a bigram, add to document.\n",
    "            docs[idx].append(token)"
   ]
  },
  {
   "cell_type": "markdown",
   "metadata": {},
   "source": [
    "这段代码的目的是对文档（`docs`）进行预处理，生成用于文本建模（例如 LDA 主题建模）的 **词袋表示（Bag-of-Words, BOW）**，并过滤掉太频繁或太稀有的词汇，以提高模型的性能。\n",
    "\n",
    "**1. 创建词典（Dictionary）**\n",
    "```python\n",
    "from gensim.corpora import Dictionary\n",
    "dictionary = Dictionary(docs)\n",
    "```\n",
    "\n",
    "- **`Dictionary`**:\n",
    "  - Gensim 的 `Dictionary` 类是一个轻量级的词汇表。\n",
    "  - 它会扫描所有文档（`docs`），将所有出现的词汇（token）映射为唯一的整数 ID。\n",
    "  - 词典同时记录每个单词的出现频率。\n",
    "  \n",
    "- **作用**：\n",
    "  - 创建一个映射表，将每个单词与一个唯一的整数 ID 关联。\n",
    "  - 例如：\n",
    "    ```plaintext\n",
    "    doc1 = [\"apple\", \"banana\", \"apple\"]\n",
    "    doc2 = [\"banana\", \"carrot\"]\n",
    "    Dictionary = { \"apple\": 0, \"banana\": 1, \"carrot\": 2 }\n",
    "    ```\n",
    "\n",
    "**2. 过滤高频和低频词**\n",
    "```python\n",
    "max_freq = 0.5\n",
    "min_wordcount = 5\n",
    "dictionary.filter_extremes(no_below=min_wordcount, no_above=max_freq)\n",
    "```\n",
    "\n",
    "- **`filter_extremes()`**:\n",
    "  - 去掉出现频率过高或过低的单词，以减少噪声和特征数。\n",
    "  \n",
    "- **参数**：\n",
    "  - `no_below=min_wordcount`:\n",
    "    - 去掉在所有文档中出现次数少于 `min_wordcount` 次的单词（稀有词）。\n",
    "    - 例如，如果 `min_wordcount=5`，在所有文档中出现次数少于 5 次的单词会被移除。\n",
    "  - `no_above=max_freq`:\n",
    "    - 去掉出现在所有文档中比例超过 `max_freq` 的单词（高频词）。\n",
    "    - 例如，如果 `max_freq=0.5`，出现在 50% 或以上文档中的单词会被移除。\n",
    "\n",
    "- **过滤后的效果**：\n",
    "  - 保留的信息量高的单词（即适度出现的单词）。\n",
    "  - 避免噪声：\n",
    "    - 稀有词通常只对个别文档有意义，无法帮助模型泛化。\n",
    "    - 高频词（如 \"the\", \"is\"）通常语义信息较少。\n",
    "\n",
    "**3. 生成词袋表示（Bag-of-Words, BOW）**\n",
    "```python\n",
    "corpus = [dictionary.doc2bow(doc) for doc in docs]\n",
    "```\n",
    "\n",
    "- **`doc2bow(doc)`**:\n",
    "  - 将每个文档转换为词袋表示（BOW），即单词 ID 和对应的词频。\n",
    "  - 每个文档的 BOW 表示为一个列表，列表中的每一项是一个 `(单词ID, 词频)` 的元组。\n",
    "\n",
    "- **BOW 示例**：\n",
    "  假设词典如下：\n",
    "  ```plaintext\n",
    "  { \"apple\": 0, \"banana\": 1, \"carrot\": 2 }\n",
    "  ```\n",
    "  - 文档 `[\"apple\", \"apple\", \"banana\"]` 转换为：\n",
    "    ```plaintext\n",
    "    [(0, 2), (1, 1)]\n",
    "    ```\n",
    "    这里 `(0, 2)` 表示单词 \"apple\" 的 ID 是 0，出现了 2 次。\n",
    "\n",
    "- **`corpus`**:\n",
    "  - 包含所有文档的 BOW 表示。\n",
    "\n",
    "**4. 打印结果**\n",
    "```python\n",
    "print('Number of unique tokens: %d' % len(dictionary))\n",
    "print('Number of chunks: %d' % len(corpus))\n",
    "```\n",
    "\n",
    "- **`len(dictionary)`**：\n",
    "  - 打印过滤后的词典中剩余的唯一单词数量。\n",
    "\n",
    "- **`len(corpus)`**：\n",
    "  - 打印语料库中文档的总数。\n",
    "\n",
    "**示例**\n",
    "\n",
    "**输入文档（docs）**\n",
    "```python\n",
    "docs = [\n",
    "    [\"apple\", \"banana\", \"apple\", \"orange\"],\n",
    "    [\"banana\", \"carrot\", \"carrot\"],\n",
    "    [\"apple\", \"banana\", \"carrot\", \"apple\", \"apple\"]\n",
    "]\n",
    "```\n",
    "\n",
    "**过滤条件**\n",
    "- `min_wordcount=2`：出现次数少于 2 的词被移除。\n",
    "- `max_freq=0.5`：出现在超过 50% 文档中的词被移除。\n",
    "\n",
    "**生成词典**\n",
    "```plaintext\n",
    "{ \"banana\": 0, \"carrot\": 1 }\n",
    "```\n",
    "\n",
    "**生成语料库（corpus）**\n",
    "```python\n",
    "corpus = [\n",
    "    [(0, 1)],\n",
    "    [(0, 1), (1, 2)],\n",
    "    [(0, 1), (1, 1)]\n",
    "]\n",
    "```\n",
    "\n",
    "**输出结果**\n",
    "```plaintext\n",
    "Number of unique tokens: 2\n",
    "Number of chunks: 3\n",
    "```"
   ]
  },
  {
   "cell_type": "code",
   "execution_count": 106,
   "metadata": {},
   "outputs": [
    {
     "name": "stdout",
     "output_type": "stream",
     "text": [
      "Number of unique tokens: 3087\n",
      "Number of chunks: 240\n"
     ]
    }
   ],
   "source": [
    "# Create a dictionary representation of the documents, and filter out frequent and rare words.\n",
    "from gensim.corpora import Dictionary\n",
    "dictionary = Dictionary(docs)\n",
    "\n",
    "# Remove rare and common tokens.\n",
    "# Filter out words that occur too frequently or too rarely.\n",
    "max_freq = 0.5\n",
    "min_wordcount = 5\n",
    "dictionary.filter_extremes(no_below=min_wordcount, no_above=max_freq)\n",
    "\n",
    "# Bag-of-words representation of the documents.\n",
    "corpus = [dictionary.doc2bow(doc) for doc in docs]\n",
    "#MmCorpus.serialize(\"models/corpus.mm\", corpus)\n",
    "\n",
    "print('Number of unique tokens: %d' % len(dictionary))\n",
    "print('Number of chunks: %d' % len(corpus))"
   ]
  },
  {
   "cell_type": "markdown",
   "metadata": {},
   "source": [
    "这段代码的目的是利用 Gensim 的 `LdaMulticore` 模型实现 **LDA（Latent Dirichlet Allocation）**，即潜在狄利克雷分布主题建模。LDA 是一种常用的无监督学习方法，用于从文档中提取主题。\n",
    "\n",
    "**1. 导入 `LdaMulticore`**\n",
    "```python\n",
    "from gensim.models import LdaMulticore\n",
    "```\n",
    "\n",
    "- **`LdaMulticore`**:\n",
    "  - 是 Gensim 中实现 LDA 的多线程版本。\n",
    "  - 它可以利用多核 CPU 并行化处理，加快训练速度，尤其是对于大规模语料库。\n",
    "  - 如果不需要并行，可以使用 `LdaModel`（单线程版本）。\n",
    "\n",
    "**2. 传递参数**\n",
    "```python\n",
    "params = {'passes': 10, 'random_state': seed}\n",
    "```\n",
    "\n",
    "- **`params`**:\n",
    "  - 一个字典，用于存储模型的超参数。\n",
    "  - 参数说明：\n",
    "    - `passes`：模型训练语料的次数。值越高，模型会多次迭代优化，从而收敛更好。\n",
    "    - `random_state`：随机种子，用于保证模型的结果可复现。\n",
    "  - `seed` 是预先定义的随机种子。\n",
    "\n",
    "**3. 模型初始化**\n",
    "```python\n",
    "model = LdaMulticore(\n",
    "    corpus=corpus,\n",
    "    num_topics=4,\n",
    "    id2word=dictionary,\n",
    "    workers=6,\n",
    "    passes=params['passes'],\n",
    "    random_state=params['random_state']\n",
    ")\n",
    "```\n",
    "\n",
    "- **模型参数**：\n",
    "  1. **`corpus`**：\n",
    "     - 输入的语料库，格式是 Gensim 的 **Bag-of-Words（BOW）表示**。\n",
    "     - 每篇文档由单词 ID 和词频组成，例如：\n",
    "       ```plaintext\n",
    "       [(0, 2), (1, 1)]\n",
    "       ```\n",
    "     - 表示单词 ID 为 0 的单词出现了 2 次，单词 ID 为 1 的单词出现了 1 次。\n",
    "  2. **`num_topics=4`**：\n",
    "     - 设置要提取的主题数量为 4。\n",
    "     - 模型会假设文档中的内容可以由 4 个主题表示。\n",
    "  3. **`id2word=dictionary`**：\n",
    "     - 词典，映射单词 ID 到单词本身。\n",
    "     - 用于将主题中出现的单词 ID 翻译回原始单词。\n",
    "  4. **`workers=6`**：\n",
    "     - 多线程参数，使用 6 个线程并行化训练。\n",
    "     - 如果设置为 1，则模型以单线程运行。\n",
    "  5. **`passes=params['passes']`**：\n",
    "     - 设置语料库的迭代次数（即遍历语料的次数）。\n",
    "     - 每次迭代，模型会更新主题分布，增加模型收敛的可能性。\n",
    "  6. **`random_state=params['random_state']`**：\n",
    "     - 随机种子，用于控制模型初始化和抽样的随机性，保证结果可复现。"
   ]
  },
  {
   "cell_type": "code",
   "execution_count": 107,
   "metadata": {},
   "outputs": [],
   "source": [
    "# models\n",
    "from gensim.models import LdaMulticore\n",
    "params = {'passes': 10, 'random_state': seed}\n",
    "base_models = dict()\n",
    "model = LdaMulticore(corpus=corpus, num_topics=4, id2word=dictionary, workers=6,\n",
    "                passes=params['passes'], random_state=params['random_state'])"
   ]
  },
  {
   "cell_type": "markdown",
   "metadata": {},
   "source": [
    "`model.show_topics(num_words=5)` 是 Gensim 提供的一种方法，用于 **显示主题模型中每个主题的主要单词**，以及这些单词的权重。以下是详细解释：\n",
    "\n",
    "**1. `model.show_topics` 的作用**\n",
    "\n",
    "- **功能**：显示主题模型中的主题及其相关的单词和权重。\n",
    "- **参数**：\n",
    "  - `num_words=5`：每个主题中展示的单词数量，默认值为 10。设置为 5 就是每个主题只显示 5 个最重要的单词。\n",
    "  - `num_topics`（可选）：要显示的主题数量。如果不指定，默认显示所有主题。\n",
    "\n",
    "- **输出**：\n",
    "  - 一个列表，包含主题编号和主题中主要单词的字符串表示及其权重。\n",
    "\n",
    "**2. 输出结果解释**\n",
    "\n",
    "如果输出如下：\n",
    "```plaintext\n",
    "主题 0: 0.3*'science' + 0.2*'data' + 0.1*'research' + 0.1*'analysis' + 0.1*'machine'\n",
    "主题 1: 0.4*'book' + 0.3*'author' + 0.2*'literature' + 0.1*'reading' + 0.1*'novel'\n",
    "主题 2: 0.5*'apple' + 0.3*'fruit' + 0.2*'banana'\n",
    "```\n",
    "\n",
    "- **主题 0**：\n",
    "  - 包含 \"science\", \"data\", \"research\"，可以推测是与科学、数据分析相关的主题。\n",
    "- **主题 1**：\n",
    "  - 包含 \"book\", \"author\", \"literature\"，可能是与书籍或文学相关的主题。\n",
    "- **主题 2**：\n",
    "  - 包含 \"apple\", \"fruit\", \"banana\"，可能是与水果相关的主题。"
   ]
  },
  {
   "cell_type": "code",
   "execution_count": 108,
   "metadata": {},
   "outputs": [
    {
     "data": {
      "text/plain": [
       "[(0,\n",
       "  '0.008*\"father\" + 0.006*\"life\" + 0.005*\"Elizabeth\" + 0.005*\"feeling\" + 0.004*\"love\"'),\n",
       " (1,\n",
       "  '0.007*\"room\" + 0.006*\"door\" + 0.006*\"sleep\" + 0.006*\"Lucy\" + 0.005*\"old\"'),\n",
       " (2,\n",
       "  '0.017*\"whale\" + 0.011*\"ship\" + 0.010*\"sea\" + 0.008*\"Queequeg\" + 0.008*\"old\"'),\n",
       " (3,\n",
       "  '0.016*\"Elizabeth\" + 0.012*\"Darcy\" + 0.011*\"Bingley\" + 0.010*\"Miss\" + 0.009*\"Mrs\"')]"
      ]
     },
     "execution_count": 108,
     "metadata": {},
     "output_type": "execute_result"
    }
   ],
   "source": [
    "model.show_topics(num_words=5)"
   ]
  },
  {
   "cell_type": "markdown",
   "metadata": {},
   "source": [
    "`model.show_topic(1, 20)` 是 Gensim 中用于查看 **特定主题** 的主要单词及其权重的方法。\n",
    "\n",
    "**1. 功能**\n",
    "\n",
    "- 该方法显示某一个特定主题中的主要单词及其权重，而不是像 `show_topics()` 那样显示多个主题。\n",
    "- **参数说明**：\n",
    "  - `1`：表示要查看的主题编号。\n",
    "  - `20`：表示希望列出的单词数量（即该主题中最重要的前 20 个单词）。\n",
    "\n",
    "**2. 输出格式**\n",
    "\n",
    "- 返回一个列表，其中每个元素是一个元组 `(word, weight)`。\n",
    "  - `word`：主题中的单词。\n",
    "  - `weight`：该单词在主题中的权重。\n",
    "  - 权重表示单词在该主题中所占的比例，值越大，表示该单词越重要。\n",
    "\n",
    "**3. 参数**\n",
    "\n",
    "- **`topicid`**：\n",
    "  - 表示要查看的主题编号，从 0 开始计数。\n",
    "  - 例如，如果模型中有 4 个主题，则有效值为 0 到 3。\n",
    "- **`topn`**：\n",
    "  - 表示要显示的主题单词数量。\n",
    "  - 如果设置为 20，则显示前 20 个最重要的单词。"
   ]
  },
  {
   "cell_type": "code",
   "execution_count": 109,
   "metadata": {},
   "outputs": [
    {
     "data": {
      "text/plain": [
       "[('room', 0.0069176685),\n",
       " ('door', 0.0064798663),\n",
       " ('sleep', 0.0059972634),\n",
       " ('Lucy', 0.005515727),\n",
       " ('old', 0.0049927966),\n",
       " ('Count', 0.0048010307),\n",
       " ('window', 0.0044715963),\n",
       " ('dear', 0.004363028),\n",
       " ('fear', 0.0042384374),\n",
       " ('open', 0.003989997),\n",
       " ('ask', 0.0039044884),\n",
       " ('light', 0.0036928435),\n",
       " ('try', 0.0035804284),\n",
       " ('sit', 0.00353518),\n",
       " ('run', 0.003509862),\n",
       " ('write', 0.003474833),\n",
       " ('fall', 0.0034288822),\n",
       " ('lie', 0.0034027952),\n",
       " ('bed', 0.0032984412),\n",
       " ('pass', 0.0032581566)]"
      ]
     },
     "execution_count": 109,
     "metadata": {},
     "output_type": "execute_result"
    }
   ],
   "source": [
    "model.show_topic(1,20)"
   ]
  },
  {
   "cell_type": "markdown",
   "metadata": {},
   "source": [
    "**1. 背景**\n",
    "- **`model[corpus[0]]`**：\n",
    "  - 这是 LDA 模型的一个调用方式。\n",
    "  - 它返回了 **第一个文档（`corpus[0]`）在主题空间中的分布**。\n",
    "  - 每个文档的主题分布由一个列表表示，其中每个元素是一个元组 `(主题编号, 主题权重)`。\n",
    "  - 示例输出可能如下：\n",
    "    ```python\n",
    "    [(0, 0.1), (1, 0.7), (2, 0.2)]\n",
    "    ```\n",
    "    这表示：\n",
    "    - 主题 0 的权重是 0.1\n",
    "    - 主题 1 的权重是 0.7\n",
    "    - 主题 2 的权重是 0.2\n",
    "\n",
    "**2. 排序文档的主题分布**\n",
    "```python\n",
    "sorted(model[corpus[0]], key=lambda x: x[1], reverse=True)\n",
    "```\n",
    "\n",
    "- **`sorted`**：\n",
    "  - 用于对文档的主题分布列表进行排序。\n",
    "\n",
    "- **`key=lambda x: x[1]`**：\n",
    "  - 指定排序的依据。\n",
    "  - `x` 表示主题分布中的每个元组 `(主题编号, 权重)`。\n",
    "  - `x[1]` 是主题的权重，因此排序时会根据主题权重进行排序。\n",
    "\n",
    "- **`reverse=True`**：\n",
    "  - 设置为 `True` 表示降序排列（从高到低）。\n",
    "  - 权重最大的主题会排在最前面。"
   ]
  },
  {
   "cell_type": "code",
   "execution_count": 110,
   "metadata": {},
   "outputs": [
    {
     "data": {
      "text/plain": [
       "[(1, 0.9972272)]"
      ]
     },
     "execution_count": 110,
     "metadata": {},
     "output_type": "execute_result"
    }
   ],
   "source": [
    "sorted(model[corpus[0]],key=lambda x:x[1],reverse=True)"
   ]
  },
  {
   "cell_type": "code",
   "execution_count": 111,
   "metadata": {},
   "outputs": [
    {
     "data": {
      "text/html": [
       "\n",
       "<link rel=\"stylesheet\" type=\"text/css\" href=\"https://cdn.jsdelivr.net/gh/bmabey/pyLDAvis@3.4.0/pyLDAvis/js/ldavis.v1.0.0.css\">\n",
       "\n",
       "\n",
       "<div id=\"ldavis_el800421134493895046394267984\" style=\"background-color:white;\"></div>\n",
       "<script type=\"text/javascript\">\n",
       "\n",
       "var ldavis_el800421134493895046394267984_data = {\"mdsDat\": {\"x\": [0.15975145105363345, -0.14554538475093687, 0.04571844325313182, -0.05992450955582834], \"y\": [-0.07474562447912479, -0.07465196475575983, 0.09492398721112573, 0.05447360202375897], \"topics\": [1, 2, 3, 4], \"cluster\": [1, 1, 1, 1], \"Freq\": [26.733614098437204, 25.362076998223195, 24.1216576304347, 23.782651272904904]}, \"tinfo\": {\"Term\": [\"whale\", \"Darcy\", \"Elizabeth\", \"Bingley\", \"ship\", \"Miss\", \"Bennet\", \"Queequeg\", \"Collins\", \"Mrs\", \"Jane\", \"sea\", \"Captain\", \"Ahab\", \"sister\", \"Lucy\", \"Count\", \"Lady\", \"father\", \"Mrs_Bennet\", \"Catherine\", \"old\", \"Wickham\", \"Bildad\", \"Charlotte\", \"Lady_Catherine\", \"Peleg\", \"sleep\", \"harpooneer\", \"Miss_Bingley\", \"Darcy\", \"Bingley\", \"Collins\", \"Jane\", \"Bennet\", \"Wickham\", \"Charlotte\", \"Mrs_Bennet\", \"Catherine\", \"Lady_Catherine\", \"Miss_Bingley\", \"Lucas\", \"Lady Catherine\", \"Netherfield\", \"Longbourn\", \"Lady\", \"Lizzy\", \"Lydia\", \"Miss Bingley\", \"Miss_Bennet\", \"Hurst\", \"Bourgh\", \"Meryton\", \"Colonel\", \"Fitzwilliam\", \"Hertfordshire\", \"Miss_Lucas\", \"Colonel_Fitzwilliam\", \"Miss\", \"Rosings\", \"Sir_William\", \"Mrs\", \"dance\", \"sister\", \"Elizabeth\", \"lady\", \"daughter\", \"young_lady\", \"young\", \"family\", \"wish\", \"gentleman\", \"hope\", \"manner\", \"reply\", \"attention\", \"dear\", \"room\", \"believe\", \"walk\", \"girl\", \"father\", \"mean\", \"whale\", \"Ahab\", \"Bildad\", \"Peleg\", \"Whale\", \"Queequeg\", \"mast\", \"Nantucket\", \"Pequod\", \"ship\", \"Stubb\", \"Captain_Ahab\", \"whaling\", \"Flask\", \"leg\", \"whaleman\", \"Captain_Peleg\", \"oil\", \"pipe\", \"Starbuck\", \"harpooneer\", \"harpoon\", \"mast_head\", \"whale_ship\", \"shipmate\", \"Greenland\", \"captain\", \"Cape\", \"sperm\", \"Jonah\", \"Captain\", \"thou\", \"crew\", \"deck\", \"sea\", \"mate\", \"sailor\", \"sail\", \"cabin\", \"voyage\", \"head\", \"old\", \"stand\", \"sort\", \"round\", \"God\", \"world\", \"water\", \"chapter\", \"boat\", \"right\", \"small\", \"foot\", \"Justine\", \"Safie\", \"Ingolstadt\", \"Victor\", \"Ernest\", \"Geneva\", \"Felix\", \"undertaking\", \"Clerval\", \"victim\", \"Frankenstein\", \"remorse\", \"enterprise\", \"government\", \"unfortunate\", \"protector\", \"murderer\", \"dearest\", \"innocence\", \"ardently\", \"union\", \"sympathize\", \"crime\", \"accent\", \"ardent\", \"shed\", \"Arabian\", \"disaster\", \"celestial\", \"execute\", \"torture\", \"enthusiasm\", \"Henry\", \"creator\", \"forever\", \"tale\", \"grief\", \"misery\", \"murder\", \"despair\", \"weep\", \"misfortune\", \"science\", \"father\", \"human\", \"possess\", \"endeavour\", \"pursue\", \"miserable\", \"death\", \"month\", \"tear\", \"life\", \"feeling\", \"appear\", \"desire\", \"creature\", \"child\", \"discover\", \"love\", \"remain\", \"return\", \"mind\", \"countenance\", \"spirit\", \"heart\", \"Elizabeth\", \"dear\", \"hope\", \"pass\", \"enter\", \"nature\", \"year\", \"word\", \"believe\", \"wish\", \"Count\", \"Lucy\", \"Jonathan\", \"Dracula\", \"valley\", \"Helsing\", \"Van_Helsing\", \"diary\", \"later\", \"Van Helsing\", \"Hawkins\", \"Diary\", \"Renfield\", \"key\", \"driver\", \"courtyard\", \"Westenra\", \"Bistritz\", \"Pass\", \"abbey\", \"wolf\", \"glacier\", \"Van\", \"Arthur\", \"Mina\", \"Slovaks\", \"Transylvania\", \"Last night\", \"Seward ' s\", \"Harker\", \"asleep\", \"castle\", \"patient\", \"Seward\", \"creep\", \"window\", \"harbour\", \"door\", \"outside\", \"lock\", \"sleep\", \"mountain\", \"whilst\", \"awake\", \"room\", \"fall\", \"run\", \"fear\", \"lie\", \"open\", \"ask\", \"bed\", \"try\", \"close\", \"light\", \"write\", \"sound\", \"sit\", \"old\", \"dear\", \"work\", \"wind\", \"face\", \"pass\", \"letter\", \"want\", \"morning\", \"mind\", \"heart\", \"life\", \"house\"], \"Freq\": [316.0, 232.0, 394.0, 208.0, 206.0, 195.0, 170.0, 157.0, 146.0, 194.0, 143.0, 215.0, 120.0, 104.0, 180.0, 99.0, 85.0, 90.0, 220.0, 79.0, 79.0, 278.0, 77.0, 73.0, 73.0, 72.0, 68.0, 157.0, 73.0, 69.0, 230.6967050682394, 206.7334095873916, 145.6030253596475, 142.74442948714267, 169.39002149748438, 76.75556992612621, 72.93824910692588, 78.61553664103101, 78.60388710517566, 71.92579977729747, 68.12673141447048, 58.57697434044981, 60.44798991201741, 49.014484687787224, 40.3974686347847, 88.20608984354513, 36.57597264013621, 36.56892148552376, 34.659200786136765, 34.65316896591166, 29.888927456269236, 30.81635337655339, 29.87473868564542, 29.87175576738246, 28.917840804827218, 24.14481436199388, 23.19049667134364, 23.183343128232465, 188.80916068435695, 21.279256071575514, 38.470972148706004, 178.97904569841748, 60.50085423156099, 150.84254062858844, 303.4003479950784, 96.92645912246432, 69.37271298259914, 34.09775004040829, 117.71248021676433, 74.65721548258148, 97.76542593044687, 44.8295300003518, 85.43205321919034, 80.20844684765184, 66.40665014182873, 57.143853900244864, 86.77194096775295, 88.37311506387118, 67.42302663920839, 67.0658136448439, 62.00451352149006, 63.56871854366733, 62.50695891305119, 314.73722364703275, 103.23667386276017, 72.3885261894404, 67.70278805681203, 61.14153464830503, 155.41793951508336, 51.75203002025047, 49.86373170264669, 44.234116390827595, 202.69749363782262, 41.44232770772407, 37.70304840202423, 36.73380372767068, 36.728096472972716, 35.7705447633313, 34.8495246643209, 28.334134357390212, 29.235815842618802, 28.301226983006508, 26.451955581037836, 70.9337547377745, 34.56650829321099, 23.649851099824787, 20.837506370394205, 30.812712615406824, 22.619682992568276, 42.487726673206325, 19.870690085426137, 18.02675898153718, 57.685921442786245, 114.41058923122344, 69.05392232521058, 31.231906587549524, 62.4417396552271, 180.38706657313753, 60.467608026046165, 42.689708230164804, 70.82745819830903, 44.348058579362736, 56.71359433283939, 112.57685088704848, 149.84045794587595, 77.24819312484615, 76.23833714569399, 66.03505225246025, 63.721809536648934, 69.86124415390856, 54.36141967840004, 53.71185897559301, 46.48861151062533, 49.4242989937233, 47.500945526234865, 46.77355116612855, 55.14324265329268, 24.812490986568925, 16.54230803583316, 24.22978498220355, 13.522996360676418, 35.32212320194657, 46.74563433727411, 10.483988240418768, 51.26715306671368, 16.921317814800663, 15.007488111146895, 11.246708133048221, 9.356345201932077, 7.469596570544947, 12.104189195653206, 13.875020531698445, 27.731989068215285, 7.403856040952489, 18.496667989558027, 11.018987746656936, 15.586366304183244, 8.213411961339874, 23.691928731817175, 10.01914782474538, 7.2803626765535165, 8.18449037802123, 12.598963321749132, 5.403741475193777, 5.3816517498264105, 5.3765290111732895, 16.8831793052489, 10.7130482068005, 25.5527315978108, 16.792013958036996, 28.42271757121257, 29.16126240763129, 26.08180718364677, 47.248413095374254, 37.93518902465955, 36.75976660668219, 25.174007185308696, 31.6057690341211, 28.005341400120216, 136.4665550451482, 49.84935392280205, 38.502571465731904, 48.751440321620585, 27.58187193644297, 45.189422192663784, 65.57085356632808, 43.48084488549257, 41.42016641994356, 100.13267017262415, 81.66647069898676, 70.70943313777308, 51.59292249642103, 52.38750180986542, 49.69046433846395, 41.72198149052673, 73.86057693445706, 55.27513533820647, 65.01248377837152, 67.50436534410967, 41.69902899352567, 49.147372947885025, 60.4528080624148, 86.63860566024715, 69.1292337861001, 60.329332661732174, 59.51897812584091, 51.55009289065752, 44.61092483041399, 47.887297286496064, 49.65621625662391, 46.751296500666676, 45.25660443880535, 83.47676258620339, 95.90337501567618, 33.10875401813476, 14.742944859141431, 18.120482991454107, 23.09181738645002, 23.07992352043962, 12.832629260893489, 21.344835983228826, 21.313832180355906, 14.386400114031174, 10.118033480701488, 10.118313824548057, 30.36873196192342, 26.822675803601584, 10.055257712574612, 18.339015574177182, 8.345322179966477, 8.3071938987256, 7.463221784844098, 19.88521815552915, 7.451322858475457, 23.902948281381175, 37.16690628561845, 31.284535355004643, 6.5916423805412485, 7.401463148723726, 7.3940659170465635, 7.377765997115446, 6.561645082922524, 25.125739319243756, 30.75973167422718, 21.865631860279162, 16.136245680016955, 9.786229839104696, 77.74880140282194, 21.6648732798429, 112.66711119004677, 17.64587604028725, 28.820171253631, 104.27596847827678, 44.49581098166318, 29.675578259030413, 31.017945562135395, 120.27929069215402, 59.61886161388646, 61.02687998067103, 73.69480672566932, 59.16527943914064, 69.37510680626804, 67.88834926524851, 57.350849532992534, 62.25383468129458, 53.34952711270216, 64.20842436586749, 60.41781931103229, 44.644423582494284, 61.4670866165134, 86.81104477626927, 75.86109346105293, 50.15787010759627, 42.76262613915112, 49.746867811236214, 56.650410938375316, 49.8983465989752, 47.45724192822196, 48.28086178729269, 50.2104371090071, 48.46406294877487, 48.812871418205795, 46.572926108261534], \"Total\": [316.0, 232.0, 394.0, 208.0, 206.0, 195.0, 170.0, 157.0, 146.0, 194.0, 143.0, 215.0, 120.0, 104.0, 180.0, 99.0, 85.0, 90.0, 220.0, 79.0, 79.0, 278.0, 77.0, 73.0, 73.0, 72.0, 68.0, 157.0, 73.0, 69.0, 232.11616133732625, 208.1427403714746, 146.75519655327147, 143.87871844421645, 170.73994792669276, 77.68925355814692, 73.85637918209041, 79.61639384872448, 79.61460832541424, 72.89915068011166, 69.06108499485872, 59.46937435080439, 61.38943459849892, 49.877021400380706, 41.24481067032077, 90.11813885574739, 37.408247591622455, 37.40830572793352, 35.48889804019292, 35.48995499662418, 30.693298105602523, 31.654545071447792, 30.69413780260722, 30.693120117047556, 29.734496544502214, 24.939128497849378, 23.979277107210482, 23.979218117101787, 195.42267855271788, 22.06090813500834, 40.26471262427219, 194.4652492195196, 66.12773506659686, 180.59121102073485, 394.61769771543135, 126.70529145478987, 89.12974425460744, 36.37699586200884, 220.59510760115995, 116.02518331360676, 189.20412016324843, 54.561611043448785, 174.85412146578307, 156.1040077758026, 111.645999245623, 87.68170650086526, 238.10149560082465, 250.92673625830287, 136.7171808315843, 134.5193716324942, 111.52650782767505, 220.25538574919057, 160.09510533367398, 316.6583427559803, 104.31345750895211, 73.30107842160072, 68.60329634992381, 62.02721227954054, 157.82593596708668, 52.633500631484154, 50.753052140147254, 45.12009007063144, 206.82652238458272, 42.29976092874493, 38.541337774753124, 37.599877895797604, 37.60610034636411, 36.66124745859279, 35.720339194441046, 29.145099974514828, 30.08488798181678, 29.14394694904602, 27.26700636320179, 73.26595371555138, 35.71471012723317, 24.44792722551353, 21.628567936802398, 31.9908308654423, 23.511666971253057, 44.22792455823657, 20.688275519432413, 18.809309860196816, 60.30910219887374, 120.46492257679901, 73.58641468339201, 32.96581769580826, 68.09202711419393, 215.4048386733615, 66.96022011138162, 46.294908277519404, 84.97951516374076, 49.2469891119562, 71.66642652483237, 181.4765663239562, 278.06939347456563, 139.375143680201, 145.17007498005714, 119.66350812842754, 116.47625060636872, 157.62995760897195, 93.97548727488712, 118.69640335202105, 69.4358070714645, 103.38738335404781, 92.76110229099342, 94.60521098240577, 56.75996595206918, 25.77767108077914, 17.495689528519648, 25.70875283594102, 14.397680060881635, 37.97961863336211, 50.287373313473964, 11.300338883190264, 55.389472486010874, 18.452086838004455, 16.39965020970076, 12.309820216753815, 10.25337173592027, 8.204418586937408, 13.31801416178137, 15.354736163373415, 30.69687516668164, 8.196309012379928, 20.488296203045145, 12.285397281650553, 17.42921826170308, 9.205256045691865, 26.558490818957946, 11.244259540931463, 8.18213301179926, 9.202126967777192, 14.288639205903163, 6.133478912633809, 6.131467637627833, 6.130345830980707, 19.38591074932026, 12.25856561893387, 29.56882825541836, 19.351938188904924, 33.55508077468586, 34.556303158248646, 31.517988051360025, 59.70830743976508, 47.45699676439232, 47.34754658928465, 31.32669493304725, 40.59490291881661, 35.39634331093964, 220.25538574919057, 71.11267141234642, 52.50393994330576, 70.53773929725942, 35.44281738243803, 65.83623146670497, 106.19560281074058, 66.91632114479448, 64.60560867064756, 218.09880414669638, 166.70220458705683, 136.2475688207674, 88.452432352113, 92.04424528732211, 86.15158129502491, 66.65883945197824, 185.34088166482687, 116.49877019032937, 159.63843612101843, 172.57347142229617, 71.69978631330555, 102.11441585431427, 162.54182736282263, 394.61769771543135, 238.10149560082465, 174.85412146578307, 181.45190353759676, 124.71066956024755, 88.60734640397094, 129.56646240528687, 170.4535772996549, 136.7171808315843, 189.20412016324843, 85.1327202770749, 99.76812789497306, 34.81700742784292, 15.591590881761752, 19.26844513705287, 24.749004587483668, 24.749057246789352, 13.76697124316539, 22.925940677951477, 22.91987325811058, 15.626667279060175, 11.018176711865195, 11.018746753246448, 33.10895905026209, 29.441219549124234, 11.039803018606333, 20.184935322068227, 9.196631467713503, 9.201171387904648, 8.274767988179084, 22.05868822290767, 8.27742281035516, 26.60455532806082, 41.36773408405828, 34.87528209680151, 7.360200315399341, 8.284988983036916, 8.27916258413469, 8.275890270227903, 7.361387348231156, 28.458161622250422, 34.91297371430992, 24.799696769647767, 18.365706110913766, 11.069084542330003, 99.9416920944082, 25.728335978108305, 160.72404230251124, 21.161150868038707, 36.87450007496716, 157.89678570188516, 63.235496061531876, 39.29085422857739, 42.22333615079337, 250.92673625830287, 101.67429978899972, 112.52867797288114, 147.74997936483845, 108.8547027236578, 139.2077513441095, 136.7772337260387, 106.8921437298331, 122.28447038083998, 98.69180670126357, 139.56456485747182, 126.7969204419659, 77.10021834018951, 146.32344652965853, 278.06939347456563, 238.10149560082465, 112.61130872489358, 83.64440377833515, 123.53507208435768, 181.45190353759676, 141.17178183898724, 125.54504693628759, 143.44005674824405, 172.57347142229617, 162.54182736282263, 218.09880414669638, 162.74705055805586], \"Category\": [\"Default\", \"Default\", \"Default\", \"Default\", \"Default\", \"Default\", \"Default\", \"Default\", \"Default\", \"Default\", \"Default\", \"Default\", \"Default\", \"Default\", \"Default\", \"Default\", \"Default\", \"Default\", \"Default\", \"Default\", \"Default\", \"Default\", \"Default\", \"Default\", \"Default\", \"Default\", \"Default\", \"Default\", \"Default\", \"Default\", \"Topic1\", \"Topic1\", \"Topic1\", \"Topic1\", \"Topic1\", \"Topic1\", \"Topic1\", \"Topic1\", \"Topic1\", \"Topic1\", \"Topic1\", \"Topic1\", \"Topic1\", \"Topic1\", \"Topic1\", \"Topic1\", \"Topic1\", \"Topic1\", \"Topic1\", \"Topic1\", \"Topic1\", \"Topic1\", \"Topic1\", \"Topic1\", \"Topic1\", \"Topic1\", \"Topic1\", \"Topic1\", \"Topic1\", \"Topic1\", \"Topic1\", \"Topic1\", \"Topic1\", \"Topic1\", \"Topic1\", \"Topic1\", \"Topic1\", \"Topic1\", \"Topic1\", \"Topic1\", \"Topic1\", \"Topic1\", \"Topic1\", \"Topic1\", \"Topic1\", \"Topic1\", \"Topic1\", \"Topic1\", \"Topic1\", \"Topic1\", \"Topic1\", \"Topic1\", \"Topic1\", \"Topic2\", \"Topic2\", \"Topic2\", \"Topic2\", \"Topic2\", \"Topic2\", \"Topic2\", \"Topic2\", \"Topic2\", \"Topic2\", \"Topic2\", \"Topic2\", \"Topic2\", \"Topic2\", \"Topic2\", \"Topic2\", \"Topic2\", \"Topic2\", \"Topic2\", \"Topic2\", \"Topic2\", \"Topic2\", \"Topic2\", \"Topic2\", \"Topic2\", \"Topic2\", \"Topic2\", \"Topic2\", \"Topic2\", \"Topic2\", \"Topic2\", \"Topic2\", \"Topic2\", \"Topic2\", \"Topic2\", \"Topic2\", \"Topic2\", \"Topic2\", \"Topic2\", \"Topic2\", \"Topic2\", \"Topic2\", \"Topic2\", \"Topic2\", \"Topic2\", \"Topic2\", \"Topic2\", \"Topic2\", \"Topic2\", \"Topic2\", \"Topic2\", \"Topic2\", \"Topic2\", \"Topic3\", \"Topic3\", \"Topic3\", \"Topic3\", \"Topic3\", \"Topic3\", \"Topic3\", \"Topic3\", \"Topic3\", \"Topic3\", \"Topic3\", \"Topic3\", \"Topic3\", \"Topic3\", \"Topic3\", \"Topic3\", \"Topic3\", \"Topic3\", \"Topic3\", \"Topic3\", \"Topic3\", \"Topic3\", \"Topic3\", \"Topic3\", \"Topic3\", \"Topic3\", \"Topic3\", \"Topic3\", \"Topic3\", \"Topic3\", \"Topic3\", \"Topic3\", \"Topic3\", \"Topic3\", \"Topic3\", \"Topic3\", \"Topic3\", \"Topic3\", \"Topic3\", \"Topic3\", \"Topic3\", \"Topic3\", \"Topic3\", \"Topic3\", \"Topic3\", \"Topic3\", \"Topic3\", \"Topic3\", \"Topic3\", \"Topic3\", \"Topic3\", \"Topic3\", \"Topic3\", \"Topic3\", \"Topic3\", \"Topic3\", \"Topic3\", \"Topic3\", \"Topic3\", \"Topic3\", \"Topic3\", \"Topic3\", \"Topic3\", \"Topic3\", \"Topic3\", \"Topic3\", \"Topic3\", \"Topic3\", \"Topic3\", \"Topic3\", \"Topic3\", \"Topic3\", \"Topic3\", \"Topic3\", \"Topic3\", \"Topic3\", \"Topic4\", \"Topic4\", \"Topic4\", \"Topic4\", \"Topic4\", \"Topic4\", \"Topic4\", \"Topic4\", \"Topic4\", \"Topic4\", \"Topic4\", \"Topic4\", \"Topic4\", \"Topic4\", \"Topic4\", \"Topic4\", \"Topic4\", \"Topic4\", \"Topic4\", \"Topic4\", \"Topic4\", \"Topic4\", \"Topic4\", \"Topic4\", \"Topic4\", \"Topic4\", \"Topic4\", \"Topic4\", \"Topic4\", \"Topic4\", \"Topic4\", \"Topic4\", \"Topic4\", \"Topic4\", \"Topic4\", \"Topic4\", \"Topic4\", \"Topic4\", \"Topic4\", \"Topic4\", \"Topic4\", \"Topic4\", \"Topic4\", \"Topic4\", \"Topic4\", \"Topic4\", \"Topic4\", \"Topic4\", \"Topic4\", \"Topic4\", \"Topic4\", \"Topic4\", \"Topic4\", \"Topic4\", \"Topic4\", \"Topic4\", \"Topic4\", \"Topic4\", \"Topic4\", \"Topic4\", \"Topic4\", \"Topic4\", \"Topic4\", \"Topic4\", \"Topic4\", \"Topic4\", \"Topic4\", \"Topic4\", \"Topic4\", \"Topic4\", \"Topic4\"], \"logprob\": [30.0, 29.0, 28.0, 27.0, 26.0, 25.0, 24.0, 23.0, 22.0, 21.0, 20.0, 19.0, 18.0, 17.0, 16.0, 15.0, 14.0, 13.0, 12.0, 11.0, 10.0, 9.0, 8.0, 7.0, 6.0, 5.0, 4.0, 3.0, 2.0, 1.0, -4.4394, -4.549, -4.8996, -4.9194, -4.7483, -5.5398, -5.5908, -5.5159, -5.516, -5.6048, -5.6591, -5.8101, -5.7787, -5.9883, -6.1817, -5.4008, -6.2811, -6.2813, -6.3349, -6.3351, -6.483, -6.4524, -6.4834, -6.4835, -6.516, -6.6964, -6.7367, -6.737, -4.6397, -6.8227, -6.2306, -4.6932, -5.7778, -4.8642, -4.1654, -5.3065, -5.641, -6.3512, -5.1122, -5.5676, -5.2979, -6.0776, -5.4327, -5.4958, -5.6847, -5.8349, -5.4172, -5.3989, -5.6695, -5.6748, -5.7533, -5.7283, -5.7452, -4.0761, -5.1908, -5.5457, -5.6127, -5.7146, -4.7817, -5.8813, -5.9185, -6.0383, -4.5161, -6.1035, -6.1981, -6.2241, -6.2242, -6.2507, -6.2768, -6.4837, -6.4524, -6.4849, -6.5525, -5.566, -6.2849, -6.6644, -6.791, -6.3999, -6.709, -6.0786, -6.8385, -6.9359, -5.7728, -5.088, -5.5929, -6.3864, -5.6936, -4.6327, -5.7257, -6.0738, -5.5675, -6.0357, -5.7898, -5.1042, -4.8182, -5.4808, -5.4939, -5.6376, -5.6733, -5.5813, -5.8321, -5.8442, -5.9886, -5.9273, -5.967, -5.9825, -5.7677, -6.5663, -6.9717, -6.5901, -7.1733, -6.2131, -5.9329, -7.4278, -5.8406, -6.9491, -7.0691, -7.3576, -7.5416, -7.7668, -7.2841, -7.1476, -6.4551, -7.7756, -6.8601, -7.378, -7.0313, -7.6719, -6.6125, -7.4731, -7.7925, -7.6754, -7.244, -8.0906, -8.0947, -8.0956, -6.9513, -7.4062, -6.5369, -6.9567, -6.4305, -6.4048, -6.5164, -5.9222, -6.1418, -6.1732, -6.5518, -6.3243, -6.4453, -4.8616, -5.8686, -6.1269, -5.8909, -6.4605, -5.9668, -5.5945, -6.0053, -6.0539, -5.1712, -5.375, -5.5191, -5.8343, -5.819, -5.8718, -6.0466, -5.4755, -5.7653, -5.6031, -5.5655, -6.0472, -5.8828, -5.6758, -5.3159, -5.5417, -5.6778, -5.6914, -5.8351, -5.9797, -5.9088, -5.8725, -5.9328, -5.9653, -5.3389, -5.2002, -6.2637, -7.0727, -6.8664, -6.624, -6.6245, -7.2115, -6.7027, -6.7041, -7.0972, -7.4492, -7.4491, -6.3501, -6.4742, -7.4554, -6.8545, -7.6418, -7.6464, -7.7535, -6.7735, -7.7551, -6.5895, -6.1481, -6.3204, -7.8777, -7.7618, -7.7628, -7.765, -7.8823, -6.5396, -6.3373, -6.6786, -6.9824, -7.4825, -5.41, -6.6878, -5.0391, -6.893, -6.4024, -5.1165, -5.9681, -6.3732, -6.3289, -4.9737, -5.6755, -5.6522, -5.4636, -5.6832, -5.524, -5.5456, -5.7143, -5.6323, -5.7866, -5.6014, -5.6622, -5.9648, -5.645, -5.2998, -5.4346, -5.8483, -6.0078, -5.8565, -5.7266, -5.8535, -5.9037, -5.8865, -5.8473, -5.8827, -5.8755, -5.9225], \"loglift\": [30.0, 29.0, 28.0, 27.0, 26.0, 25.0, 24.0, 23.0, 22.0, 21.0, 20.0, 19.0, 18.0, 17.0, 16.0, 15.0, 14.0, 13.0, 12.0, 11.0, 10.0, 9.0, 8.0, 7.0, 6.0, 5.0, 4.0, 3.0, 2.0, 1.0, 1.3131, 1.3125, 1.3114, 1.3113, 1.3113, 1.3072, 1.3067, 1.3066, 1.3065, 1.3058, 1.3056, 1.3041, 1.3038, 1.3018, 1.2985, 1.2978, 1.2967, 1.2966, 1.2956, 1.2954, 1.2927, 1.2924, 1.2922, 1.2921, 1.2914, 1.2869, 1.2858, 1.2855, 1.2848, 1.2832, 1.2737, 1.2363, 1.2303, 1.1392, 1.0564, 1.0513, 1.0686, 1.2545, 0.6912, 0.8783, 0.659, 1.1228, 0.603, 0.6534, 0.7997, 0.8911, 0.3098, 0.2757, 0.6123, 0.6232, 0.7322, 0.0766, 0.3788, 1.3658, 1.3615, 1.3594, 1.3587, 1.3575, 1.3565, 1.355, 1.3542, 1.3521, 1.3517, 1.3514, 1.3499, 1.3486, 1.3483, 1.3473, 1.3472, 1.3437, 1.3433, 1.3426, 1.3416, 1.3396, 1.3392, 1.3387, 1.3347, 1.3344, 1.3332, 1.3318, 1.3316, 1.3294, 1.3274, 1.3204, 1.3083, 1.3179, 1.2853, 1.1945, 1.2699, 1.2908, 1.1898, 1.2671, 1.1379, 0.8944, 0.7536, 0.7818, 0.7279, 0.7774, 0.7688, 0.5582, 0.8245, 0.579, 0.9707, 0.6339, 0.7026, 0.6675, 1.3932, 1.3839, 1.366, 1.3628, 1.3594, 1.3495, 1.349, 1.3471, 1.3447, 1.3355, 1.3333, 1.3317, 1.3305, 1.3282, 1.3265, 1.3207, 1.3205, 1.3204, 1.3198, 1.3133, 1.3103, 1.3081, 1.3078, 1.3067, 1.3053, 1.3049, 1.2962, 1.2954, 1.2916, 1.2909, 1.2838, 1.2873, 1.2761, 1.2802, 1.2561, 1.2523, 1.2327, 1.188, 1.1981, 1.1689, 1.2034, 1.1718, 1.1878, 0.9434, 1.0668, 1.1119, 1.0526, 1.1713, 1.0458, 0.9399, 0.9909, 0.9775, 0.6436, 0.7085, 0.7662, 0.883, 0.8585, 0.8718, 0.9535, 0.502, 0.6765, 0.5237, 0.4834, 0.8801, 0.6908, 0.433, -0.0941, 0.1853, 0.3579, 0.3074, 0.5386, 0.7358, 0.4267, 0.1887, 0.349, -0.0084, 1.4166, 1.3967, 1.3859, 1.3802, 1.3748, 1.3669, 1.3664, 1.3659, 1.3648, 1.3636, 1.3535, 1.351, 1.351, 1.3498, 1.3431, 1.3428, 1.3403, 1.3391, 1.334, 1.333, 1.3325, 1.3311, 1.3291, 1.3291, 1.3276, 1.3259, 1.3234, 1.3231, 1.3213, 1.3212, 1.3117, 1.3096, 1.3103, 1.3068, 1.313, 1.1851, 1.2643, 1.081, 1.2545, 1.1898, 1.0213, 1.0847, 1.1555, 1.1278, 0.7009, 0.9024, 0.8243, 0.7406, 0.8265, 0.7398, 0.7357, 0.8136, 0.7611, 0.8211, 0.6598, 0.6949, 0.8898, 0.5689, 0.2721, 0.2924, 0.6274, 0.7653, 0.5266, 0.2721, 0.3962, 0.4634, 0.3473, 0.2016, 0.2261, -0.0607, 0.185]}, \"token.table\": {\"Topic\": [2, 3, 4, 2, 3, 4, 1, 3, 2, 1, 3, 4, 1, 2, 1, 2, 3, 2, 2, 1, 1, 3, 4, 1, 3, 1, 1, 3, 4, 1, 3, 4, 4, 1, 2, 3, 4, 3, 3, 4, 1, 2, 3, 4, 3, 4, 1, 2, 3, 4, 2, 4, 3, 4, 2, 4, 2, 3, 4, 1, 1, 3, 1, 3, 2, 3, 2, 4, 3, 4, 1, 4, 1, 1, 4, 1, 1, 1, 2, 4, 1, 1, 2, 3, 4, 1, 2, 3, 4, 1, 1, 1, 1, 1, 2, 3, 4, 1, 2, 1, 4, 2, 2, 2, 4, 4, 1, 3, 2, 4, 4, 1, 2, 4, 2, 2, 4, 2, 4, 2, 4, 2, 4, 3, 4, 2, 4, 2, 1, 4, 3, 4, 1, 2, 3, 4, 3, 3, 4, 1, 2, 3, 4, 2, 4, 1, 2, 3, 4, 1, 2, 3, 4, 1, 2, 3, 4, 1, 2, 3, 4, 2, 3, 4, 2, 3, 2, 3, 4, 2, 3, 4, 3, 1, 2, 3, 4, 1, 2, 3, 4, 1, 2, 3, 4, 1, 2, 3, 4, 4, 3, 4, 1, 2, 3, 4, 3, 4, 2, 3, 3, 4, 1, 2, 3, 4, 1, 2, 3, 4, 1, 2, 3, 4, 3, 1, 2, 3, 4, 2, 3, 1, 2, 3, 4, 1, 2, 3, 4, 4, 3, 1, 2, 3, 4, 1, 2, 3, 4, 2, 3, 4, 1, 3, 4, 1, 2, 3, 4, 3, 2, 3, 3, 1, 2, 3, 4, 1, 2, 3, 4, 1, 2, 3, 4, 1, 2, 3, 4, 1, 2, 3, 4, 1, 2, 3, 4, 1, 2, 3, 4, 1, 3, 4, 1, 2, 3, 4, 1, 2, 3, 4, 4, 3, 1, 2, 3, 4, 2, 4, 2, 4, 2, 4, 1, 2, 3, 4, 1, 2, 3, 4, 1, 2, 3, 4, 1, 2, 3, 4, 1, 2, 3, 4, 2, 3, 4, 2, 3, 4, 1, 2, 3, 4, 2, 4, 2, 1, 2, 3, 4, 1, 2, 3, 4, 1, 2, 3, 4, 1, 2, 3, 4, 2, 3, 4, 1, 2, 3, 4, 1, 2, 3, 4, 2, 2, 2, 3, 4, 1, 2, 3, 4, 1, 2, 3, 4, 1, 2, 3, 4, 1, 2, 3, 4, 1, 3, 4, 1, 2, 3, 4, 1, 2, 3, 4, 1, 2, 3, 4, 2, 3, 4, 2, 3, 4, 1, 2, 3, 4, 2, 1, 2, 3, 4, 1, 2, 3, 4, 2, 3, 4, 1, 2, 3, 4, 1, 2, 4, 2, 1, 2, 3, 4, 3, 4, 1, 2, 3, 4, 1, 2, 3, 4, 3, 1, 2, 3, 4, 1, 2, 3, 4, 1, 2, 3, 4, 1, 2, 3, 4, 1, 2, 3, 4, 1, 2, 3, 4, 2, 3, 4, 2, 3, 1, 2, 3, 4, 2, 3, 4, 3, 2, 3, 4, 2, 3, 1, 2, 3, 4, 1, 2, 3, 4, 1, 2, 3, 4, 1, 2, 3, 4, 1, 2, 3, 4, 1, 2, 3, 4, 2, 1, 2, 3, 4, 1, 2, 3, 4, 3, 2, 3, 4, 1, 2, 3, 4, 2, 3, 4, 2, 3, 4, 1, 2, 3, 4, 3, 3, 4, 1, 3, 4, 3, 4, 2, 3, 4, 1, 2, 3, 4, 1, 2, 3, 4, 2, 3, 4, 2, 3, 4, 1, 2, 3, 2, 2, 2, 1, 2, 3, 4, 1, 2, 3, 4, 1, 2, 3, 4, 1, 2, 3, 4, 2, 3, 4, 1, 2, 3, 4, 1, 2, 3, 4, 1, 2, 3, 4, 1, 2, 3, 4, 1, 2, 3, 4, 1, 2, 3, 4, 1, 4], \"Freq\": [0.987408551683378, 0.9098137207236097, 0.06998567082489306, 0.07252028824938947, 0.02417342941646316, 0.8944168884091369, 0.9898093682947601, 0.005856860167424616, 0.9822502144631843, 0.9945098235497662, 0.0048043952828491126, 0.869883720804242, 0.9793222404564522, 0.96673113141857, 0.0332046865962157, 0.9463335679921474, 0.01660234329810785, 0.9859543595005222, 0.960710377541469, 0.9922802066311486, 0.9884048041404923, 0.9207525854823861, 0.054161916793081535, 0.9948540387597291, 0.006814068758628281, 0.977417736795596, 0.9591638846471221, 0.011746364931666428, 0.9749482893283136, 0.9951913674132145, 0.004308187737719543, 0.9075911796941188, 0.9620570545848682, 0.7678317565435214, 0.002534098206414262, 0.2204665439580408, 0.010136392825657047, 0.9723788791527512, 0.9346282556262857, 0.05965712269955015, 0.9752981677896269, 0.9838829248238522, 0.9146536546936327, 0.06097691031290885, 0.9215469048774295, 0.052659823135853115, 0.025756323579975926, 0.5494682363728197, 0.16312338267318086, 0.2661486769930846, 0.9782377416336046, 0.9509077119385666, 0.06399317155360476, 0.8959044017504667, 0.0404056654668742, 0.9293303057381066, 0.06763879795045678, 0.8793043733559381, 0.06763879795045678, 0.9623431709760683, 0.9774120688100321, 0.9716679055311523, 0.9938926447655486, 0.006950298215143697, 0.9617122106832348, 0.033162490023559824, 0.028721595389048487, 0.9478126478386, 0.968992829319958, 0.017618051442181055, 0.9764959764744153, 0.011096545187209265, 0.9773668774181397, 0.987665827767223, 0.8454961391160573, 0.9890866956378389, 0.9698189747973187, 0.992107292939798, 0.030069723300392395, 0.9622311456125566, 0.9890851584965361, 0.9773853298284124, 0.08602080957146255, 0.028673603190487517, 0.888881698905113, 0.9671344257468804, 0.005117113363740108, 0.005117113363740108, 0.02558556681870054, 0.986223916007783, 0.9861945444374111, 0.9846355585792244, 0.9591615250604858, 0.9204729416613564, 0.025711534683278112, 0.015426920809966868, 0.03599614855658936, 0.9922579531811543, 0.9851624265262351, 0.9824163236745727, 0.8694545142932952, 0.9912060151330545, 0.9751753582743731, 0.9820946034644394, 0.012672188431799219, 0.9075442265749237, 0.9519100424825762, 0.9698316004443472, 0.10889861723375319, 0.8711889378700255, 0.8458304510370499, 0.9437544073540217, 0.024835642298790046, 0.9510610717148943, 0.9535333528615125, 0.9692726176175224, 0.8449015459564443, 0.0751750959690172, 0.9021011516282065, 0.043630258716467085, 0.9162354330458088, 0.040405579494537235, 0.9293283283743564, 0.9335341995449825, 0.038897258314374274, 0.049541897660018666, 0.891754157880336, 0.9834393286141708, 0.9911280707874089, 0.8459451684929229, 0.8893426875818637, 0.08893426875818637, 0.2568853176825652, 0.051377063536513036, 0.5211102158703466, 0.1688103516199714, 0.8555226357119183, 0.8953719401837806, 0.08139744910761641, 0.3143798045084601, 0.06580042419944514, 0.12428969015450747, 0.4971587606180299, 0.1054179127879577, 0.8784826065663142, 0.6500785885073702, 0.034214662553019484, 0.2623124129064827, 0.05702443758836581, 0.04736717138734241, 0.023683585693671204, 0.18946868554936963, 0.7341911565038073, 0.02806567344726864, 0.4022746527441839, 0.03742089792969153, 0.5332477954981042, 0.4900627674771488, 0.029257478655352165, 0.34377537420038795, 0.13165865394908474, 0.6624823983489676, 0.07200895634227908, 0.2592322428322047, 0.8934556364445367, 0.08122323967677607, 0.9496262919752659, 0.022610149808934905, 0.022610149808934905, 0.08592794256223377, 0.028642647520744587, 0.8879220731430822, 0.81546544734507, 0.2864450736486539, 0.4549421757949209, 0.168497102146267, 0.09267340618044685, 0.15089682400003404, 0.09285958400002095, 0.580372400000131, 0.1857191680000419, 0.14185574738111217, 0.18238596091857281, 0.14185574738111217, 0.5370253293713533, 0.2510467732964454, 0.08368225776548181, 0.5857758043583727, 0.08368225776548181, 0.9058132634383183, 0.8784649803060365, 0.10334882121247488, 0.11950774288672565, 0.16296510393644406, 0.5649456936463394, 0.15210076367401446, 0.0903417076792426, 0.903417076792426, 0.9403679983324599, 0.03033445155911161, 0.9036658055460122, 0.07530548379550102, 0.9224571193700685, 0.015122247858525712, 0.030244495717051425, 0.04536674357557714, 0.7741523391214391, 0.011219599117702015, 0.16829398676553023, 0.03365879735310605, 0.36539039698370834, 0.025199337723014366, 0.2897923838146652, 0.319191611158182, 0.8540429587790077, 0.04708292874339522, 0.16949854347622278, 0.6214946594128169, 0.16949854347622278, 0.9105324459796552, 0.07343003596610123, 0.21480472039891982, 0.06783306959965889, 0.5878866031970437, 0.13566613919931778, 0.021120418522938056, 0.021120418522938056, 0.781455485348708, 0.16896334818350445, 0.9442890357204637, 0.8151980419629297, 0.12001409064079623, 0.09001056798059717, 0.6300739758641802, 0.1650193746310948, 0.12443689017201573, 0.11199320115481415, 0.062218445086007865, 0.7030684294718889, 0.033965984266767446, 0.033965984266767446, 0.9170815752027212, 0.2551825473757329, 0.6946636011894952, 0.05670723275016287, 0.19244544259627788, 0.1603712021635649, 0.4169651256252688, 0.23253824313716911, 0.8777600414574478, 0.08157561260311386, 0.8973317386342524, 0.8156146713178368, 0.08094867175186783, 0.372363890058592, 0.1457076091533621, 0.40474335875933914, 0.09835327138473113, 0.13769457993862358, 0.17703588849251603, 0.5901196283083867, 0.6464113898211307, 0.06033172971663886, 0.25856455592845223, 0.034475274123793635, 0.2905717823076442, 0.03178128868989859, 0.6174650374037439, 0.059022393281240225, 0.09475466636397867, 0.11505923772768838, 0.284263999091936, 0.5008460936381729, 0.32393092901059745, 0.02399488363041463, 0.49189511442349987, 0.15596674359769508, 0.010570242269064601, 0.49680138664603624, 0.08456193815251681, 0.40166920622445484, 0.029801746171161225, 0.8344488927925143, 0.1192069846846449, 0.8247557053285206, 0.10996742737713608, 0.03665580912571203, 0.03665580912571203, 0.5559216477556992, 0.07173182551686441, 0.17932956379216103, 0.18829604198176908, 0.8456738480536371, 0.8531987886557846, 0.031727913544813, 0.095183740634439, 0.824925752165138, 0.031727913544813, 0.15547060654849637, 0.8550883360167301, 0.979988354247115, 0.027999667264203283, 0.969072214300946, 0.027297808853547777, 0.09367600646384876, 0.6226699253185242, 0.06061388653543155, 0.2259244861775176, 0.141502039033066, 0.18456787699965127, 0.36913575399930254, 0.295308603199442, 0.48611951086685434, 0.03431431841413089, 0.34314318414130895, 0.13153822058750175, 0.3318032481377405, 0.16590162406887024, 0.21505766083001696, 0.2887917159717371, 0.07031095725552945, 0.08437314870663534, 0.7031095725552945, 0.15468410596216478, 0.04880835331985153, 0.8785503597573275, 0.04880835331985153, 0.030203305349525453, 0.030203305349525453, 0.9060991604857636, 0.7655560307409173, 0.03946165106911945, 0.09470796256588668, 0.10260029277971057, 0.04361871183596528, 0.9159929485552709, 0.9819633126412395, 0.3470948610387783, 0.03541784296314064, 0.26209203792724073, 0.3541784296314064, 0.01837311526243627, 0.2847832865677622, 0.14698492209949016, 0.5420069002418699, 0.1558926475228682, 0.16047772539118782, 0.45850778683196525, 0.22466881554766296, 0.05732114027776232, 0.31526627152769277, 0.16479827829856666, 0.45856912222209856, 0.189833082096537, 0.027119011728076712, 0.7864513401142247, 0.3129368948664442, 0.05935010075053252, 0.39926431413994606, 0.22660947559294234, 0.5124788347195828, 0.09608978150992177, 0.2626454027937862, 0.1281197086798957, 0.9879639274628599, 0.9816783148370107, 0.8960544021539357, 0.05973696014359572, 0.044802720107696786, 0.39351609075551636, 0.22486633757458077, 0.18738861464548398, 0.19363490180033344, 0.14486583478884604, 0.17383900174661526, 0.39403507062566123, 0.2897316695776921, 0.06075681901724433, 0.015189204754311082, 0.6835142139439987, 0.2278380713146662, 0.08374044106080379, 0.01674808821216076, 0.7871601459715556, 0.1172366174851253, 0.17243544131633703, 0.7882763031603979, 0.04926726894752487, 0.17932844774945458, 0.029888074624909097, 0.6425936044355456, 0.1494403731245455, 0.27189057843479575, 0.2300612586755964, 0.16034572574359748, 0.33463455807359477, 0.015813902986179487, 0.015813902986179487, 0.2530224477788718, 0.6958117313918973, 0.04214341691129998, 0.8007249213146997, 0.16857366764519993, 0.03257660574798177, 0.9121449609434896, 0.06515321149596354, 0.16928618911137797, 0.1805719350521365, 0.5078585673341339, 0.1467146972298609, 0.9639391051589594, 0.021577347744129942, 0.5394336936032486, 0.125867861840758, 0.3128715422898842, 0.13648665262204865, 0.22987225704766087, 0.13648665262204865, 0.49566205425901877, 0.14176922695311095, 0.047256408984370314, 0.8506153617186656, 0.24248850049061743, 0.11573314796143105, 0.3306661370326601, 0.3141328301810271, 0.040323073676606216, 0.08064614735321243, 0.8871076208853367, 0.9607483862413679, 0.11427713818198892, 0.13332332787898707, 0.742801398182928, 0.019046189696998155, 0.9117707950850403, 0.06512648536321716, 0.08464338395080591, 0.08464338395080591, 0.7900049168741885, 0.05642892263387061, 0.15450806880272278, 0.12875672400226898, 0.4721079880083196, 0.24034588480423544, 0.8935955039399248, 0.5911541877537316, 0.06269817142842608, 0.25079268571370433, 0.09852569795895527, 0.37584933464592013, 0.050113244619456015, 0.40717011253308016, 0.16913220059066406, 0.22246428194470313, 0.47394564414306317, 0.03868944033820924, 0.2708260823674647, 0.35069997447148554, 0.09564544758313243, 0.07173408568734932, 0.4782272379156621, 0.05014059920055633, 0.5515465912061197, 0.041783832667130275, 0.35098419440389433, 0.10663948262941418, 0.31991844788824253, 0.026659870657353545, 0.5420840366995221, 0.8354954704459697, 0.08237279286087025, 0.08237279286087025, 0.9288278473786415, 0.06480194284037033, 0.02825150584667707, 0.0847545175400312, 0.7910421637069579, 0.11300602338670827, 0.8356358246573599, 0.04642421248096444, 0.11141810995431466, 0.8693642272067488, 0.9814988796385238, 0.009669939700872156, 0.009669939700872156, 0.96902766078162, 0.031258956799407094, 0.8361425738634795, 0.022149472155323962, 0.1162847288154508, 0.022149472155323962, 0.2323619406621104, 0.28703533846495993, 0.0615075725282057, 0.4168846582467275, 0.01266650230471488, 0.2533300460942976, 0.06966576267593184, 0.6586581198451738, 0.21560761467947634, 0.5174582752307433, 0.08624304587179053, 0.1832664724775549, 0.19976568865163086, 0.5235238737077222, 0.006888472022470029, 0.2686504088763311, 0.06485065940978903, 0.1815818463474093, 0.16861171446545148, 0.5836559346881013, 0.9569729104250959, 0.21544460511224198, 0.09792936596010998, 0.479853893204539, 0.20565166851623098, 0.13632272942150914, 0.5524657981819054, 0.07174880495868902, 0.24394593685954266, 0.8690687103422903, 0.057876561356725933, 0.8392101396725261, 0.08681484203508891, 0.03095706458236134, 0.139306790620626, 0.6346198239384074, 0.18574238749416802, 0.9376730786093438, 0.054357859629527175, 0.013589464907381794, 0.05158385452873622, 0.8769255269885157, 0.05158385452873622, 0.1962636786605441, 0.17173071882797608, 0.12266479916284007, 0.5070145032064056, 0.8849292134836263, 0.9010352334987247, 0.07508626945822706, 0.057374919803332924, 0.9179987168533268, 0.9341698238736621, 0.9213050073548487, 0.05419441219734404, 0.7953515022860744, 0.18139595666173627, 0.013953535127825867, 0.49806952847686087, 0.08920648271227359, 0.1412435976277665, 0.2750533216961769, 0.3584370797426751, 0.17523590565197447, 0.08761795282598724, 0.3743676166201273, 0.5746179303337362, 0.09576965505562271, 0.31923218351874233, 0.03192165666174624, 0.798041416543656, 0.15960828330873122, 0.0031579777475517477, 0.9947629904788006, 0.0031579777475517477, 0.9709380695643354, 0.9798339206545623, 0.9840457488330128, 0.02545121554706924, 0.02545121554706924, 0.17815850882948467, 0.7635364664120772, 0.011955372443685365, 0.32279505597950486, 0.15541984176790974, 0.5140810150784707, 0.1000583419235455, 0.07004083934648185, 0.05002917096177275, 0.780455067003655, 0.5179591222191355, 0.031711782993008295, 0.23783837244756223, 0.2114118866200553, 0.04533361140493897, 0.04533361140493897, 0.9066722280987793, 0.2346679995438323, 0.21120119958944905, 0.29333499942979036, 0.2581347994982155, 0.08880102818474238, 0.17760205636948476, 0.28416329019117564, 0.4440051409237119, 0.17763120935081886, 0.44407802337704716, 0.24741489873864056, 0.13322340701311416, 0.2839185673793786, 0.07886626871649405, 0.1577325374329881, 0.4731976122989643, 0.20838725931671562, 0.3241579589371132, 0.3704662387852722, 0.10033460633767789, 0.5349166682941409, 0.17679449206331777, 0.11332980260469087, 0.17679449206331777, 0.934656620051154, 0.05497980117947965], \"Term\": [\"Ahab\", \"Arabian\", \"Arabian\", \"Arthur\", \"Arthur\", \"Arthur\", \"Bennet\", \"Bennet\", \"Bildad\", \"Bingley\", \"Bingley\", \"Bistritz\", \"Bourgh\", \"Cape\", \"Captain\", \"Captain\", \"Captain\", \"Captain_Ahab\", \"Captain_Peleg\", \"Catherine\", \"Charlotte\", \"Clerval\", \"Clerval\", \"Collins\", \"Collins\", \"Colonel\", \"Colonel_Fitzwilliam\", \"Count\", \"Count\", \"Darcy\", \"Darcy\", \"Diary\", \"Dracula\", \"Elizabeth\", \"Elizabeth\", \"Elizabeth\", \"Elizabeth\", \"Ernest\", \"Felix\", \"Felix\", \"Fitzwilliam\", \"Flask\", \"Frankenstein\", \"Frankenstein\", \"Geneva\", \"Geneva\", \"God\", \"God\", \"God\", \"God\", \"Greenland\", \"Harker\", \"Hawkins\", \"Hawkins\", \"Helsing\", \"Helsing\", \"Henry\", \"Henry\", \"Henry\", \"Hertfordshire\", \"Hurst\", \"Ingolstadt\", \"Jane\", \"Jane\", \"Jonah\", \"Jonah\", \"Jonathan\", \"Jonathan\", \"Justine\", \"Justine\", \"Lady\", \"Lady\", \"Lady Catherine\", \"Lady_Catherine\", \"Last night\", \"Lizzy\", \"Longbourn\", \"Lucas\", \"Lucy\", \"Lucy\", \"Lydia\", \"Meryton\", \"Mina\", \"Mina\", \"Mina\", \"Miss\", \"Miss\", \"Miss\", \"Miss\", \"Miss Bingley\", \"Miss_Bennet\", \"Miss_Bingley\", \"Miss_Lucas\", \"Mrs\", \"Mrs\", \"Mrs\", \"Mrs\", \"Mrs_Bennet\", \"Nantucket\", \"Netherfield\", \"Pass\", \"Peleg\", \"Pequod\", \"Queequeg\", \"Queequeg\", \"Renfield\", \"Rosings\", \"Safie\", \"Seward\", \"Seward\", \"Seward ' s\", \"Sir_William\", \"Sir_William\", \"Slovaks\", \"Starbuck\", \"Stubb\", \"Transylvania\", \"Van\", \"Van\", \"Van Helsing\", \"Van Helsing\", \"Van_Helsing\", \"Van_Helsing\", \"Victor\", \"Victor\", \"Westenra\", \"Westenra\", \"Whale\", \"Wickham\", \"abbey\", \"accent\", \"accent\", \"appear\", \"appear\", \"appear\", \"appear\", \"ardent\", \"ardently\", \"ardently\", \"ask\", \"ask\", \"ask\", \"ask\", \"asleep\", \"asleep\", \"attention\", \"attention\", \"attention\", \"attention\", \"awake\", \"awake\", \"awake\", \"awake\", \"bed\", \"bed\", \"bed\", \"bed\", \"believe\", \"believe\", \"believe\", \"believe\", \"boat\", \"boat\", \"boat\", \"cabin\", \"cabin\", \"captain\", \"captain\", \"captain\", \"castle\", \"castle\", \"castle\", \"celestial\", \"chapter\", \"chapter\", \"chapter\", \"chapter\", \"child\", \"child\", \"child\", \"child\", \"close\", \"close\", \"close\", \"close\", \"countenance\", \"countenance\", \"countenance\", \"countenance\", \"courtyard\", \"creator\", \"creator\", \"creature\", \"creature\", \"creature\", \"creature\", \"creep\", \"creep\", \"crew\", \"crew\", \"crime\", \"crime\", \"dance\", \"dance\", \"dance\", \"dance\", \"daughter\", \"daughter\", \"daughter\", \"daughter\", \"dear\", \"dear\", \"dear\", \"dear\", \"dearest\", \"death\", \"death\", \"death\", \"death\", \"deck\", \"deck\", \"desire\", \"desire\", \"desire\", \"desire\", \"despair\", \"despair\", \"despair\", \"despair\", \"diary\", \"disaster\", \"discover\", \"discover\", \"discover\", \"discover\", \"door\", \"door\", \"door\", \"door\", \"driver\", \"driver\", \"driver\", \"endeavour\", \"endeavour\", \"endeavour\", \"enter\", \"enter\", \"enter\", \"enter\", \"enterprise\", \"enthusiasm\", \"enthusiasm\", \"execute\", \"face\", \"face\", \"face\", \"face\", \"fall\", \"fall\", \"fall\", \"fall\", \"family\", \"family\", \"family\", \"family\", \"father\", \"father\", \"father\", \"father\", \"fear\", \"fear\", \"fear\", \"fear\", \"feeling\", \"feeling\", \"feeling\", \"feeling\", \"foot\", \"foot\", \"foot\", \"foot\", \"forever\", \"forever\", \"forever\", \"gentleman\", \"gentleman\", \"gentleman\", \"gentleman\", \"girl\", \"girl\", \"girl\", \"girl\", \"glacier\", \"government\", \"grief\", \"grief\", \"grief\", \"grief\", \"harbour\", \"harbour\", \"harpoon\", \"harpoon\", \"harpooneer\", \"harpooneer\", \"head\", \"head\", \"head\", \"head\", \"heart\", \"heart\", \"heart\", \"heart\", \"hope\", \"hope\", \"hope\", \"hope\", \"house\", \"house\", \"house\", \"house\", \"human\", \"human\", \"human\", \"human\", \"innocence\", \"innocence\", \"innocence\", \"key\", \"key\", \"key\", \"lady\", \"lady\", \"lady\", \"lady\", \"later\", \"later\", \"leg\", \"letter\", \"letter\", \"letter\", \"letter\", \"lie\", \"lie\", \"lie\", \"lie\", \"life\", \"life\", \"life\", \"life\", \"light\", \"light\", \"light\", \"light\", \"lock\", \"lock\", \"lock\", \"love\", \"love\", \"love\", \"love\", \"manner\", \"manner\", \"manner\", \"manner\", \"mast\", \"mast_head\", \"mate\", \"mate\", \"mate\", \"mean\", \"mean\", \"mean\", \"mean\", \"mind\", \"mind\", \"mind\", \"mind\", \"miserable\", \"miserable\", \"miserable\", \"miserable\", \"misery\", \"misery\", \"misery\", \"misery\", \"misfortune\", \"misfortune\", \"misfortune\", \"month\", \"month\", \"month\", \"month\", \"morning\", \"morning\", \"morning\", \"morning\", \"mountain\", \"mountain\", \"mountain\", \"mountain\", \"murder\", \"murder\", \"murder\", \"murderer\", \"murderer\", \"murderer\", \"nature\", \"nature\", \"nature\", \"nature\", \"oil\", \"old\", \"old\", \"old\", \"old\", \"open\", \"open\", \"open\", \"open\", \"outside\", \"outside\", \"outside\", \"pass\", \"pass\", \"pass\", \"pass\", \"patient\", \"patient\", \"patient\", \"pipe\", \"possess\", \"possess\", \"possess\", \"possess\", \"protector\", \"protector\", \"pursue\", \"pursue\", \"pursue\", \"pursue\", \"remain\", \"remain\", \"remain\", \"remain\", \"remorse\", \"reply\", \"reply\", \"reply\", \"reply\", \"return\", \"return\", \"return\", \"return\", \"right\", \"right\", \"right\", \"right\", \"room\", \"room\", \"room\", \"room\", \"round\", \"round\", \"round\", \"round\", \"run\", \"run\", \"run\", \"run\", \"sail\", \"sail\", \"sail\", \"sailor\", \"sailor\", \"science\", \"science\", \"science\", \"science\", \"sea\", \"sea\", \"sea\", \"shed\", \"ship\", \"ship\", \"ship\", \"shipmate\", \"shipmate\", \"sister\", \"sister\", \"sister\", \"sister\", \"sit\", \"sit\", \"sit\", \"sit\", \"sleep\", \"sleep\", \"sleep\", \"sleep\", \"small\", \"small\", \"small\", \"small\", \"sort\", \"sort\", \"sort\", \"sort\", \"sound\", \"sound\", \"sound\", \"sound\", \"sperm\", \"spirit\", \"spirit\", \"spirit\", \"spirit\", \"stand\", \"stand\", \"stand\", \"stand\", \"sympathize\", \"tale\", \"tale\", \"tale\", \"tear\", \"tear\", \"tear\", \"tear\", \"thou\", \"thou\", \"thou\", \"torture\", \"torture\", \"torture\", \"try\", \"try\", \"try\", \"try\", \"undertaking\", \"unfortunate\", \"unfortunate\", \"union\", \"union\", \"valley\", \"victim\", \"victim\", \"voyage\", \"voyage\", \"voyage\", \"walk\", \"walk\", \"walk\", \"walk\", \"want\", \"want\", \"want\", \"want\", \"water\", \"water\", \"water\", \"weep\", \"weep\", \"weep\", \"whale\", \"whale\", \"whale\", \"whale_ship\", \"whaleman\", \"whaling\", \"whilst\", \"whilst\", \"whilst\", \"whilst\", \"wind\", \"wind\", \"wind\", \"wind\", \"window\", \"window\", \"window\", \"window\", \"wish\", \"wish\", \"wish\", \"wish\", \"wolf\", \"wolf\", \"wolf\", \"word\", \"word\", \"word\", \"word\", \"work\", \"work\", \"work\", \"work\", \"world\", \"world\", \"world\", \"world\", \"write\", \"write\", \"write\", \"write\", \"year\", \"year\", \"year\", \"year\", \"young\", \"young\", \"young\", \"young\", \"young_lady\", \"young_lady\"]}, \"R\": 30, \"lambda.step\": 0.01, \"plot.opts\": {\"xlab\": \"PC1\", \"ylab\": \"PC2\"}, \"topic.order\": [4, 3, 1, 2]};\n",
       "\n",
       "function LDAvis_load_lib(url, callback){\n",
       "  var s = document.createElement('script');\n",
       "  s.src = url;\n",
       "  s.async = true;\n",
       "  s.onreadystatechange = s.onload = callback;\n",
       "  s.onerror = function(){console.warn(\"failed to load library \" + url);};\n",
       "  document.getElementsByTagName(\"head\")[0].appendChild(s);\n",
       "}\n",
       "\n",
       "if(typeof(LDAvis) !== \"undefined\"){\n",
       "   // already loaded: just create the visualization\n",
       "   !function(LDAvis){\n",
       "       new LDAvis(\"#\" + \"ldavis_el800421134493895046394267984\", ldavis_el800421134493895046394267984_data);\n",
       "   }(LDAvis);\n",
       "}else if(typeof define === \"function\" && define.amd){\n",
       "   // require.js is available: use it to load d3/LDAvis\n",
       "   require.config({paths: {d3: \"https://d3js.org/d3.v5\"}});\n",
       "   require([\"d3\"], function(d3){\n",
       "      window.d3 = d3;\n",
       "      LDAvis_load_lib(\"https://cdn.jsdelivr.net/gh/bmabey/pyLDAvis@3.4.0/pyLDAvis/js/ldavis.v3.0.0.js\", function(){\n",
       "        new LDAvis(\"#\" + \"ldavis_el800421134493895046394267984\", ldavis_el800421134493895046394267984_data);\n",
       "      });\n",
       "    });\n",
       "}else{\n",
       "    // require.js not available: dynamically load d3 & LDAvis\n",
       "    LDAvis_load_lib(\"https://d3js.org/d3.v5.js\", function(){\n",
       "         LDAvis_load_lib(\"https://cdn.jsdelivr.net/gh/bmabey/pyLDAvis@3.4.0/pyLDAvis/js/ldavis.v3.0.0.js\", function(){\n",
       "                 new LDAvis(\"#\" + \"ldavis_el800421134493895046394267984\", ldavis_el800421134493895046394267984_data);\n",
       "            })\n",
       "         });\n",
       "}\n",
       "</script>"
      ],
      "text/plain": [
       "<IPython.core.display.HTML object>"
      ]
     },
     "execution_count": 111,
     "metadata": {},
     "output_type": "execute_result"
    }
   ],
   "source": [
    "# plot topics\n",
    "data =  pyLDAvis.gensim_models.prepare(model, corpus, dictionary)\n",
    "pyLDAvis.display(data)"
   ]
  },
  {
   "cell_type": "code",
   "execution_count": 112,
   "metadata": {},
   "outputs": [],
   "source": [
    "# assignment\n",
    "sent_to_cluster = list()\n",
    "for n,doc in enumerate(corpus):\n",
    "    if doc:\n",
    "        cluster = max(model[doc],key=lambda x:x[1])\n",
    "        sent_to_cluster.append(cluster[0])"
   ]
  },
  {
   "cell_type": "code",
   "execution_count": 113,
   "metadata": {},
   "outputs": [
    {
     "name": "stdout",
     "output_type": "stream",
     "text": [
      "DRACULA.txt : 1 - 60\n",
      "Accuracy: 1.0\n",
      "------\n",
      "Frankenstein.txt : 0 - 54\n",
      "Accuracy: 0.9\n",
      "------\n",
      "Moby_Dick.txt : 2 - 58\n",
      "Accuracy: 0.9666666666666667\n",
      "------\n",
      "PRIDE_AND_PREJUDICE.txt : 3 - 60\n",
      "Accuracy: 1.0\n",
      "------\n"
     ]
    }
   ],
   "source": [
    "# accuracy\n",
    "from collections import Counter\n",
    "for book, cluster in book_id.items():\n",
    "    assignments = list()\n",
    "    for real,given in zip(chunk_class,sent_to_cluster):\n",
    "        if real == cluster:\n",
    "            assignments.append(given)\n",
    "    most_common,num_most_common = Counter(assignments).most_common(1)[0] # 4, 6 times\n",
    "    print(book,\":\",most_common,\"-\",num_most_common)\n",
    "    print(\"Accuracy:\",num_most_common/limit)\n",
    "    print(\"------\")"
   ]
  },
  {
   "cell_type": "markdown",
   "metadata": {},
   "source": [
    "这段代码的目的是将文档分配到最相关的主题（**主题分配**），并计算分配的**准确率**，通过比较实际主题（`chunk_class`）与分配的主题（`sent_to_cluster`）。\n",
    "\n",
    "**第一部分: 主题分配**\n",
    "```python\n",
    "sent_to_cluster = list()  # 保存每个文档对应的主题编号\n",
    "for n, doc in enumerate(corpus):  # 遍历语料库中的每个文档\n",
    "    if doc:  # 如果文档不为空\n",
    "        cluster = max(model[doc], key=lambda x: x[1])  # 按主题权重排序，选择权重最大的主题\n",
    "        sent_to_cluster.append(cluster[0])  # 保存该文档最相关的主题编号\n",
    "```\n",
    "\n",
    "- **`max(model[doc], key=lambda x: x[1])`**:\n",
    "  - 找到权重最大的主题，即该文档最相关的主题。\n",
    "\n",
    "- **结果**：\n",
    "  - 每个文档会被分配到一个主题（`cluster[0]` 是主题编号）。\n",
    "  - `sent_to_cluster` 保存了所有文档对应的主题编号列表。\n",
    "\n",
    "**第二部分: 准确率计算**\n",
    "```python\n",
    "from collections import Counter  # 计数工具\n",
    "\n",
    "for book, cluster in book_id.items():  # 遍历每本书及其真实主题编号\n",
    "    assignments = list()  # 保存该书的文档的预测主题编号\n",
    "    for real, given in zip(chunk_class, sent_to_cluster):  # 遍历文档的真实主题和分配的主题\n",
    "        if real == cluster:  # 如果文档属于当前书的真实主题\n",
    "            assignments.append(given)  # 保存该文档的分配主题编号\n",
    "\n",
    "    # 找到分配主题编号中出现次数最多的主题\n",
    "    most_common, num_most_common = Counter(assignments).most_common(1)[0]\n",
    "    print(book, \":\", most_common, \"-\", num_most_common)  # 打印该书的主要主题编号及其出现次数\n",
    "    print(\"Accuracy:\", num_most_common / limit)  # 计算准确率 (主要主题出现次数 / 文档总数)\n",
    "    print(\"------\")\n",
    "```\n",
    "\n",
    "- **逻辑**：\n",
    "  1. 遍历每本书，找到属于该书的所有文档。\n",
    "  2. 对这些文档，统计它们被分配到的主题编号（`assignments`）。\n",
    "  3. 找到最常见的分配主题编号（`most_common`），及其出现次数（`num_most_common`）。\n",
    "  4. 计算该书的分配准确率：**主要主题出现次数 / 文档总数**。\n",
    "\n",
    "**输入输出解释**\n",
    "\n",
    "**输入**\n",
    "1. **语料库（`corpus`）**：\n",
    "   - 文档的 Bag-of-Words 表示。\n",
    "2. **LDA 模型（`model`）**：\n",
    "   - 用于推断每篇文档的主题分布。\n",
    "3. **真实主题编号（`chunk_class`）**：\n",
    "   - 每篇文档对应的真实主题编号。\n",
    "4. **书籍映射（`book_id`）**：\n",
    "   - 每本书对应的主题编号。\n",
    "\n",
    "**输出**\n",
    "对每本书，输出：\n",
    "1. **最常见的分配主题编号**及其**出现次数**。\n",
    "2. **准确率**：该书被正确分配到其真实主题的文档比例。\n",
    "\n",
    "**示例**\n",
    "假设：\n",
    "- `book_id = {'book1.txt': 0, 'book2.txt': 1}`\n",
    "- `chunk_class = [0, 0, 0, 1, 1, 1]`\n",
    "- `sent_to_cluster = [0, 0, 1, 1, 1, 0]`\n",
    "\n",
    "运行结果：\n",
    "```plaintext\n",
    "book1.txt : 0 - 2\n",
    "Accuracy: 0.4\n",
    "------\n",
    "book2.txt : 1 - 2\n",
    "Accuracy: 0.4\n",
    "------\n",
    "```\n",
    "\n",
    "解释：\n",
    "- **`book1.txt`**：\n",
    "  - 它的真实主题编号是 `0`。\n",
    "  - 它的文档中，2 篇被分配到了主题 `0`。\n",
    "  - 准确率：`2/5 = 0.4`。\n",
    "\n",
    "- **`book2.txt`**：\n",
    "  - 它的真实主题编号是 `1`。\n",
    "  - 它的文档中，2 篇被分配到了主题 `1`。\n",
    "  - 准确率：`2/5 = 0.4`。"
   ]
  },
  {
   "cell_type": "markdown",
   "metadata": {},
   "source": [
    "# Task 4: Semantic analysis based on lexical categories"
   ]
  },
  {
   "cell_type": "markdown",
   "metadata": {},
   "source": [
    "**Empath 的背景**\n",
    "- **Empath** 是一个工具，用于分析文本中的情感、主题和语义。\n",
    "- 它的核心功能是将文本与 **预定义的类别**（如情绪、活动、地点等）匹配，并输出每个类别的得分。\n",
    "- 这些类别是通过机器学习从大型语料库（如电影剧本、新闻）中提取的。\n",
    "\n",
    "**Empath 的作用**\n",
    "1. **分析文本类别**：\n",
    "   - Empath 包含多个类别，例如：\n",
    "     - 情感：`positive_emotion`, `negative_emotion`\n",
    "     - 主题：`business`, `sports`, `technology`\n",
    "     - 活动：`traveling`, `cooking`\n",
    "   - 它会计算出每个类别在输入文本中的相关性分数。\n",
    "\n",
    "2. **快速分类**：\n",
    "   - 分析文本时，Empath 不需要手动标注类别，它会自动根据内置的模型匹配类别。"
   ]
  },
  {
   "cell_type": "code",
   "execution_count": 114,
   "metadata": {},
   "outputs": [],
   "source": [
    "from empath import Empath\n",
    "lexicon = Empath()"
   ]
  },
  {
   "cell_type": "markdown",
   "metadata": {},
   "source": [
    "### Let's see what pre-build categories we can study! More information: https://hci.stanford.edu/publications/2016/ethan/empath-chi-2016.pdf"
   ]
  },
  {
   "cell_type": "markdown",
   "metadata": {},
   "source": [
    "1. **`lexicon.cats.keys()`**:\n",
    "   - `lexicon.cats` 是 Empath 提供的所有预定义类别的字典。\n",
    "   - `keys()` 返回字典中所有类别的名称（键）。\n",
    "\n",
    "2. **`list(lexicon.cats.keys())[:15]`**:\n",
    "   - 将类别名称转换为列表，并取前 15 个类别。\n",
    "   - 这是为了避免打印所有类别，仅显示前 15 个。\n",
    "\n",
    "3. **循环打印类别名称**:\n",
    "   - 使用 `for` 循环，逐一打印前 15 个类别名称。"
   ]
  },
  {
   "cell_type": "code",
   "execution_count": 115,
   "metadata": {},
   "outputs": [
    {
     "name": "stdout",
     "output_type": "stream",
     "text": [
      "help\n",
      "office\n",
      "dance\n",
      "money\n",
      "wedding\n",
      "domestic_work\n",
      "sleep\n",
      "medical_emergency\n",
      "cold\n",
      "hate\n",
      "cheerfulness\n",
      "aggression\n",
      "occupation\n",
      "envy\n",
      "anticipation\n"
     ]
    }
   ],
   "source": [
    "for cat in list(lexicon.cats.keys())[:15]:\n",
    "    print(cat)"
   ]
  },
  {
   "cell_type": "markdown",
   "metadata": {},
   "source": [
    "### For each category, we can examine representative terms"
   ]
  },
  {
   "cell_type": "markdown",
   "metadata": {},
   "source": [
    "1. **获取类别 \"health\"**：\n",
    "   - `lexicon.cats[\"health\"]` 返回 **\"health\"** 类别中包含的所有单词或短语列表。\n",
    "   - 这些单词是 Empath 的预定义词汇，与 \"health\" 类别相关。\n",
    "\n",
    "2. **切片操作 `[:15]`**：\n",
    "   - 从类别 \"health\" 的单词列表中，取前 **15 个单词**，以便查看部分内容，而不是显示完整列表。"
   ]
  },
  {
   "cell_type": "code",
   "execution_count": 116,
   "metadata": {},
   "outputs": [
    {
     "data": {
      "text/plain": [
       "['stress',\n",
       " 'cramp',\n",
       " 'cancer',\n",
       " 'dosage',\n",
       " 'autism',\n",
       " 'insulin',\n",
       " 'bulimia',\n",
       " 'pneumonia',\n",
       " 'supplement',\n",
       " 'trimester',\n",
       " 'arthritis',\n",
       " 'treatment',\n",
       " 'physician',\n",
       " 'hospital',\n",
       " 'therapist']"
      ]
     },
     "execution_count": 116,
     "metadata": {},
     "output_type": "execute_result"
    }
   ],
   "source": [
    "lexicon.cats[\"health\"][:15]"
   ]
  },
  {
   "cell_type": "markdown",
   "metadata": {},
   "source": [
    "### Studying Pride and Prejudice"
   ]
  },
  {
   "cell_type": "markdown",
   "metadata": {},
   "source": [
    "**Empath 分析**\n",
    "```python\n",
    "empath_features = lexicon.analyze(doc.text, categories=[\"disappointment\", \"pain\", \"joy\", \"beauty\", \"affection\"])\n",
    "```\n",
    "\n",
    "- **`lexicon.analyze(doc.text)`**：\n",
    "  - **`doc.text`** 是文本内容（`books[3]` 的完整文本）。\n",
    "  - **`categories=[\"disappointment\", \"pain\", \"joy\", \"beauty\", \"affection\"]`**：\n",
    "    - 指定 Empath 要分析的特定类别.\n",
    "\n",
    "- **返回值**：\n",
    "  - `analyze` 方法会返回一个字典，键是类别名称，值是该类别的得分，表示文本与该类别的相关性强度。\n",
    "  - 例如：\n",
    "    ```python\n",
    "    {\n",
    "        \"disappointment\": 12,\n",
    "        \"pain\": 5,\n",
    "        \"joy\": 20,\n",
    "        \"beauty\": 15,\n",
    "        \"affection\": 8\n",
    "    }\n",
    "    ```"
   ]
  },
  {
   "cell_type": "code",
   "execution_count": 117,
   "metadata": {},
   "outputs": [],
   "source": [
    "nlp = spacy.load('en_core_web_sm')\n",
    "doc = nlp(books[3])"
   ]
  },
  {
   "cell_type": "code",
   "execution_count": 118,
   "metadata": {},
   "outputs": [],
   "source": [
    "empath_features = lexicon.analyze(doc.text,categories = [\"disappointment\", \"pain\", \"joy\", \"beauty\", \"affection\"])"
   ]
  },
  {
   "cell_type": "code",
   "execution_count": 119,
   "metadata": {},
   "outputs": [
    {
     "data": {
      "text/plain": [
       "{'disappointment': 149.0,\n",
       " 'pain': 228.0,\n",
       " 'joy': 278.0,\n",
       " 'beauty': 136.0,\n",
       " 'affection': 439.0}"
      ]
     },
     "execution_count": 119,
     "metadata": {},
     "output_type": "execute_result"
    }
   ],
   "source": [
    "empath_features"
   ]
  },
  {
   "cell_type": "markdown",
   "metadata": {},
   "source": [
    "**`normalize=True` 的含义**\n",
    "\n",
    "1. **未归一化的结果**：\n",
    "   - 当 `normalize=False`（默认值）时，Empath 返回的是每个类别在文本中匹配到的绝对数量。\n",
    "   - 例如：\n",
    "     ```python\n",
    "     {\n",
    "         \"disappointment\": 12,\n",
    "         \"pain\": 5,\n",
    "         \"joy\": 20,\n",
    "         \"beauty\": 15,\n",
    "         \"affection\": 8\n",
    "     }\n",
    "     ```\n",
    "     上述结果表示文本中分别出现了 12 个与 \"disappointment\" 类别相关的单词，5 个与 \"pain\" 类别相关的单词，等等。\n",
    "\n",
    "2. **归一化后的结果**：\n",
    "   - 当 `normalize=True` 时，Empath 会将每个类别的分数除以文本的总单词数，使得返回的结果是 **每个类别相关单词在文本中的比例**。\n",
    "   - 例如：\n",
    "     ```python\n",
    "     {\n",
    "         \"disappointment\": 0.03,\n",
    "         \"pain\": 0.01,\n",
    "         \"joy\": 0.05,\n",
    "         \"beauty\": 0.04,\n",
    "         \"affection\": 0.02\n",
    "     }\n",
    "     ```\n",
    "     上述结果表示：\n",
    "     - 文本中 3% 的单词与 \"disappointment\" 类别相关。\n",
    "     - 1% 的单词与 \"pain\" 类别相关。\n",
    "     - 5% 的单词与 \"joy\" 类别相关，等等。"
   ]
  },
  {
   "cell_type": "code",
   "execution_count": 120,
   "metadata": {},
   "outputs": [],
   "source": [
    "empath_features = lexicon.analyze(doc.text,categories = [\"disappointment\", \"pain\", \"joy\", \"beauty\", \"affection\"], normalize = True)"
   ]
  },
  {
   "cell_type": "code",
   "execution_count": 121,
   "metadata": {},
   "outputs": [
    {
     "data": {
      "text/plain": [
       "{'disappointment': 0.0012256615693403638,\n",
       " 'pain': 0.001875508978587939,\n",
       " 'joy': 0.002286804807225645,\n",
       " 'beauty': 0.0011187246538945602,\n",
       " 'affection': 0.0036111773754390585}"
      ]
     },
     "execution_count": 121,
     "metadata": {},
     "output_type": "execute_result"
    }
   ],
   "source": [
    "empath_features"
   ]
  },
  {
   "cell_type": "markdown",
   "metadata": {},
   "source": [
    "### Usecase: the evolution of topics"
   ]
  },
  {
   "cell_type": "markdown",
   "metadata": {},
   "source": [
    "**1. 定义区间：将书分割成片段**\n",
    "```python\n",
    "bins = range(0, len(doc.text), 150000)\n",
    "```\n",
    "\n",
    "- **`len(doc.text)`**:\n",
    "  - 文本的总长度（字符数）。\n",
    "  - 这里指整本书的总字符数。\n",
    "\n",
    "- **`range(0, len(doc.text), 150000)`**:\n",
    "  - 将整本书按每 150,000 个字符分割为多个片段。\n",
    "  - 例如，如果书有 600,000 字符，`bins` 则是 `[0, 150000, 300000, 450000, 600000]`。\n",
    "\n",
    "**2. 初始化情感类别的列表**\n",
    "```python\n",
    "love = []\n",
    "pain = []\n",
    "beauty = []\n",
    "affection = []\n",
    "```\n",
    "\n",
    "- 用于存储每个片段中对应类别的频率值。\n",
    "\n",
    "**3. 遍历每个片段，计算 Empath 特征**\n",
    "```python\n",
    "for cnt, i in enumerate(bins[:-1]):\n",
    "    empath_features = lexicon.analyze(doc.text[bins[cnt]:bins[cnt+1]],\n",
    "                                      categories = [\"love\", \"pain\", \"joy\", \"beauty\", \"affection\"], normalize = True)\n",
    "    love.append(empath_features[\"love\"])\n",
    "    pain.append(empath_features[\"pain\"])\n",
    "    beauty.append(empath_features[\"beauty\"])\n",
    "    affection.append(empath_features[\"affection\"])\n",
    "```\n",
    "\n",
    "- **循环目标**：\n",
    "  - 遍历 `bins` 中每一段的起点和终点。\n",
    "  - 例如：\n",
    "    - 第一段：`doc.text[0:150000]`\n",
    "    - 第二段：`doc.text[150000:300000]`"
   ]
  },
  {
   "cell_type": "code",
   "execution_count": 122,
   "metadata": {},
   "outputs": [],
   "source": [
    "bins = range(0,len(doc.text),150000)"
   ]
  },
  {
   "cell_type": "code",
   "execution_count": 123,
   "metadata": {},
   "outputs": [],
   "source": [
    "love = []\n",
    "pain = []\n",
    "beauty = []\n",
    "affection = []\n",
    "\n",
    "\n",
    "for cnt,i in enumerate(bins[:-1]):\n",
    "    empath_features = lexicon.analyze(doc.text[bins[cnt]:bins[cnt+1]],\n",
    "                                      categories = [\"love\", \"pain\", \"joy\", \"beauty\", \"affection\"], normalize = True)\n",
    "    love.append(empath_features[\"love\"])\n",
    "    pain.append(empath_features[\"pain\"])\n",
    "    beauty.append(empath_features[\"beauty\"])\n",
    "    affection.append(empath_features[\"affection\"])"
   ]
  },
  {
   "cell_type": "code",
   "execution_count": 124,
   "metadata": {},
   "outputs": [
    {
     "data": {
      "image/png": "[encoded data removed]",
      "text/plain": [
       "<Figure size 640x480 with 1 Axes>"
      ]
     },
     "metadata": {},
     "output_type": "display_data"
    }
   ],
   "source": [
    "plt.plot(love,label = \"love\")\n",
    "plt.plot(beauty, label = \"beauty\")\n",
    "plt.plot(affection, label = \"affection\")\n",
    "plt.plot(pain,label = \"pain\")\n",
    "\n",
    "plt.xlabel(\"progression in the book\")\n",
    "plt.ylabel(\"frequency of a category\")\n",
    "plt.legend()\n",
    "\n",
    "plt.show()"
   ]
  },
  {
   "cell_type": "code",
   "execution_count": 125,
   "metadata": {},
   "outputs": [],
   "source": [
    "# We can observe how as the story progresses, beauty and affection categories decrease, while love and pain intensify!"
   ]
  },
  {
   "cell_type": "markdown",
   "metadata": {},
   "source": [
    "### We can create custom categories based on seed terms!\n",
    "### Models trained on: fiction, nytimes or reddit"
   ]
  },
  {
   "cell_type": "markdown",
   "metadata": {},
   "source": [
    "**1. 创建 Empath 类别**\n",
    "```python\n",
    "lexicon.create_category(\"healthy_food\", [\"healthy_food\", \"low_carb\", \"kale\", \"avocado\"], model=\"nytimes\")\n",
    "```\n",
    "\n",
    "- **`lexicon.create_category`**：\n",
    "  - 用于创建一个新的自定义类别。\n",
    "\n",
    "- **参数**：\n",
    "  - **类别名称 (`\"healthy_food\"`)**：\n",
    "    - 新类别的名称，用于后续分析。\n",
    "  - **词汇列表 (`[\"healthy_food\", \"low_carb\", \"kale\", \"avocado\"]`)**：\n",
    "    - 定义与该类别相关的关键词（即 \"healthy_food\" 类别包含的关键词）。\n",
    "    - 当 Empath 分析文本时，如果出现这些关键词，便会将它们归入该类别。\n",
    "  - **语料模型 (`model=\"nytimes\"`)**：\n",
    "    - 指定语料来源，以便 Empath 使用该语料来扩展类别的语义。\n",
    "    - 例如，\"nytimes\" 模型表示 Empath 使用《纽约时报》数据作为基础扩展语义。\n",
    "  \n",
    "**2. 创建多个类别**\n",
    "```python\n",
    "lexicon.create_category(\"healthy_food\", [\"healthy_food\", \"low_carb\", \"kale\", \"avocado\"], model=\"reddit\")\n",
    "```\n",
    "\n",
    "- **作用**：\n",
    "  - 再次创建名为 `\"healthy_food\"` 的类别，但这次使用 **\"reddit\"** 模型。\n",
    "  - 因为不同语料（\"nytimes\" 和 \"reddit\"）可能会对关键词的上下文或相关性有不同理解。\n",
    "  - 使用多个模型可以让类别在不同语境下的词语关联更加准确。\n",
    "\n",
    "**3. 创建新的类别 `festive_food`**\n",
    "```python\n",
    "lexicon.create_category(\"festive_food\", [\"festive_food\", \"turkey\", \"eggnog\"], model=\"nytimes\")\n",
    "```\n",
    "\n",
    "- **类别名称 (`\"festive_food\"`)**：\n",
    "  - 新类别的名称。\n",
    "- **词汇列表 (`[\"festive_food\", \"turkey\", \"eggnog\"]`)**：\n",
    "  - 定义与 \"festive_food\" 类别相关的词语，如“火鸡（turkey）”和“蛋酒（eggnog）”。\n",
    "- **语料模型 (`model=\"nytimes\"`)**：\n",
    "  - 通过使用《纽约时报》的语料数据来扩展这些词语的语义。"
   ]
  },
  {
   "cell_type": "code",
   "execution_count": 126,
   "metadata": {},
   "outputs": [],
   "source": [
    "import os\n",
    "os.environ['http_proxy'] = 'http://127.0.0.1:1080'\n",
    "os.environ['https_proxy'] = 'https://127.0.0.1:1080'"
   ]
  },
  {
   "cell_type": "code",
   "execution_count": 129,
   "metadata": {},
   "outputs": [
    {
     "ename": "ProxyError",
     "evalue": "HTTPConnectionPool(host='127.0.0.1', port=1080): Max retries exceeded with url: http://54.148.189.209:8000/create_category (Caused by ProxyError('Unable to connect to proxy', NewConnectionError('<urllib3.connection.HTTPConnection object at 0x000001EC138609D0>: Failed to establish a new connection: [WinError 10061] 由于目标计算机积极拒绝，无法连接。')))",
     "output_type": "error",
     "traceback": [
      "\u001b[1;31m---------------------------------------------------------------------------\u001b[0m",
      "\u001b[1;31mConnectionRefusedError\u001b[0m                    Traceback (most recent call last)",
      "File \u001b[1;32md:\\Users\\uji_crush\\anaconda3\\envs\\ada\\Lib\\site-packages\\urllib3\\connection.py:196\u001b[0m, in \u001b[0;36mHTTPConnection._new_conn\u001b[1;34m(self)\u001b[0m\n\u001b[0;32m    195\u001b[0m \u001b[38;5;28;01mtry\u001b[39;00m:\n\u001b[1;32m--> 196\u001b[0m     sock \u001b[38;5;241m=\u001b[39m connection\u001b[38;5;241m.\u001b[39mcreate_connection(\n\u001b[0;32m    197\u001b[0m         (\u001b[38;5;28mself\u001b[39m\u001b[38;5;241m.\u001b[39m_dns_host, \u001b[38;5;28mself\u001b[39m\u001b[38;5;241m.\u001b[39mport),\n\u001b[0;32m    198\u001b[0m         \u001b[38;5;28mself\u001b[39m\u001b[38;5;241m.\u001b[39mtimeout,\n\u001b[0;32m    199\u001b[0m         source_address\u001b[38;5;241m=\u001b[39m\u001b[38;5;28mself\u001b[39m\u001b[38;5;241m.\u001b[39msource_address,\n\u001b[0;32m    200\u001b[0m         socket_options\u001b[38;5;241m=\u001b[39m\u001b[38;5;28mself\u001b[39m\u001b[38;5;241m.\u001b[39msocket_options,\n\u001b[0;32m    201\u001b[0m     )\n\u001b[0;32m    202\u001b[0m \u001b[38;5;28;01mexcept\u001b[39;00m socket\u001b[38;5;241m.\u001b[39mgaierror \u001b[38;5;28;01mas\u001b[39;00m e:\n",
      "File \u001b[1;32md:\\Users\\uji_crush\\anaconda3\\envs\\ada\\Lib\\site-packages\\urllib3\\util\\connection.py:85\u001b[0m, in \u001b[0;36mcreate_connection\u001b[1;34m(address, timeout, source_address, socket_options)\u001b[0m\n\u001b[0;32m     84\u001b[0m \u001b[38;5;28;01mtry\u001b[39;00m:\n\u001b[1;32m---> 85\u001b[0m     \u001b[38;5;28;01mraise\u001b[39;00m err\n\u001b[0;32m     86\u001b[0m \u001b[38;5;28;01mfinally\u001b[39;00m:\n\u001b[0;32m     87\u001b[0m     \u001b[38;5;66;03m# Break explicitly a reference cycle\u001b[39;00m\n",
      "File \u001b[1;32md:\\Users\\uji_crush\\anaconda3\\envs\\ada\\Lib\\site-packages\\urllib3\\util\\connection.py:73\u001b[0m, in \u001b[0;36mcreate_connection\u001b[1;34m(address, timeout, source_address, socket_options)\u001b[0m\n\u001b[0;32m     72\u001b[0m     sock\u001b[38;5;241m.\u001b[39mbind(source_address)\n\u001b[1;32m---> 73\u001b[0m sock\u001b[38;5;241m.\u001b[39mconnect(sa)\n\u001b[0;32m     74\u001b[0m \u001b[38;5;66;03m# Break explicitly a reference cycle\u001b[39;00m\n",
      "\u001b[1;31mConnectionRefusedError\u001b[0m: [WinError 10061] 由于目标计算机积极拒绝，无法连接。",
      "\nThe above exception was the direct cause of the following exception:\n",
      "\u001b[1;31mNewConnectionError\u001b[0m                        Traceback (most recent call last)",
      "File \u001b[1;32md:\\Users\\uji_crush\\anaconda3\\envs\\ada\\Lib\\site-packages\\urllib3\\connectionpool.py:789\u001b[0m, in \u001b[0;36mHTTPConnectionPool.urlopen\u001b[1;34m(self, method, url, body, headers, retries, redirect, assert_same_host, timeout, pool_timeout, release_conn, chunked, body_pos, preload_content, decode_content, **response_kw)\u001b[0m\n\u001b[0;32m    788\u001b[0m \u001b[38;5;66;03m# Make the request on the HTTPConnection object\u001b[39;00m\n\u001b[1;32m--> 789\u001b[0m response \u001b[38;5;241m=\u001b[39m \u001b[38;5;28mself\u001b[39m\u001b[38;5;241m.\u001b[39m_make_request(\n\u001b[0;32m    790\u001b[0m     conn,\n\u001b[0;32m    791\u001b[0m     method,\n\u001b[0;32m    792\u001b[0m     url,\n\u001b[0;32m    793\u001b[0m     timeout\u001b[38;5;241m=\u001b[39mtimeout_obj,\n\u001b[0;32m    794\u001b[0m     body\u001b[38;5;241m=\u001b[39mbody,\n\u001b[0;32m    795\u001b[0m     headers\u001b[38;5;241m=\u001b[39mheaders,\n\u001b[0;32m    796\u001b[0m     chunked\u001b[38;5;241m=\u001b[39mchunked,\n\u001b[0;32m    797\u001b[0m     retries\u001b[38;5;241m=\u001b[39mretries,\n\u001b[0;32m    798\u001b[0m     response_conn\u001b[38;5;241m=\u001b[39mresponse_conn,\n\u001b[0;32m    799\u001b[0m     preload_content\u001b[38;5;241m=\u001b[39mpreload_content,\n\u001b[0;32m    800\u001b[0m     decode_content\u001b[38;5;241m=\u001b[39mdecode_content,\n\u001b[0;32m    801\u001b[0m     \u001b[38;5;241m*\u001b[39m\u001b[38;5;241m*\u001b[39mresponse_kw,\n\u001b[0;32m    802\u001b[0m )\n\u001b[0;32m    804\u001b[0m \u001b[38;5;66;03m# Everything went great!\u001b[39;00m\n",
      "File \u001b[1;32md:\\Users\\uji_crush\\anaconda3\\envs\\ada\\Lib\\site-packages\\urllib3\\connectionpool.py:495\u001b[0m, in \u001b[0;36mHTTPConnectionPool._make_request\u001b[1;34m(self, conn, method, url, body, headers, retries, timeout, chunked, response_conn, preload_content, decode_content, enforce_content_length)\u001b[0m\n\u001b[0;32m    494\u001b[0m \u001b[38;5;28;01mtry\u001b[39;00m:\n\u001b[1;32m--> 495\u001b[0m     conn\u001b[38;5;241m.\u001b[39mrequest(\n\u001b[0;32m    496\u001b[0m         method,\n\u001b[0;32m    497\u001b[0m         url,\n\u001b[0;32m    498\u001b[0m         body\u001b[38;5;241m=\u001b[39mbody,\n\u001b[0;32m    499\u001b[0m         headers\u001b[38;5;241m=\u001b[39mheaders,\n\u001b[0;32m    500\u001b[0m         chunked\u001b[38;5;241m=\u001b[39mchunked,\n\u001b[0;32m    501\u001b[0m         preload_content\u001b[38;5;241m=\u001b[39mpreload_content,\n\u001b[0;32m    502\u001b[0m         decode_content\u001b[38;5;241m=\u001b[39mdecode_content,\n\u001b[0;32m    503\u001b[0m         enforce_content_length\u001b[38;5;241m=\u001b[39menforce_content_length,\n\u001b[0;32m    504\u001b[0m     )\n\u001b[0;32m    506\u001b[0m \u001b[38;5;66;03m# We are swallowing BrokenPipeError (errno.EPIPE) since the server is\u001b[39;00m\n\u001b[0;32m    507\u001b[0m \u001b[38;5;66;03m# legitimately able to close the connection after sending a valid response.\u001b[39;00m\n\u001b[0;32m    508\u001b[0m \u001b[38;5;66;03m# With this behaviour, the received response is still readable.\u001b[39;00m\n",
      "File \u001b[1;32md:\\Users\\uji_crush\\anaconda3\\envs\\ada\\Lib\\site-packages\\urllib3\\connection.py:398\u001b[0m, in \u001b[0;36mHTTPConnection.request\u001b[1;34m(self, method, url, body, headers, chunked, preload_content, decode_content, enforce_content_length)\u001b[0m\n\u001b[0;32m    397\u001b[0m     \u001b[38;5;28mself\u001b[39m\u001b[38;5;241m.\u001b[39mputheader(header, value)\n\u001b[1;32m--> 398\u001b[0m \u001b[38;5;28mself\u001b[39m\u001b[38;5;241m.\u001b[39mendheaders()\n\u001b[0;32m    400\u001b[0m \u001b[38;5;66;03m# If we're given a body we start sending that in chunks.\u001b[39;00m\n",
      "File \u001b[1;32md:\\Users\\uji_crush\\anaconda3\\envs\\ada\\Lib\\http\\client.py:1298\u001b[0m, in \u001b[0;36mHTTPConnection.endheaders\u001b[1;34m(self, message_body, encode_chunked)\u001b[0m\n\u001b[0;32m   1297\u001b[0m     \u001b[38;5;28;01mraise\u001b[39;00m CannotSendHeader()\n\u001b[1;32m-> 1298\u001b[0m \u001b[38;5;28mself\u001b[39m\u001b[38;5;241m.\u001b[39m_send_output(message_body, encode_chunked\u001b[38;5;241m=\u001b[39mencode_chunked)\n",
      "File \u001b[1;32md:\\Users\\uji_crush\\anaconda3\\envs\\ada\\Lib\\http\\client.py:1058\u001b[0m, in \u001b[0;36mHTTPConnection._send_output\u001b[1;34m(self, message_body, encode_chunked)\u001b[0m\n\u001b[0;32m   1057\u001b[0m \u001b[38;5;28;01mdel\u001b[39;00m \u001b[38;5;28mself\u001b[39m\u001b[38;5;241m.\u001b[39m_buffer[:]\n\u001b[1;32m-> 1058\u001b[0m \u001b[38;5;28mself\u001b[39m\u001b[38;5;241m.\u001b[39msend(msg)\n\u001b[0;32m   1060\u001b[0m \u001b[38;5;28;01mif\u001b[39;00m message_body \u001b[38;5;129;01mis\u001b[39;00m \u001b[38;5;129;01mnot\u001b[39;00m \u001b[38;5;28;01mNone\u001b[39;00m:\n\u001b[0;32m   1061\u001b[0m \n\u001b[0;32m   1062\u001b[0m     \u001b[38;5;66;03m# create a consistent interface to message_body\u001b[39;00m\n",
      "File \u001b[1;32md:\\Users\\uji_crush\\anaconda3\\envs\\ada\\Lib\\http\\client.py:996\u001b[0m, in \u001b[0;36mHTTPConnection.send\u001b[1;34m(self, data)\u001b[0m\n\u001b[0;32m    995\u001b[0m \u001b[38;5;28;01mif\u001b[39;00m \u001b[38;5;28mself\u001b[39m\u001b[38;5;241m.\u001b[39mauto_open:\n\u001b[1;32m--> 996\u001b[0m     \u001b[38;5;28mself\u001b[39m\u001b[38;5;241m.\u001b[39mconnect()\n\u001b[0;32m    997\u001b[0m \u001b[38;5;28;01melse\u001b[39;00m:\n",
      "File \u001b[1;32md:\\Users\\uji_crush\\anaconda3\\envs\\ada\\Lib\\site-packages\\urllib3\\connection.py:236\u001b[0m, in \u001b[0;36mHTTPConnection.connect\u001b[1;34m(self)\u001b[0m\n\u001b[0;32m    235\u001b[0m \u001b[38;5;28;01mdef\u001b[39;00m \u001b[38;5;21mconnect\u001b[39m(\u001b[38;5;28mself\u001b[39m) \u001b[38;5;241m-\u001b[39m\u001b[38;5;241m>\u001b[39m \u001b[38;5;28;01mNone\u001b[39;00m:\n\u001b[1;32m--> 236\u001b[0m     \u001b[38;5;28mself\u001b[39m\u001b[38;5;241m.\u001b[39msock \u001b[38;5;241m=\u001b[39m \u001b[38;5;28mself\u001b[39m\u001b[38;5;241m.\u001b[39m_new_conn()\n\u001b[0;32m    237\u001b[0m     \u001b[38;5;28;01mif\u001b[39;00m \u001b[38;5;28mself\u001b[39m\u001b[38;5;241m.\u001b[39m_tunnel_host:\n\u001b[0;32m    238\u001b[0m         \u001b[38;5;66;03m# If we're tunneling it means we're connected to our proxy.\u001b[39;00m\n",
      "File \u001b[1;32md:\\Users\\uji_crush\\anaconda3\\envs\\ada\\Lib\\site-packages\\urllib3\\connection.py:211\u001b[0m, in \u001b[0;36mHTTPConnection._new_conn\u001b[1;34m(self)\u001b[0m\n\u001b[0;32m    210\u001b[0m \u001b[38;5;28;01mexcept\u001b[39;00m \u001b[38;5;167;01mOSError\u001b[39;00m \u001b[38;5;28;01mas\u001b[39;00m e:\n\u001b[1;32m--> 211\u001b[0m     \u001b[38;5;28;01mraise\u001b[39;00m NewConnectionError(\n\u001b[0;32m    212\u001b[0m         \u001b[38;5;28mself\u001b[39m, \u001b[38;5;124mf\u001b[39m\u001b[38;5;124m\"\u001b[39m\u001b[38;5;124mFailed to establish a new connection: \u001b[39m\u001b[38;5;132;01m{\u001b[39;00me\u001b[38;5;132;01m}\u001b[39;00m\u001b[38;5;124m\"\u001b[39m\n\u001b[0;32m    213\u001b[0m     ) \u001b[38;5;28;01mfrom\u001b[39;00m \u001b[38;5;21;01me\u001b[39;00m\n\u001b[0;32m    215\u001b[0m \u001b[38;5;66;03m# Audit hooks are only available in Python 3.8+\u001b[39;00m\n",
      "\u001b[1;31mNewConnectionError\u001b[0m: <urllib3.connection.HTTPConnection object at 0x000001EC138609D0>: Failed to establish a new connection: [WinError 10061] 由于目标计算机积极拒绝，无法连接。",
      "\nThe above exception was the direct cause of the following exception:\n",
      "\u001b[1;31mProxyError\u001b[0m                                Traceback (most recent call last)",
      "\u001b[1;31mProxyError\u001b[0m: ('Unable to connect to proxy', NewConnectionError('<urllib3.connection.HTTPConnection object at 0x000001EC138609D0>: Failed to establish a new connection: [WinError 10061] 由于目标计算机积极拒绝，无法连接。'))",
      "\nThe above exception was the direct cause of the following exception:\n",
      "\u001b[1;31mMaxRetryError\u001b[0m                             Traceback (most recent call last)",
      "File \u001b[1;32md:\\Users\\uji_crush\\anaconda3\\envs\\ada\\Lib\\site-packages\\requests\\adapters.py:667\u001b[0m, in \u001b[0;36mHTTPAdapter.send\u001b[1;34m(self, request, stream, timeout, verify, cert, proxies)\u001b[0m\n\u001b[0;32m    666\u001b[0m \u001b[38;5;28;01mtry\u001b[39;00m:\n\u001b[1;32m--> 667\u001b[0m     resp \u001b[38;5;241m=\u001b[39m conn\u001b[38;5;241m.\u001b[39murlopen(\n\u001b[0;32m    668\u001b[0m         method\u001b[38;5;241m=\u001b[39mrequest\u001b[38;5;241m.\u001b[39mmethod,\n\u001b[0;32m    669\u001b[0m         url\u001b[38;5;241m=\u001b[39murl,\n\u001b[0;32m    670\u001b[0m         body\u001b[38;5;241m=\u001b[39mrequest\u001b[38;5;241m.\u001b[39mbody,\n\u001b[0;32m    671\u001b[0m         headers\u001b[38;5;241m=\u001b[39mrequest\u001b[38;5;241m.\u001b[39mheaders,\n\u001b[0;32m    672\u001b[0m         redirect\u001b[38;5;241m=\u001b[39m\u001b[38;5;28;01mFalse\u001b[39;00m,\n\u001b[0;32m    673\u001b[0m         assert_same_host\u001b[38;5;241m=\u001b[39m\u001b[38;5;28;01mFalse\u001b[39;00m,\n\u001b[0;32m    674\u001b[0m         preload_content\u001b[38;5;241m=\u001b[39m\u001b[38;5;28;01mFalse\u001b[39;00m,\n\u001b[0;32m    675\u001b[0m         decode_content\u001b[38;5;241m=\u001b[39m\u001b[38;5;28;01mFalse\u001b[39;00m,\n\u001b[0;32m    676\u001b[0m         retries\u001b[38;5;241m=\u001b[39m\u001b[38;5;28mself\u001b[39m\u001b[38;5;241m.\u001b[39mmax_retries,\n\u001b[0;32m    677\u001b[0m         timeout\u001b[38;5;241m=\u001b[39mtimeout,\n\u001b[0;32m    678\u001b[0m         chunked\u001b[38;5;241m=\u001b[39mchunked,\n\u001b[0;32m    679\u001b[0m     )\n\u001b[0;32m    681\u001b[0m \u001b[38;5;28;01mexcept\u001b[39;00m (ProtocolError, \u001b[38;5;167;01mOSError\u001b[39;00m) \u001b[38;5;28;01mas\u001b[39;00m err:\n",
      "File \u001b[1;32md:\\Users\\uji_crush\\anaconda3\\envs\\ada\\Lib\\site-packages\\urllib3\\connectionpool.py:843\u001b[0m, in \u001b[0;36mHTTPConnectionPool.urlopen\u001b[1;34m(self, method, url, body, headers, retries, redirect, assert_same_host, timeout, pool_timeout, release_conn, chunked, body_pos, preload_content, decode_content, **response_kw)\u001b[0m\n\u001b[0;32m    841\u001b[0m     new_e \u001b[38;5;241m=\u001b[39m ProtocolError(\u001b[38;5;124m\"\u001b[39m\u001b[38;5;124mConnection aborted.\u001b[39m\u001b[38;5;124m\"\u001b[39m, new_e)\n\u001b[1;32m--> 843\u001b[0m retries \u001b[38;5;241m=\u001b[39m retries\u001b[38;5;241m.\u001b[39mincrement(\n\u001b[0;32m    844\u001b[0m     method, url, error\u001b[38;5;241m=\u001b[39mnew_e, _pool\u001b[38;5;241m=\u001b[39m\u001b[38;5;28mself\u001b[39m, _stacktrace\u001b[38;5;241m=\u001b[39msys\u001b[38;5;241m.\u001b[39mexc_info()[\u001b[38;5;241m2\u001b[39m]\n\u001b[0;32m    845\u001b[0m )\n\u001b[0;32m    846\u001b[0m retries\u001b[38;5;241m.\u001b[39msleep()\n",
      "File \u001b[1;32md:\\Users\\uji_crush\\anaconda3\\envs\\ada\\Lib\\site-packages\\urllib3\\util\\retry.py:519\u001b[0m, in \u001b[0;36mRetry.increment\u001b[1;34m(self, method, url, response, error, _pool, _stacktrace)\u001b[0m\n\u001b[0;32m    518\u001b[0m     reason \u001b[38;5;241m=\u001b[39m error \u001b[38;5;129;01mor\u001b[39;00m ResponseError(cause)\n\u001b[1;32m--> 519\u001b[0m     \u001b[38;5;28;01mraise\u001b[39;00m MaxRetryError(_pool, url, reason) \u001b[38;5;28;01mfrom\u001b[39;00m \u001b[38;5;21;01mreason\u001b[39;00m  \u001b[38;5;66;03m# type: ignore[arg-type]\u001b[39;00m\n\u001b[0;32m    521\u001b[0m log\u001b[38;5;241m.\u001b[39mdebug(\u001b[38;5;124m\"\u001b[39m\u001b[38;5;124mIncremented Retry for (url=\u001b[39m\u001b[38;5;124m'\u001b[39m\u001b[38;5;132;01m%s\u001b[39;00m\u001b[38;5;124m'\u001b[39m\u001b[38;5;124m): \u001b[39m\u001b[38;5;132;01m%r\u001b[39;00m\u001b[38;5;124m\"\u001b[39m, url, new_retry)\n",
      "\u001b[1;31mMaxRetryError\u001b[0m: HTTPConnectionPool(host='127.0.0.1', port=1080): Max retries exceeded with url: http://54.148.189.209:8000/create_category (Caused by ProxyError('Unable to connect to proxy', NewConnectionError('<urllib3.connection.HTTPConnection object at 0x000001EC138609D0>: Failed to establish a new connection: [WinError 10061] 由于目标计算机积极拒绝，无法连接。')))",
      "\nDuring handling of the above exception, another exception occurred:\n",
      "\u001b[1;31mProxyError\u001b[0m                                Traceback (most recent call last)",
      "Cell \u001b[1;32mIn[129], line 1\u001b[0m\n\u001b[1;32m----> 1\u001b[0m lexicon\u001b[38;5;241m.\u001b[39mcreate_category(\u001b[38;5;124m\"\u001b[39m\u001b[38;5;124mhealthy_food\u001b[39m\u001b[38;5;124m\"\u001b[39m, [\u001b[38;5;124m\"\u001b[39m\u001b[38;5;124mhealthy_food\u001b[39m\u001b[38;5;124m\"\u001b[39m,\u001b[38;5;124m\"\u001b[39m\u001b[38;5;124mlow_carb\u001b[39m\u001b[38;5;124m\"\u001b[39m,\u001b[38;5;124m\"\u001b[39m\u001b[38;5;124mkale\u001b[39m\u001b[38;5;124m\"\u001b[39m,\u001b[38;5;124m\"\u001b[39m\u001b[38;5;124mavocado\u001b[39m\u001b[38;5;124m\"\u001b[39m], model\u001b[38;5;241m=\u001b[39m\u001b[38;5;124m\"\u001b[39m\u001b[38;5;124mnytimes\u001b[39m\u001b[38;5;124m\"\u001b[39m)\n",
      "File \u001b[1;32md:\\Users\\uji_crush\\anaconda3\\envs\\ada\\Lib\\site-packages\\empath\\core.py:64\u001b[0m, in \u001b[0;36mEmpath.create_category\u001b[1;34m(self, name, seeds, model, size, write)\u001b[0m\n\u001b[0;32m     63\u001b[0m \u001b[38;5;28;01mdef\u001b[39;00m \u001b[38;5;21mcreate_category\u001b[39m(\u001b[38;5;28mself\u001b[39m,name,seeds,model\u001b[38;5;241m=\u001b[39m\u001b[38;5;124m\"\u001b[39m\u001b[38;5;124mfiction\u001b[39m\u001b[38;5;124m\"\u001b[39m,size\u001b[38;5;241m=\u001b[39m\u001b[38;5;241m100\u001b[39m,write\u001b[38;5;241m=\u001b[39m\u001b[38;5;28;01mTrue\u001b[39;00m):\n\u001b[1;32m---> 64\u001b[0m     resp \u001b[38;5;241m=\u001b[39m requests\u001b[38;5;241m.\u001b[39mpost(\u001b[38;5;28mself\u001b[39m\u001b[38;5;241m.\u001b[39mbackend_url \u001b[38;5;241m+\u001b[39m \u001b[38;5;124m\"\u001b[39m\u001b[38;5;124m/create_category\u001b[39m\u001b[38;5;124m\"\u001b[39m, json\u001b[38;5;241m=\u001b[39m{\u001b[38;5;124m\"\u001b[39m\u001b[38;5;124mterms\u001b[39m\u001b[38;5;124m\"\u001b[39m:seeds,\u001b[38;5;124m\"\u001b[39m\u001b[38;5;124msize\u001b[39m\u001b[38;5;124m\"\u001b[39m:size,\u001b[38;5;124m\"\u001b[39m\u001b[38;5;124mmodel\u001b[39m\u001b[38;5;124m\"\u001b[39m:model})\n\u001b[0;32m     65\u001b[0m     \u001b[38;5;28mprint\u001b[39m(resp\u001b[38;5;241m.\u001b[39mtext)\n\u001b[0;32m     66\u001b[0m     results \u001b[38;5;241m=\u001b[39m json\u001b[38;5;241m.\u001b[39mloads(resp\u001b[38;5;241m.\u001b[39mtext)\n",
      "File \u001b[1;32md:\\Users\\uji_crush\\anaconda3\\envs\\ada\\Lib\\site-packages\\requests\\api.py:115\u001b[0m, in \u001b[0;36mpost\u001b[1;34m(url, data, json, **kwargs)\u001b[0m\n\u001b[0;32m    103\u001b[0m \u001b[38;5;28;01mdef\u001b[39;00m \u001b[38;5;21mpost\u001b[39m(url, data\u001b[38;5;241m=\u001b[39m\u001b[38;5;28;01mNone\u001b[39;00m, json\u001b[38;5;241m=\u001b[39m\u001b[38;5;28;01mNone\u001b[39;00m, \u001b[38;5;241m*\u001b[39m\u001b[38;5;241m*\u001b[39mkwargs):\n\u001b[0;32m    104\u001b[0m \u001b[38;5;250m    \u001b[39m\u001b[38;5;124mr\u001b[39m\u001b[38;5;124;03m\"\"\"Sends a POST request.\u001b[39;00m\n\u001b[0;32m    105\u001b[0m \n\u001b[0;32m    106\u001b[0m \u001b[38;5;124;03m    :param url: URL for the new :class:`Request` object.\u001b[39;00m\n\u001b[1;32m   (...)\u001b[0m\n\u001b[0;32m    112\u001b[0m \u001b[38;5;124;03m    :rtype: requests.Response\u001b[39;00m\n\u001b[0;32m    113\u001b[0m \u001b[38;5;124;03m    \"\"\"\u001b[39;00m\n\u001b[1;32m--> 115\u001b[0m     \u001b[38;5;28;01mreturn\u001b[39;00m request(\u001b[38;5;124m\"\u001b[39m\u001b[38;5;124mpost\u001b[39m\u001b[38;5;124m\"\u001b[39m, url, data\u001b[38;5;241m=\u001b[39mdata, json\u001b[38;5;241m=\u001b[39mjson, \u001b[38;5;241m*\u001b[39m\u001b[38;5;241m*\u001b[39mkwargs)\n",
      "File \u001b[1;32md:\\Users\\uji_crush\\anaconda3\\envs\\ada\\Lib\\site-packages\\requests\\api.py:59\u001b[0m, in \u001b[0;36mrequest\u001b[1;34m(method, url, **kwargs)\u001b[0m\n\u001b[0;32m     55\u001b[0m \u001b[38;5;66;03m# By using the 'with' statement we are sure the session is closed, thus we\u001b[39;00m\n\u001b[0;32m     56\u001b[0m \u001b[38;5;66;03m# avoid leaving sockets open which can trigger a ResourceWarning in some\u001b[39;00m\n\u001b[0;32m     57\u001b[0m \u001b[38;5;66;03m# cases, and look like a memory leak in others.\u001b[39;00m\n\u001b[0;32m     58\u001b[0m \u001b[38;5;28;01mwith\u001b[39;00m sessions\u001b[38;5;241m.\u001b[39mSession() \u001b[38;5;28;01mas\u001b[39;00m session:\n\u001b[1;32m---> 59\u001b[0m     \u001b[38;5;28;01mreturn\u001b[39;00m session\u001b[38;5;241m.\u001b[39mrequest(method\u001b[38;5;241m=\u001b[39mmethod, url\u001b[38;5;241m=\u001b[39murl, \u001b[38;5;241m*\u001b[39m\u001b[38;5;241m*\u001b[39mkwargs)\n",
      "File \u001b[1;32md:\\Users\\uji_crush\\anaconda3\\envs\\ada\\Lib\\site-packages\\requests\\sessions.py:589\u001b[0m, in \u001b[0;36mSession.request\u001b[1;34m(self, method, url, params, data, headers, cookies, files, auth, timeout, allow_redirects, proxies, hooks, stream, verify, cert, json)\u001b[0m\n\u001b[0;32m    584\u001b[0m send_kwargs \u001b[38;5;241m=\u001b[39m {\n\u001b[0;32m    585\u001b[0m     \u001b[38;5;124m\"\u001b[39m\u001b[38;5;124mtimeout\u001b[39m\u001b[38;5;124m\"\u001b[39m: timeout,\n\u001b[0;32m    586\u001b[0m     \u001b[38;5;124m\"\u001b[39m\u001b[38;5;124mallow_redirects\u001b[39m\u001b[38;5;124m\"\u001b[39m: allow_redirects,\n\u001b[0;32m    587\u001b[0m }\n\u001b[0;32m    588\u001b[0m send_kwargs\u001b[38;5;241m.\u001b[39mupdate(settings)\n\u001b[1;32m--> 589\u001b[0m resp \u001b[38;5;241m=\u001b[39m \u001b[38;5;28mself\u001b[39m\u001b[38;5;241m.\u001b[39msend(prep, \u001b[38;5;241m*\u001b[39m\u001b[38;5;241m*\u001b[39msend_kwargs)\n\u001b[0;32m    591\u001b[0m \u001b[38;5;28;01mreturn\u001b[39;00m resp\n",
      "File \u001b[1;32md:\\Users\\uji_crush\\anaconda3\\envs\\ada\\Lib\\site-packages\\requests\\sessions.py:703\u001b[0m, in \u001b[0;36mSession.send\u001b[1;34m(self, request, **kwargs)\u001b[0m\n\u001b[0;32m    700\u001b[0m start \u001b[38;5;241m=\u001b[39m preferred_clock()\n\u001b[0;32m    702\u001b[0m \u001b[38;5;66;03m# Send the request\u001b[39;00m\n\u001b[1;32m--> 703\u001b[0m r \u001b[38;5;241m=\u001b[39m adapter\u001b[38;5;241m.\u001b[39msend(request, \u001b[38;5;241m*\u001b[39m\u001b[38;5;241m*\u001b[39mkwargs)\n\u001b[0;32m    705\u001b[0m \u001b[38;5;66;03m# Total elapsed time of the request (approximately)\u001b[39;00m\n\u001b[0;32m    706\u001b[0m elapsed \u001b[38;5;241m=\u001b[39m preferred_clock() \u001b[38;5;241m-\u001b[39m start\n",
      "File \u001b[1;32md:\\Users\\uji_crush\\anaconda3\\envs\\ada\\Lib\\site-packages\\requests\\adapters.py:694\u001b[0m, in \u001b[0;36mHTTPAdapter.send\u001b[1;34m(self, request, stream, timeout, verify, cert, proxies)\u001b[0m\n\u001b[0;32m    691\u001b[0m     \u001b[38;5;28;01mraise\u001b[39;00m RetryError(e, request\u001b[38;5;241m=\u001b[39mrequest)\n\u001b[0;32m    693\u001b[0m \u001b[38;5;28;01mif\u001b[39;00m \u001b[38;5;28misinstance\u001b[39m(e\u001b[38;5;241m.\u001b[39mreason, _ProxyError):\n\u001b[1;32m--> 694\u001b[0m     \u001b[38;5;28;01mraise\u001b[39;00m ProxyError(e, request\u001b[38;5;241m=\u001b[39mrequest)\n\u001b[0;32m    696\u001b[0m \u001b[38;5;28;01mif\u001b[39;00m \u001b[38;5;28misinstance\u001b[39m(e\u001b[38;5;241m.\u001b[39mreason, _SSLError):\n\u001b[0;32m    697\u001b[0m     \u001b[38;5;66;03m# This branch is for urllib3 v1.22 and later.\u001b[39;00m\n\u001b[0;32m    698\u001b[0m     \u001b[38;5;28;01mraise\u001b[39;00m SSLError(e, request\u001b[38;5;241m=\u001b[39mrequest)\n",
      "\u001b[1;31mProxyError\u001b[0m: HTTPConnectionPool(host='127.0.0.1', port=1080): Max retries exceeded with url: http://54.148.189.209:8000/create_category (Caused by ProxyError('Unable to connect to proxy', NewConnectionError('<urllib3.connection.HTTPConnection object at 0x000001EC138609D0>: Failed to establish a new connection: [WinError 10061] 由于目标计算机积极拒绝，无法连接。')))"
     ]
    }
   ],
   "source": [
    "lexicon.create_category(\"healthy_food\", [\"healthy_food\",\"low_carb\",\"kale\",\"avocado\"], model=\"nytimes\")"
   ]
  },
  {
   "cell_type": "code",
   "execution_count": 102,
   "metadata": {},
   "outputs": [
    {
     "ename": "ConnectionError",
     "evalue": "HTTPConnectionPool(host='54.148.189.209', port=8000): Max retries exceeded with url: /create_category (Caused by NewConnectionError('<urllib3.connection.HTTPConnection object at 0x00000173052E14D0>: Failed to establish a new connection: [WinError 10061] 由于目标计算机积极拒绝，无法连接。'))",
     "output_type": "error",
     "traceback": [
      "\u001b[1;31m---------------------------------------------------------------------------\u001b[0m",
      "\u001b[1;31mConnectionRefusedError\u001b[0m                    Traceback (most recent call last)",
      "File \u001b[1;32md:\\Users\\uji_crush\\anaconda3\\envs\\ada\\Lib\\site-packages\\urllib3\\connection.py:196\u001b[0m, in \u001b[0;36mHTTPConnection._new_conn\u001b[1;34m(self)\u001b[0m\n\u001b[0;32m    195\u001b[0m \u001b[38;5;28;01mtry\u001b[39;00m:\n\u001b[1;32m--> 196\u001b[0m     sock \u001b[38;5;241m=\u001b[39m connection\u001b[38;5;241m.\u001b[39mcreate_connection(\n\u001b[0;32m    197\u001b[0m         (\u001b[38;5;28mself\u001b[39m\u001b[38;5;241m.\u001b[39m_dns_host, \u001b[38;5;28mself\u001b[39m\u001b[38;5;241m.\u001b[39mport),\n\u001b[0;32m    198\u001b[0m         \u001b[38;5;28mself\u001b[39m\u001b[38;5;241m.\u001b[39mtimeout,\n\u001b[0;32m    199\u001b[0m         source_address\u001b[38;5;241m=\u001b[39m\u001b[38;5;28mself\u001b[39m\u001b[38;5;241m.\u001b[39msource_address,\n\u001b[0;32m    200\u001b[0m         socket_options\u001b[38;5;241m=\u001b[39m\u001b[38;5;28mself\u001b[39m\u001b[38;5;241m.\u001b[39msocket_options,\n\u001b[0;32m    201\u001b[0m     )\n\u001b[0;32m    202\u001b[0m \u001b[38;5;28;01mexcept\u001b[39;00m socket\u001b[38;5;241m.\u001b[39mgaierror \u001b[38;5;28;01mas\u001b[39;00m e:\n",
      "File \u001b[1;32md:\\Users\\uji_crush\\anaconda3\\envs\\ada\\Lib\\site-packages\\urllib3\\util\\connection.py:85\u001b[0m, in \u001b[0;36mcreate_connection\u001b[1;34m(address, timeout, source_address, socket_options)\u001b[0m\n\u001b[0;32m     84\u001b[0m \u001b[38;5;28;01mtry\u001b[39;00m:\n\u001b[1;32m---> 85\u001b[0m     \u001b[38;5;28;01mraise\u001b[39;00m err\n\u001b[0;32m     86\u001b[0m \u001b[38;5;28;01mfinally\u001b[39;00m:\n\u001b[0;32m     87\u001b[0m     \u001b[38;5;66;03m# Break explicitly a reference cycle\u001b[39;00m\n",
      "File \u001b[1;32md:\\Users\\uji_crush\\anaconda3\\envs\\ada\\Lib\\site-packages\\urllib3\\util\\connection.py:73\u001b[0m, in \u001b[0;36mcreate_connection\u001b[1;34m(address, timeout, source_address, socket_options)\u001b[0m\n\u001b[0;32m     72\u001b[0m     sock\u001b[38;5;241m.\u001b[39mbind(source_address)\n\u001b[1;32m---> 73\u001b[0m sock\u001b[38;5;241m.\u001b[39mconnect(sa)\n\u001b[0;32m     74\u001b[0m \u001b[38;5;66;03m# Break explicitly a reference cycle\u001b[39;00m\n",
      "\u001b[1;31mConnectionRefusedError\u001b[0m: [WinError 10061] 由于目标计算机积极拒绝，无法连接。",
      "\nThe above exception was the direct cause of the following exception:\n",
      "\u001b[1;31mNewConnectionError\u001b[0m                        Traceback (most recent call last)",
      "File \u001b[1;32md:\\Users\\uji_crush\\anaconda3\\envs\\ada\\Lib\\site-packages\\urllib3\\connectionpool.py:789\u001b[0m, in \u001b[0;36mHTTPConnectionPool.urlopen\u001b[1;34m(self, method, url, body, headers, retries, redirect, assert_same_host, timeout, pool_timeout, release_conn, chunked, body_pos, preload_content, decode_content, **response_kw)\u001b[0m\n\u001b[0;32m    788\u001b[0m \u001b[38;5;66;03m# Make the request on the HTTPConnection object\u001b[39;00m\n\u001b[1;32m--> 789\u001b[0m response \u001b[38;5;241m=\u001b[39m \u001b[38;5;28mself\u001b[39m\u001b[38;5;241m.\u001b[39m_make_request(\n\u001b[0;32m    790\u001b[0m     conn,\n\u001b[0;32m    791\u001b[0m     method,\n\u001b[0;32m    792\u001b[0m     url,\n\u001b[0;32m    793\u001b[0m     timeout\u001b[38;5;241m=\u001b[39mtimeout_obj,\n\u001b[0;32m    794\u001b[0m     body\u001b[38;5;241m=\u001b[39mbody,\n\u001b[0;32m    795\u001b[0m     headers\u001b[38;5;241m=\u001b[39mheaders,\n\u001b[0;32m    796\u001b[0m     chunked\u001b[38;5;241m=\u001b[39mchunked,\n\u001b[0;32m    797\u001b[0m     retries\u001b[38;5;241m=\u001b[39mretries,\n\u001b[0;32m    798\u001b[0m     response_conn\u001b[38;5;241m=\u001b[39mresponse_conn,\n\u001b[0;32m    799\u001b[0m     preload_content\u001b[38;5;241m=\u001b[39mpreload_content,\n\u001b[0;32m    800\u001b[0m     decode_content\u001b[38;5;241m=\u001b[39mdecode_content,\n\u001b[0;32m    801\u001b[0m     \u001b[38;5;241m*\u001b[39m\u001b[38;5;241m*\u001b[39mresponse_kw,\n\u001b[0;32m    802\u001b[0m )\n\u001b[0;32m    804\u001b[0m \u001b[38;5;66;03m# Everything went great!\u001b[39;00m\n",
      "File \u001b[1;32md:\\Users\\uji_crush\\anaconda3\\envs\\ada\\Lib\\site-packages\\urllib3\\connectionpool.py:495\u001b[0m, in \u001b[0;36mHTTPConnectionPool._make_request\u001b[1;34m(self, conn, method, url, body, headers, retries, timeout, chunked, response_conn, preload_content, decode_content, enforce_content_length)\u001b[0m\n\u001b[0;32m    494\u001b[0m \u001b[38;5;28;01mtry\u001b[39;00m:\n\u001b[1;32m--> 495\u001b[0m     conn\u001b[38;5;241m.\u001b[39mrequest(\n\u001b[0;32m    496\u001b[0m         method,\n\u001b[0;32m    497\u001b[0m         url,\n\u001b[0;32m    498\u001b[0m         body\u001b[38;5;241m=\u001b[39mbody,\n\u001b[0;32m    499\u001b[0m         headers\u001b[38;5;241m=\u001b[39mheaders,\n\u001b[0;32m    500\u001b[0m         chunked\u001b[38;5;241m=\u001b[39mchunked,\n\u001b[0;32m    501\u001b[0m         preload_content\u001b[38;5;241m=\u001b[39mpreload_content,\n\u001b[0;32m    502\u001b[0m         decode_content\u001b[38;5;241m=\u001b[39mdecode_content,\n\u001b[0;32m    503\u001b[0m         enforce_content_length\u001b[38;5;241m=\u001b[39menforce_content_length,\n\u001b[0;32m    504\u001b[0m     )\n\u001b[0;32m    506\u001b[0m \u001b[38;5;66;03m# We are swallowing BrokenPipeError (errno.EPIPE) since the server is\u001b[39;00m\n\u001b[0;32m    507\u001b[0m \u001b[38;5;66;03m# legitimately able to close the connection after sending a valid response.\u001b[39;00m\n\u001b[0;32m    508\u001b[0m \u001b[38;5;66;03m# With this behaviour, the received response is still readable.\u001b[39;00m\n",
      "File \u001b[1;32md:\\Users\\uji_crush\\anaconda3\\envs\\ada\\Lib\\site-packages\\urllib3\\connection.py:398\u001b[0m, in \u001b[0;36mHTTPConnection.request\u001b[1;34m(self, method, url, body, headers, chunked, preload_content, decode_content, enforce_content_length)\u001b[0m\n\u001b[0;32m    397\u001b[0m     \u001b[38;5;28mself\u001b[39m\u001b[38;5;241m.\u001b[39mputheader(header, value)\n\u001b[1;32m--> 398\u001b[0m \u001b[38;5;28mself\u001b[39m\u001b[38;5;241m.\u001b[39mendheaders()\n\u001b[0;32m    400\u001b[0m \u001b[38;5;66;03m# If we're given a body we start sending that in chunks.\u001b[39;00m\n",
      "File \u001b[1;32md:\\Users\\uji_crush\\anaconda3\\envs\\ada\\Lib\\http\\client.py:1298\u001b[0m, in \u001b[0;36mHTTPConnection.endheaders\u001b[1;34m(self, message_body, encode_chunked)\u001b[0m\n\u001b[0;32m   1297\u001b[0m     \u001b[38;5;28;01mraise\u001b[39;00m CannotSendHeader()\n\u001b[1;32m-> 1298\u001b[0m \u001b[38;5;28mself\u001b[39m\u001b[38;5;241m.\u001b[39m_send_output(message_body, encode_chunked\u001b[38;5;241m=\u001b[39mencode_chunked)\n",
      "File \u001b[1;32md:\\Users\\uji_crush\\anaconda3\\envs\\ada\\Lib\\http\\client.py:1058\u001b[0m, in \u001b[0;36mHTTPConnection._send_output\u001b[1;34m(self, message_body, encode_chunked)\u001b[0m\n\u001b[0;32m   1057\u001b[0m \u001b[38;5;28;01mdel\u001b[39;00m \u001b[38;5;28mself\u001b[39m\u001b[38;5;241m.\u001b[39m_buffer[:]\n\u001b[1;32m-> 1058\u001b[0m \u001b[38;5;28mself\u001b[39m\u001b[38;5;241m.\u001b[39msend(msg)\n\u001b[0;32m   1060\u001b[0m \u001b[38;5;28;01mif\u001b[39;00m message_body \u001b[38;5;129;01mis\u001b[39;00m \u001b[38;5;129;01mnot\u001b[39;00m \u001b[38;5;28;01mNone\u001b[39;00m:\n\u001b[0;32m   1061\u001b[0m \n\u001b[0;32m   1062\u001b[0m     \u001b[38;5;66;03m# create a consistent interface to message_body\u001b[39;00m\n",
      "File \u001b[1;32md:\\Users\\uji_crush\\anaconda3\\envs\\ada\\Lib\\http\\client.py:996\u001b[0m, in \u001b[0;36mHTTPConnection.send\u001b[1;34m(self, data)\u001b[0m\n\u001b[0;32m    995\u001b[0m \u001b[38;5;28;01mif\u001b[39;00m \u001b[38;5;28mself\u001b[39m\u001b[38;5;241m.\u001b[39mauto_open:\n\u001b[1;32m--> 996\u001b[0m     \u001b[38;5;28mself\u001b[39m\u001b[38;5;241m.\u001b[39mconnect()\n\u001b[0;32m    997\u001b[0m \u001b[38;5;28;01melse\u001b[39;00m:\n",
      "File \u001b[1;32md:\\Users\\uji_crush\\anaconda3\\envs\\ada\\Lib\\site-packages\\urllib3\\connection.py:236\u001b[0m, in \u001b[0;36mHTTPConnection.connect\u001b[1;34m(self)\u001b[0m\n\u001b[0;32m    235\u001b[0m \u001b[38;5;28;01mdef\u001b[39;00m \u001b[38;5;21mconnect\u001b[39m(\u001b[38;5;28mself\u001b[39m) \u001b[38;5;241m-\u001b[39m\u001b[38;5;241m>\u001b[39m \u001b[38;5;28;01mNone\u001b[39;00m:\n\u001b[1;32m--> 236\u001b[0m     \u001b[38;5;28mself\u001b[39m\u001b[38;5;241m.\u001b[39msock \u001b[38;5;241m=\u001b[39m \u001b[38;5;28mself\u001b[39m\u001b[38;5;241m.\u001b[39m_new_conn()\n\u001b[0;32m    237\u001b[0m     \u001b[38;5;28;01mif\u001b[39;00m \u001b[38;5;28mself\u001b[39m\u001b[38;5;241m.\u001b[39m_tunnel_host:\n\u001b[0;32m    238\u001b[0m         \u001b[38;5;66;03m# If we're tunneling it means we're connected to our proxy.\u001b[39;00m\n",
      "File \u001b[1;32md:\\Users\\uji_crush\\anaconda3\\envs\\ada\\Lib\\site-packages\\urllib3\\connection.py:211\u001b[0m, in \u001b[0;36mHTTPConnection._new_conn\u001b[1;34m(self)\u001b[0m\n\u001b[0;32m    210\u001b[0m \u001b[38;5;28;01mexcept\u001b[39;00m \u001b[38;5;167;01mOSError\u001b[39;00m \u001b[38;5;28;01mas\u001b[39;00m e:\n\u001b[1;32m--> 211\u001b[0m     \u001b[38;5;28;01mraise\u001b[39;00m NewConnectionError(\n\u001b[0;32m    212\u001b[0m         \u001b[38;5;28mself\u001b[39m, \u001b[38;5;124mf\u001b[39m\u001b[38;5;124m\"\u001b[39m\u001b[38;5;124mFailed to establish a new connection: \u001b[39m\u001b[38;5;132;01m{\u001b[39;00me\u001b[38;5;132;01m}\u001b[39;00m\u001b[38;5;124m\"\u001b[39m\n\u001b[0;32m    213\u001b[0m     ) \u001b[38;5;28;01mfrom\u001b[39;00m \u001b[38;5;21;01me\u001b[39;00m\n\u001b[0;32m    215\u001b[0m \u001b[38;5;66;03m# Audit hooks are only available in Python 3.8+\u001b[39;00m\n",
      "\u001b[1;31mNewConnectionError\u001b[0m: <urllib3.connection.HTTPConnection object at 0x00000173052E14D0>: Failed to establish a new connection: [WinError 10061] 由于目标计算机积极拒绝，无法连接。",
      "\nThe above exception was the direct cause of the following exception:\n",
      "\u001b[1;31mMaxRetryError\u001b[0m                             Traceback (most recent call last)",
      "File \u001b[1;32md:\\Users\\uji_crush\\anaconda3\\envs\\ada\\Lib\\site-packages\\requests\\adapters.py:667\u001b[0m, in \u001b[0;36mHTTPAdapter.send\u001b[1;34m(self, request, stream, timeout, verify, cert, proxies)\u001b[0m\n\u001b[0;32m    666\u001b[0m \u001b[38;5;28;01mtry\u001b[39;00m:\n\u001b[1;32m--> 667\u001b[0m     resp \u001b[38;5;241m=\u001b[39m conn\u001b[38;5;241m.\u001b[39murlopen(\n\u001b[0;32m    668\u001b[0m         method\u001b[38;5;241m=\u001b[39mrequest\u001b[38;5;241m.\u001b[39mmethod,\n\u001b[0;32m    669\u001b[0m         url\u001b[38;5;241m=\u001b[39murl,\n\u001b[0;32m    670\u001b[0m         body\u001b[38;5;241m=\u001b[39mrequest\u001b[38;5;241m.\u001b[39mbody,\n\u001b[0;32m    671\u001b[0m         headers\u001b[38;5;241m=\u001b[39mrequest\u001b[38;5;241m.\u001b[39mheaders,\n\u001b[0;32m    672\u001b[0m         redirect\u001b[38;5;241m=\u001b[39m\u001b[38;5;28;01mFalse\u001b[39;00m,\n\u001b[0;32m    673\u001b[0m         assert_same_host\u001b[38;5;241m=\u001b[39m\u001b[38;5;28;01mFalse\u001b[39;00m,\n\u001b[0;32m    674\u001b[0m         preload_content\u001b[38;5;241m=\u001b[39m\u001b[38;5;28;01mFalse\u001b[39;00m,\n\u001b[0;32m    675\u001b[0m         decode_content\u001b[38;5;241m=\u001b[39m\u001b[38;5;28;01mFalse\u001b[39;00m,\n\u001b[0;32m    676\u001b[0m         retries\u001b[38;5;241m=\u001b[39m\u001b[38;5;28mself\u001b[39m\u001b[38;5;241m.\u001b[39mmax_retries,\n\u001b[0;32m    677\u001b[0m         timeout\u001b[38;5;241m=\u001b[39mtimeout,\n\u001b[0;32m    678\u001b[0m         chunked\u001b[38;5;241m=\u001b[39mchunked,\n\u001b[0;32m    679\u001b[0m     )\n\u001b[0;32m    681\u001b[0m \u001b[38;5;28;01mexcept\u001b[39;00m (ProtocolError, \u001b[38;5;167;01mOSError\u001b[39;00m) \u001b[38;5;28;01mas\u001b[39;00m err:\n",
      "File \u001b[1;32md:\\Users\\uji_crush\\anaconda3\\envs\\ada\\Lib\\site-packages\\urllib3\\connectionpool.py:843\u001b[0m, in \u001b[0;36mHTTPConnectionPool.urlopen\u001b[1;34m(self, method, url, body, headers, retries, redirect, assert_same_host, timeout, pool_timeout, release_conn, chunked, body_pos, preload_content, decode_content, **response_kw)\u001b[0m\n\u001b[0;32m    841\u001b[0m     new_e \u001b[38;5;241m=\u001b[39m ProtocolError(\u001b[38;5;124m\"\u001b[39m\u001b[38;5;124mConnection aborted.\u001b[39m\u001b[38;5;124m\"\u001b[39m, new_e)\n\u001b[1;32m--> 843\u001b[0m retries \u001b[38;5;241m=\u001b[39m retries\u001b[38;5;241m.\u001b[39mincrement(\n\u001b[0;32m    844\u001b[0m     method, url, error\u001b[38;5;241m=\u001b[39mnew_e, _pool\u001b[38;5;241m=\u001b[39m\u001b[38;5;28mself\u001b[39m, _stacktrace\u001b[38;5;241m=\u001b[39msys\u001b[38;5;241m.\u001b[39mexc_info()[\u001b[38;5;241m2\u001b[39m]\n\u001b[0;32m    845\u001b[0m )\n\u001b[0;32m    846\u001b[0m retries\u001b[38;5;241m.\u001b[39msleep()\n",
      "File \u001b[1;32md:\\Users\\uji_crush\\anaconda3\\envs\\ada\\Lib\\site-packages\\urllib3\\util\\retry.py:519\u001b[0m, in \u001b[0;36mRetry.increment\u001b[1;34m(self, method, url, response, error, _pool, _stacktrace)\u001b[0m\n\u001b[0;32m    518\u001b[0m     reason \u001b[38;5;241m=\u001b[39m error \u001b[38;5;129;01mor\u001b[39;00m ResponseError(cause)\n\u001b[1;32m--> 519\u001b[0m     \u001b[38;5;28;01mraise\u001b[39;00m MaxRetryError(_pool, url, reason) \u001b[38;5;28;01mfrom\u001b[39;00m \u001b[38;5;21;01mreason\u001b[39;00m  \u001b[38;5;66;03m# type: ignore[arg-type]\u001b[39;00m\n\u001b[0;32m    521\u001b[0m log\u001b[38;5;241m.\u001b[39mdebug(\u001b[38;5;124m\"\u001b[39m\u001b[38;5;124mIncremented Retry for (url=\u001b[39m\u001b[38;5;124m'\u001b[39m\u001b[38;5;132;01m%s\u001b[39;00m\u001b[38;5;124m'\u001b[39m\u001b[38;5;124m): \u001b[39m\u001b[38;5;132;01m%r\u001b[39;00m\u001b[38;5;124m\"\u001b[39m, url, new_retry)\n",
      "\u001b[1;31mMaxRetryError\u001b[0m: HTTPConnectionPool(host='54.148.189.209', port=8000): Max retries exceeded with url: /create_category (Caused by NewConnectionError('<urllib3.connection.HTTPConnection object at 0x00000173052E14D0>: Failed to establish a new connection: [WinError 10061] 由于目标计算机积极拒绝，无法连接。'))",
      "\nDuring handling of the above exception, another exception occurred:\n",
      "\u001b[1;31mConnectionError\u001b[0m                           Traceback (most recent call last)",
      "Cell \u001b[1;32mIn[102], line 1\u001b[0m\n\u001b[1;32m----> 1\u001b[0m lexicon\u001b[38;5;241m.\u001b[39mcreate_category(\u001b[38;5;124m\"\u001b[39m\u001b[38;5;124mhealthy_food\u001b[39m\u001b[38;5;124m\"\u001b[39m, [\u001b[38;5;124m\"\u001b[39m\u001b[38;5;124mhealthy_food\u001b[39m\u001b[38;5;124m\"\u001b[39m,\u001b[38;5;124m\"\u001b[39m\u001b[38;5;124mlow_carb\u001b[39m\u001b[38;5;124m\"\u001b[39m,\u001b[38;5;124m\"\u001b[39m\u001b[38;5;124mkale\u001b[39m\u001b[38;5;124m\"\u001b[39m,\u001b[38;5;124m\"\u001b[39m\u001b[38;5;124mavocado\u001b[39m\u001b[38;5;124m\"\u001b[39m], model\u001b[38;5;241m=\u001b[39m\u001b[38;5;124m\"\u001b[39m\u001b[38;5;124mreddit\u001b[39m\u001b[38;5;124m\"\u001b[39m)\n",
      "File \u001b[1;32md:\\Users\\uji_crush\\anaconda3\\envs\\ada\\Lib\\site-packages\\empath\\core.py:64\u001b[0m, in \u001b[0;36mEmpath.create_category\u001b[1;34m(self, name, seeds, model, size, write)\u001b[0m\n\u001b[0;32m     63\u001b[0m \u001b[38;5;28;01mdef\u001b[39;00m \u001b[38;5;21mcreate_category\u001b[39m(\u001b[38;5;28mself\u001b[39m,name,seeds,model\u001b[38;5;241m=\u001b[39m\u001b[38;5;124m\"\u001b[39m\u001b[38;5;124mfiction\u001b[39m\u001b[38;5;124m\"\u001b[39m,size\u001b[38;5;241m=\u001b[39m\u001b[38;5;241m100\u001b[39m,write\u001b[38;5;241m=\u001b[39m\u001b[38;5;28;01mTrue\u001b[39;00m):\n\u001b[1;32m---> 64\u001b[0m     resp \u001b[38;5;241m=\u001b[39m requests\u001b[38;5;241m.\u001b[39mpost(\u001b[38;5;28mself\u001b[39m\u001b[38;5;241m.\u001b[39mbackend_url \u001b[38;5;241m+\u001b[39m \u001b[38;5;124m\"\u001b[39m\u001b[38;5;124m/create_category\u001b[39m\u001b[38;5;124m\"\u001b[39m, json\u001b[38;5;241m=\u001b[39m{\u001b[38;5;124m\"\u001b[39m\u001b[38;5;124mterms\u001b[39m\u001b[38;5;124m\"\u001b[39m:seeds,\u001b[38;5;124m\"\u001b[39m\u001b[38;5;124msize\u001b[39m\u001b[38;5;124m\"\u001b[39m:size,\u001b[38;5;124m\"\u001b[39m\u001b[38;5;124mmodel\u001b[39m\u001b[38;5;124m\"\u001b[39m:model})\n\u001b[0;32m     65\u001b[0m     \u001b[38;5;28mprint\u001b[39m(resp\u001b[38;5;241m.\u001b[39mtext)\n\u001b[0;32m     66\u001b[0m     results \u001b[38;5;241m=\u001b[39m json\u001b[38;5;241m.\u001b[39mloads(resp\u001b[38;5;241m.\u001b[39mtext)\n",
      "File \u001b[1;32md:\\Users\\uji_crush\\anaconda3\\envs\\ada\\Lib\\site-packages\\requests\\api.py:115\u001b[0m, in \u001b[0;36mpost\u001b[1;34m(url, data, json, **kwargs)\u001b[0m\n\u001b[0;32m    103\u001b[0m \u001b[38;5;28;01mdef\u001b[39;00m \u001b[38;5;21mpost\u001b[39m(url, data\u001b[38;5;241m=\u001b[39m\u001b[38;5;28;01mNone\u001b[39;00m, json\u001b[38;5;241m=\u001b[39m\u001b[38;5;28;01mNone\u001b[39;00m, \u001b[38;5;241m*\u001b[39m\u001b[38;5;241m*\u001b[39mkwargs):\n\u001b[0;32m    104\u001b[0m \u001b[38;5;250m    \u001b[39m\u001b[38;5;124mr\u001b[39m\u001b[38;5;124;03m\"\"\"Sends a POST request.\u001b[39;00m\n\u001b[0;32m    105\u001b[0m \n\u001b[0;32m    106\u001b[0m \u001b[38;5;124;03m    :param url: URL for the new :class:`Request` object.\u001b[39;00m\n\u001b[1;32m   (...)\u001b[0m\n\u001b[0;32m    112\u001b[0m \u001b[38;5;124;03m    :rtype: requests.Response\u001b[39;00m\n\u001b[0;32m    113\u001b[0m \u001b[38;5;124;03m    \"\"\"\u001b[39;00m\n\u001b[1;32m--> 115\u001b[0m     \u001b[38;5;28;01mreturn\u001b[39;00m request(\u001b[38;5;124m\"\u001b[39m\u001b[38;5;124mpost\u001b[39m\u001b[38;5;124m\"\u001b[39m, url, data\u001b[38;5;241m=\u001b[39mdata, json\u001b[38;5;241m=\u001b[39mjson, \u001b[38;5;241m*\u001b[39m\u001b[38;5;241m*\u001b[39mkwargs)\n",
      "File \u001b[1;32md:\\Users\\uji_crush\\anaconda3\\envs\\ada\\Lib\\site-packages\\requests\\api.py:59\u001b[0m, in \u001b[0;36mrequest\u001b[1;34m(method, url, **kwargs)\u001b[0m\n\u001b[0;32m     55\u001b[0m \u001b[38;5;66;03m# By using the 'with' statement we are sure the session is closed, thus we\u001b[39;00m\n\u001b[0;32m     56\u001b[0m \u001b[38;5;66;03m# avoid leaving sockets open which can trigger a ResourceWarning in some\u001b[39;00m\n\u001b[0;32m     57\u001b[0m \u001b[38;5;66;03m# cases, and look like a memory leak in others.\u001b[39;00m\n\u001b[0;32m     58\u001b[0m \u001b[38;5;28;01mwith\u001b[39;00m sessions\u001b[38;5;241m.\u001b[39mSession() \u001b[38;5;28;01mas\u001b[39;00m session:\n\u001b[1;32m---> 59\u001b[0m     \u001b[38;5;28;01mreturn\u001b[39;00m session\u001b[38;5;241m.\u001b[39mrequest(method\u001b[38;5;241m=\u001b[39mmethod, url\u001b[38;5;241m=\u001b[39murl, \u001b[38;5;241m*\u001b[39m\u001b[38;5;241m*\u001b[39mkwargs)\n",
      "File \u001b[1;32md:\\Users\\uji_crush\\anaconda3\\envs\\ada\\Lib\\site-packages\\requests\\sessions.py:589\u001b[0m, in \u001b[0;36mSession.request\u001b[1;34m(self, method, url, params, data, headers, cookies, files, auth, timeout, allow_redirects, proxies, hooks, stream, verify, cert, json)\u001b[0m\n\u001b[0;32m    584\u001b[0m send_kwargs \u001b[38;5;241m=\u001b[39m {\n\u001b[0;32m    585\u001b[0m     \u001b[38;5;124m\"\u001b[39m\u001b[38;5;124mtimeout\u001b[39m\u001b[38;5;124m\"\u001b[39m: timeout,\n\u001b[0;32m    586\u001b[0m     \u001b[38;5;124m\"\u001b[39m\u001b[38;5;124mallow_redirects\u001b[39m\u001b[38;5;124m\"\u001b[39m: allow_redirects,\n\u001b[0;32m    587\u001b[0m }\n\u001b[0;32m    588\u001b[0m send_kwargs\u001b[38;5;241m.\u001b[39mupdate(settings)\n\u001b[1;32m--> 589\u001b[0m resp \u001b[38;5;241m=\u001b[39m \u001b[38;5;28mself\u001b[39m\u001b[38;5;241m.\u001b[39msend(prep, \u001b[38;5;241m*\u001b[39m\u001b[38;5;241m*\u001b[39msend_kwargs)\n\u001b[0;32m    591\u001b[0m \u001b[38;5;28;01mreturn\u001b[39;00m resp\n",
      "File \u001b[1;32md:\\Users\\uji_crush\\anaconda3\\envs\\ada\\Lib\\site-packages\\requests\\sessions.py:703\u001b[0m, in \u001b[0;36mSession.send\u001b[1;34m(self, request, **kwargs)\u001b[0m\n\u001b[0;32m    700\u001b[0m start \u001b[38;5;241m=\u001b[39m preferred_clock()\n\u001b[0;32m    702\u001b[0m \u001b[38;5;66;03m# Send the request\u001b[39;00m\n\u001b[1;32m--> 703\u001b[0m r \u001b[38;5;241m=\u001b[39m adapter\u001b[38;5;241m.\u001b[39msend(request, \u001b[38;5;241m*\u001b[39m\u001b[38;5;241m*\u001b[39mkwargs)\n\u001b[0;32m    705\u001b[0m \u001b[38;5;66;03m# Total elapsed time of the request (approximately)\u001b[39;00m\n\u001b[0;32m    706\u001b[0m elapsed \u001b[38;5;241m=\u001b[39m preferred_clock() \u001b[38;5;241m-\u001b[39m start\n",
      "File \u001b[1;32md:\\Users\\uji_crush\\anaconda3\\envs\\ada\\Lib\\site-packages\\requests\\adapters.py:700\u001b[0m, in \u001b[0;36mHTTPAdapter.send\u001b[1;34m(self, request, stream, timeout, verify, cert, proxies)\u001b[0m\n\u001b[0;32m    696\u001b[0m     \u001b[38;5;28;01mif\u001b[39;00m \u001b[38;5;28misinstance\u001b[39m(e\u001b[38;5;241m.\u001b[39mreason, _SSLError):\n\u001b[0;32m    697\u001b[0m         \u001b[38;5;66;03m# This branch is for urllib3 v1.22 and later.\u001b[39;00m\n\u001b[0;32m    698\u001b[0m         \u001b[38;5;28;01mraise\u001b[39;00m SSLError(e, request\u001b[38;5;241m=\u001b[39mrequest)\n\u001b[1;32m--> 700\u001b[0m     \u001b[38;5;28;01mraise\u001b[39;00m \u001b[38;5;167;01mConnectionError\u001b[39;00m(e, request\u001b[38;5;241m=\u001b[39mrequest)\n\u001b[0;32m    702\u001b[0m \u001b[38;5;28;01mexcept\u001b[39;00m ClosedPoolError \u001b[38;5;28;01mas\u001b[39;00m e:\n\u001b[0;32m    703\u001b[0m     \u001b[38;5;28;01mraise\u001b[39;00m \u001b[38;5;167;01mConnectionError\u001b[39;00m(e, request\u001b[38;5;241m=\u001b[39mrequest)\n",
      "\u001b[1;31mConnectionError\u001b[0m: HTTPConnectionPool(host='54.148.189.209', port=8000): Max retries exceeded with url: /create_category (Caused by NewConnectionError('<urllib3.connection.HTTPConnection object at 0x00000173052E14D0>: Failed to establish a new connection: [WinError 10061] 由于目标计算机积极拒绝，无法连接。'))"
     ]
    }
   ],
   "source": [
    "lexicon.create_category(\"healthy_food\", [\"healthy_food\",\"low_carb\",\"kale\",\"avocado\"], model=\"reddit\")"
   ]
  },
  {
   "cell_type": "code",
   "execution_count": 130,
   "metadata": {},
   "outputs": [
    {
     "ename": "ProxyError",
     "evalue": "HTTPConnectionPool(host='127.0.0.1', port=1080): Max retries exceeded with url: http://54.148.189.209:8000/create_category (Caused by ProxyError('Unable to connect to proxy', NewConnectionError('<urllib3.connection.HTTPConnection object at 0x000001EC138439D0>: Failed to establish a new connection: [WinError 10061] 由于目标计算机积极拒绝，无法连接。')))",
     "output_type": "error",
     "traceback": [
      "\u001b[1;31m---------------------------------------------------------------------------\u001b[0m",
      "\u001b[1;31mConnectionRefusedError\u001b[0m                    Traceback (most recent call last)",
      "File \u001b[1;32md:\\Users\\uji_crush\\anaconda3\\envs\\ada\\Lib\\site-packages\\urllib3\\connection.py:196\u001b[0m, in \u001b[0;36mHTTPConnection._new_conn\u001b[1;34m(self)\u001b[0m\n\u001b[0;32m    195\u001b[0m \u001b[38;5;28;01mtry\u001b[39;00m:\n\u001b[1;32m--> 196\u001b[0m     sock \u001b[38;5;241m=\u001b[39m connection\u001b[38;5;241m.\u001b[39mcreate_connection(\n\u001b[0;32m    197\u001b[0m         (\u001b[38;5;28mself\u001b[39m\u001b[38;5;241m.\u001b[39m_dns_host, \u001b[38;5;28mself\u001b[39m\u001b[38;5;241m.\u001b[39mport),\n\u001b[0;32m    198\u001b[0m         \u001b[38;5;28mself\u001b[39m\u001b[38;5;241m.\u001b[39mtimeout,\n\u001b[0;32m    199\u001b[0m         source_address\u001b[38;5;241m=\u001b[39m\u001b[38;5;28mself\u001b[39m\u001b[38;5;241m.\u001b[39msource_address,\n\u001b[0;32m    200\u001b[0m         socket_options\u001b[38;5;241m=\u001b[39m\u001b[38;5;28mself\u001b[39m\u001b[38;5;241m.\u001b[39msocket_options,\n\u001b[0;32m    201\u001b[0m     )\n\u001b[0;32m    202\u001b[0m \u001b[38;5;28;01mexcept\u001b[39;00m socket\u001b[38;5;241m.\u001b[39mgaierror \u001b[38;5;28;01mas\u001b[39;00m e:\n",
      "File \u001b[1;32md:\\Users\\uji_crush\\anaconda3\\envs\\ada\\Lib\\site-packages\\urllib3\\util\\connection.py:85\u001b[0m, in \u001b[0;36mcreate_connection\u001b[1;34m(address, timeout, source_address, socket_options)\u001b[0m\n\u001b[0;32m     84\u001b[0m \u001b[38;5;28;01mtry\u001b[39;00m:\n\u001b[1;32m---> 85\u001b[0m     \u001b[38;5;28;01mraise\u001b[39;00m err\n\u001b[0;32m     86\u001b[0m \u001b[38;5;28;01mfinally\u001b[39;00m:\n\u001b[0;32m     87\u001b[0m     \u001b[38;5;66;03m# Break explicitly a reference cycle\u001b[39;00m\n",
      "File \u001b[1;32md:\\Users\\uji_crush\\anaconda3\\envs\\ada\\Lib\\site-packages\\urllib3\\util\\connection.py:73\u001b[0m, in \u001b[0;36mcreate_connection\u001b[1;34m(address, timeout, source_address, socket_options)\u001b[0m\n\u001b[0;32m     72\u001b[0m     sock\u001b[38;5;241m.\u001b[39mbind(source_address)\n\u001b[1;32m---> 73\u001b[0m sock\u001b[38;5;241m.\u001b[39mconnect(sa)\n\u001b[0;32m     74\u001b[0m \u001b[38;5;66;03m# Break explicitly a reference cycle\u001b[39;00m\n",
      "\u001b[1;31mConnectionRefusedError\u001b[0m: [WinError 10061] 由于目标计算机积极拒绝，无法连接。",
      "\nThe above exception was the direct cause of the following exception:\n",
      "\u001b[1;31mNewConnectionError\u001b[0m                        Traceback (most recent call last)",
      "File \u001b[1;32md:\\Users\\uji_crush\\anaconda3\\envs\\ada\\Lib\\site-packages\\urllib3\\connectionpool.py:789\u001b[0m, in \u001b[0;36mHTTPConnectionPool.urlopen\u001b[1;34m(self, method, url, body, headers, retries, redirect, assert_same_host, timeout, pool_timeout, release_conn, chunked, body_pos, preload_content, decode_content, **response_kw)\u001b[0m\n\u001b[0;32m    788\u001b[0m \u001b[38;5;66;03m# Make the request on the HTTPConnection object\u001b[39;00m\n\u001b[1;32m--> 789\u001b[0m response \u001b[38;5;241m=\u001b[39m \u001b[38;5;28mself\u001b[39m\u001b[38;5;241m.\u001b[39m_make_request(\n\u001b[0;32m    790\u001b[0m     conn,\n\u001b[0;32m    791\u001b[0m     method,\n\u001b[0;32m    792\u001b[0m     url,\n\u001b[0;32m    793\u001b[0m     timeout\u001b[38;5;241m=\u001b[39mtimeout_obj,\n\u001b[0;32m    794\u001b[0m     body\u001b[38;5;241m=\u001b[39mbody,\n\u001b[0;32m    795\u001b[0m     headers\u001b[38;5;241m=\u001b[39mheaders,\n\u001b[0;32m    796\u001b[0m     chunked\u001b[38;5;241m=\u001b[39mchunked,\n\u001b[0;32m    797\u001b[0m     retries\u001b[38;5;241m=\u001b[39mretries,\n\u001b[0;32m    798\u001b[0m     response_conn\u001b[38;5;241m=\u001b[39mresponse_conn,\n\u001b[0;32m    799\u001b[0m     preload_content\u001b[38;5;241m=\u001b[39mpreload_content,\n\u001b[0;32m    800\u001b[0m     decode_content\u001b[38;5;241m=\u001b[39mdecode_content,\n\u001b[0;32m    801\u001b[0m     \u001b[38;5;241m*\u001b[39m\u001b[38;5;241m*\u001b[39mresponse_kw,\n\u001b[0;32m    802\u001b[0m )\n\u001b[0;32m    804\u001b[0m \u001b[38;5;66;03m# Everything went great!\u001b[39;00m\n",
      "File \u001b[1;32md:\\Users\\uji_crush\\anaconda3\\envs\\ada\\Lib\\site-packages\\urllib3\\connectionpool.py:495\u001b[0m, in \u001b[0;36mHTTPConnectionPool._make_request\u001b[1;34m(self, conn, method, url, body, headers, retries, timeout, chunked, response_conn, preload_content, decode_content, enforce_content_length)\u001b[0m\n\u001b[0;32m    494\u001b[0m \u001b[38;5;28;01mtry\u001b[39;00m:\n\u001b[1;32m--> 495\u001b[0m     conn\u001b[38;5;241m.\u001b[39mrequest(\n\u001b[0;32m    496\u001b[0m         method,\n\u001b[0;32m    497\u001b[0m         url,\n\u001b[0;32m    498\u001b[0m         body\u001b[38;5;241m=\u001b[39mbody,\n\u001b[0;32m    499\u001b[0m         headers\u001b[38;5;241m=\u001b[39mheaders,\n\u001b[0;32m    500\u001b[0m         chunked\u001b[38;5;241m=\u001b[39mchunked,\n\u001b[0;32m    501\u001b[0m         preload_content\u001b[38;5;241m=\u001b[39mpreload_content,\n\u001b[0;32m    502\u001b[0m         decode_content\u001b[38;5;241m=\u001b[39mdecode_content,\n\u001b[0;32m    503\u001b[0m         enforce_content_length\u001b[38;5;241m=\u001b[39menforce_content_length,\n\u001b[0;32m    504\u001b[0m     )\n\u001b[0;32m    506\u001b[0m \u001b[38;5;66;03m# We are swallowing BrokenPipeError (errno.EPIPE) since the server is\u001b[39;00m\n\u001b[0;32m    507\u001b[0m \u001b[38;5;66;03m# legitimately able to close the connection after sending a valid response.\u001b[39;00m\n\u001b[0;32m    508\u001b[0m \u001b[38;5;66;03m# With this behaviour, the received response is still readable.\u001b[39;00m\n",
      "File \u001b[1;32md:\\Users\\uji_crush\\anaconda3\\envs\\ada\\Lib\\site-packages\\urllib3\\connection.py:398\u001b[0m, in \u001b[0;36mHTTPConnection.request\u001b[1;34m(self, method, url, body, headers, chunked, preload_content, decode_content, enforce_content_length)\u001b[0m\n\u001b[0;32m    397\u001b[0m     \u001b[38;5;28mself\u001b[39m\u001b[38;5;241m.\u001b[39mputheader(header, value)\n\u001b[1;32m--> 398\u001b[0m \u001b[38;5;28mself\u001b[39m\u001b[38;5;241m.\u001b[39mendheaders()\n\u001b[0;32m    400\u001b[0m \u001b[38;5;66;03m# If we're given a body we start sending that in chunks.\u001b[39;00m\n",
      "File \u001b[1;32md:\\Users\\uji_crush\\anaconda3\\envs\\ada\\Lib\\http\\client.py:1298\u001b[0m, in \u001b[0;36mHTTPConnection.endheaders\u001b[1;34m(self, message_body, encode_chunked)\u001b[0m\n\u001b[0;32m   1297\u001b[0m     \u001b[38;5;28;01mraise\u001b[39;00m CannotSendHeader()\n\u001b[1;32m-> 1298\u001b[0m \u001b[38;5;28mself\u001b[39m\u001b[38;5;241m.\u001b[39m_send_output(message_body, encode_chunked\u001b[38;5;241m=\u001b[39mencode_chunked)\n",
      "File \u001b[1;32md:\\Users\\uji_crush\\anaconda3\\envs\\ada\\Lib\\http\\client.py:1058\u001b[0m, in \u001b[0;36mHTTPConnection._send_output\u001b[1;34m(self, message_body, encode_chunked)\u001b[0m\n\u001b[0;32m   1057\u001b[0m \u001b[38;5;28;01mdel\u001b[39;00m \u001b[38;5;28mself\u001b[39m\u001b[38;5;241m.\u001b[39m_buffer[:]\n\u001b[1;32m-> 1058\u001b[0m \u001b[38;5;28mself\u001b[39m\u001b[38;5;241m.\u001b[39msend(msg)\n\u001b[0;32m   1060\u001b[0m \u001b[38;5;28;01mif\u001b[39;00m message_body \u001b[38;5;129;01mis\u001b[39;00m \u001b[38;5;129;01mnot\u001b[39;00m \u001b[38;5;28;01mNone\u001b[39;00m:\n\u001b[0;32m   1061\u001b[0m \n\u001b[0;32m   1062\u001b[0m     \u001b[38;5;66;03m# create a consistent interface to message_body\u001b[39;00m\n",
      "File \u001b[1;32md:\\Users\\uji_crush\\anaconda3\\envs\\ada\\Lib\\http\\client.py:996\u001b[0m, in \u001b[0;36mHTTPConnection.send\u001b[1;34m(self, data)\u001b[0m\n\u001b[0;32m    995\u001b[0m \u001b[38;5;28;01mif\u001b[39;00m \u001b[38;5;28mself\u001b[39m\u001b[38;5;241m.\u001b[39mauto_open:\n\u001b[1;32m--> 996\u001b[0m     \u001b[38;5;28mself\u001b[39m\u001b[38;5;241m.\u001b[39mconnect()\n\u001b[0;32m    997\u001b[0m \u001b[38;5;28;01melse\u001b[39;00m:\n",
      "File \u001b[1;32md:\\Users\\uji_crush\\anaconda3\\envs\\ada\\Lib\\site-packages\\urllib3\\connection.py:236\u001b[0m, in \u001b[0;36mHTTPConnection.connect\u001b[1;34m(self)\u001b[0m\n\u001b[0;32m    235\u001b[0m \u001b[38;5;28;01mdef\u001b[39;00m \u001b[38;5;21mconnect\u001b[39m(\u001b[38;5;28mself\u001b[39m) \u001b[38;5;241m-\u001b[39m\u001b[38;5;241m>\u001b[39m \u001b[38;5;28;01mNone\u001b[39;00m:\n\u001b[1;32m--> 236\u001b[0m     \u001b[38;5;28mself\u001b[39m\u001b[38;5;241m.\u001b[39msock \u001b[38;5;241m=\u001b[39m \u001b[38;5;28mself\u001b[39m\u001b[38;5;241m.\u001b[39m_new_conn()\n\u001b[0;32m    237\u001b[0m     \u001b[38;5;28;01mif\u001b[39;00m \u001b[38;5;28mself\u001b[39m\u001b[38;5;241m.\u001b[39m_tunnel_host:\n\u001b[0;32m    238\u001b[0m         \u001b[38;5;66;03m# If we're tunneling it means we're connected to our proxy.\u001b[39;00m\n",
      "File \u001b[1;32md:\\Users\\uji_crush\\anaconda3\\envs\\ada\\Lib\\site-packages\\urllib3\\connection.py:211\u001b[0m, in \u001b[0;36mHTTPConnection._new_conn\u001b[1;34m(self)\u001b[0m\n\u001b[0;32m    210\u001b[0m \u001b[38;5;28;01mexcept\u001b[39;00m \u001b[38;5;167;01mOSError\u001b[39;00m \u001b[38;5;28;01mas\u001b[39;00m e:\n\u001b[1;32m--> 211\u001b[0m     \u001b[38;5;28;01mraise\u001b[39;00m NewConnectionError(\n\u001b[0;32m    212\u001b[0m         \u001b[38;5;28mself\u001b[39m, \u001b[38;5;124mf\u001b[39m\u001b[38;5;124m\"\u001b[39m\u001b[38;5;124mFailed to establish a new connection: \u001b[39m\u001b[38;5;132;01m{\u001b[39;00me\u001b[38;5;132;01m}\u001b[39;00m\u001b[38;5;124m\"\u001b[39m\n\u001b[0;32m    213\u001b[0m     ) \u001b[38;5;28;01mfrom\u001b[39;00m \u001b[38;5;21;01me\u001b[39;00m\n\u001b[0;32m    215\u001b[0m \u001b[38;5;66;03m# Audit hooks are only available in Python 3.8+\u001b[39;00m\n",
      "\u001b[1;31mNewConnectionError\u001b[0m: <urllib3.connection.HTTPConnection object at 0x000001EC138439D0>: Failed to establish a new connection: [WinError 10061] 由于目标计算机积极拒绝，无法连接。",
      "\nThe above exception was the direct cause of the following exception:\n",
      "\u001b[1;31mProxyError\u001b[0m                                Traceback (most recent call last)",
      "\u001b[1;31mProxyError\u001b[0m: ('Unable to connect to proxy', NewConnectionError('<urllib3.connection.HTTPConnection object at 0x000001EC138439D0>: Failed to establish a new connection: [WinError 10061] 由于目标计算机积极拒绝，无法连接。'))",
      "\nThe above exception was the direct cause of the following exception:\n",
      "\u001b[1;31mMaxRetryError\u001b[0m                             Traceback (most recent call last)",
      "File \u001b[1;32md:\\Users\\uji_crush\\anaconda3\\envs\\ada\\Lib\\site-packages\\requests\\adapters.py:667\u001b[0m, in \u001b[0;36mHTTPAdapter.send\u001b[1;34m(self, request, stream, timeout, verify, cert, proxies)\u001b[0m\n\u001b[0;32m    666\u001b[0m \u001b[38;5;28;01mtry\u001b[39;00m:\n\u001b[1;32m--> 667\u001b[0m     resp \u001b[38;5;241m=\u001b[39m conn\u001b[38;5;241m.\u001b[39murlopen(\n\u001b[0;32m    668\u001b[0m         method\u001b[38;5;241m=\u001b[39mrequest\u001b[38;5;241m.\u001b[39mmethod,\n\u001b[0;32m    669\u001b[0m         url\u001b[38;5;241m=\u001b[39murl,\n\u001b[0;32m    670\u001b[0m         body\u001b[38;5;241m=\u001b[39mrequest\u001b[38;5;241m.\u001b[39mbody,\n\u001b[0;32m    671\u001b[0m         headers\u001b[38;5;241m=\u001b[39mrequest\u001b[38;5;241m.\u001b[39mheaders,\n\u001b[0;32m    672\u001b[0m         redirect\u001b[38;5;241m=\u001b[39m\u001b[38;5;28;01mFalse\u001b[39;00m,\n\u001b[0;32m    673\u001b[0m         assert_same_host\u001b[38;5;241m=\u001b[39m\u001b[38;5;28;01mFalse\u001b[39;00m,\n\u001b[0;32m    674\u001b[0m         preload_content\u001b[38;5;241m=\u001b[39m\u001b[38;5;28;01mFalse\u001b[39;00m,\n\u001b[0;32m    675\u001b[0m         decode_content\u001b[38;5;241m=\u001b[39m\u001b[38;5;28;01mFalse\u001b[39;00m,\n\u001b[0;32m    676\u001b[0m         retries\u001b[38;5;241m=\u001b[39m\u001b[38;5;28mself\u001b[39m\u001b[38;5;241m.\u001b[39mmax_retries,\n\u001b[0;32m    677\u001b[0m         timeout\u001b[38;5;241m=\u001b[39mtimeout,\n\u001b[0;32m    678\u001b[0m         chunked\u001b[38;5;241m=\u001b[39mchunked,\n\u001b[0;32m    679\u001b[0m     )\n\u001b[0;32m    681\u001b[0m \u001b[38;5;28;01mexcept\u001b[39;00m (ProtocolError, \u001b[38;5;167;01mOSError\u001b[39;00m) \u001b[38;5;28;01mas\u001b[39;00m err:\n",
      "File \u001b[1;32md:\\Users\\uji_crush\\anaconda3\\envs\\ada\\Lib\\site-packages\\urllib3\\connectionpool.py:843\u001b[0m, in \u001b[0;36mHTTPConnectionPool.urlopen\u001b[1;34m(self, method, url, body, headers, retries, redirect, assert_same_host, timeout, pool_timeout, release_conn, chunked, body_pos, preload_content, decode_content, **response_kw)\u001b[0m\n\u001b[0;32m    841\u001b[0m     new_e \u001b[38;5;241m=\u001b[39m ProtocolError(\u001b[38;5;124m\"\u001b[39m\u001b[38;5;124mConnection aborted.\u001b[39m\u001b[38;5;124m\"\u001b[39m, new_e)\n\u001b[1;32m--> 843\u001b[0m retries \u001b[38;5;241m=\u001b[39m retries\u001b[38;5;241m.\u001b[39mincrement(\n\u001b[0;32m    844\u001b[0m     method, url, error\u001b[38;5;241m=\u001b[39mnew_e, _pool\u001b[38;5;241m=\u001b[39m\u001b[38;5;28mself\u001b[39m, _stacktrace\u001b[38;5;241m=\u001b[39msys\u001b[38;5;241m.\u001b[39mexc_info()[\u001b[38;5;241m2\u001b[39m]\n\u001b[0;32m    845\u001b[0m )\n\u001b[0;32m    846\u001b[0m retries\u001b[38;5;241m.\u001b[39msleep()\n",
      "File \u001b[1;32md:\\Users\\uji_crush\\anaconda3\\envs\\ada\\Lib\\site-packages\\urllib3\\util\\retry.py:519\u001b[0m, in \u001b[0;36mRetry.increment\u001b[1;34m(self, method, url, response, error, _pool, _stacktrace)\u001b[0m\n\u001b[0;32m    518\u001b[0m     reason \u001b[38;5;241m=\u001b[39m error \u001b[38;5;129;01mor\u001b[39;00m ResponseError(cause)\n\u001b[1;32m--> 519\u001b[0m     \u001b[38;5;28;01mraise\u001b[39;00m MaxRetryError(_pool, url, reason) \u001b[38;5;28;01mfrom\u001b[39;00m \u001b[38;5;21;01mreason\u001b[39;00m  \u001b[38;5;66;03m# type: ignore[arg-type]\u001b[39;00m\n\u001b[0;32m    521\u001b[0m log\u001b[38;5;241m.\u001b[39mdebug(\u001b[38;5;124m\"\u001b[39m\u001b[38;5;124mIncremented Retry for (url=\u001b[39m\u001b[38;5;124m'\u001b[39m\u001b[38;5;132;01m%s\u001b[39;00m\u001b[38;5;124m'\u001b[39m\u001b[38;5;124m): \u001b[39m\u001b[38;5;132;01m%r\u001b[39;00m\u001b[38;5;124m\"\u001b[39m, url, new_retry)\n",
      "\u001b[1;31mMaxRetryError\u001b[0m: HTTPConnectionPool(host='127.0.0.1', port=1080): Max retries exceeded with url: http://54.148.189.209:8000/create_category (Caused by ProxyError('Unable to connect to proxy', NewConnectionError('<urllib3.connection.HTTPConnection object at 0x000001EC138439D0>: Failed to establish a new connection: [WinError 10061] 由于目标计算机积极拒绝，无法连接。')))",
      "\nDuring handling of the above exception, another exception occurred:\n",
      "\u001b[1;31mProxyError\u001b[0m                                Traceback (most recent call last)",
      "Cell \u001b[1;32mIn[130], line 1\u001b[0m\n\u001b[1;32m----> 1\u001b[0m lexicon\u001b[38;5;241m.\u001b[39mcreate_category(\u001b[38;5;124m\"\u001b[39m\u001b[38;5;124mfestive_food\u001b[39m\u001b[38;5;124m\"\u001b[39m, [\u001b[38;5;124m\"\u001b[39m\u001b[38;5;124mfestive_food\u001b[39m\u001b[38;5;124m\"\u001b[39m,\u001b[38;5;124m\"\u001b[39m\u001b[38;5;124mturkey\u001b[39m\u001b[38;5;124m\"\u001b[39m,\u001b[38;5;124m\"\u001b[39m\u001b[38;5;124meggnog\u001b[39m\u001b[38;5;124m\"\u001b[39m], model\u001b[38;5;241m=\u001b[39m\u001b[38;5;124m\"\u001b[39m\u001b[38;5;124mnytimes\u001b[39m\u001b[38;5;124m\"\u001b[39m)\n",
      "File \u001b[1;32md:\\Users\\uji_crush\\anaconda3\\envs\\ada\\Lib\\site-packages\\empath\\core.py:64\u001b[0m, in \u001b[0;36mEmpath.create_category\u001b[1;34m(self, name, seeds, model, size, write)\u001b[0m\n\u001b[0;32m     63\u001b[0m \u001b[38;5;28;01mdef\u001b[39;00m \u001b[38;5;21mcreate_category\u001b[39m(\u001b[38;5;28mself\u001b[39m,name,seeds,model\u001b[38;5;241m=\u001b[39m\u001b[38;5;124m\"\u001b[39m\u001b[38;5;124mfiction\u001b[39m\u001b[38;5;124m\"\u001b[39m,size\u001b[38;5;241m=\u001b[39m\u001b[38;5;241m100\u001b[39m,write\u001b[38;5;241m=\u001b[39m\u001b[38;5;28;01mTrue\u001b[39;00m):\n\u001b[1;32m---> 64\u001b[0m     resp \u001b[38;5;241m=\u001b[39m requests\u001b[38;5;241m.\u001b[39mpost(\u001b[38;5;28mself\u001b[39m\u001b[38;5;241m.\u001b[39mbackend_url \u001b[38;5;241m+\u001b[39m \u001b[38;5;124m\"\u001b[39m\u001b[38;5;124m/create_category\u001b[39m\u001b[38;5;124m\"\u001b[39m, json\u001b[38;5;241m=\u001b[39m{\u001b[38;5;124m\"\u001b[39m\u001b[38;5;124mterms\u001b[39m\u001b[38;5;124m\"\u001b[39m:seeds,\u001b[38;5;124m\"\u001b[39m\u001b[38;5;124msize\u001b[39m\u001b[38;5;124m\"\u001b[39m:size,\u001b[38;5;124m\"\u001b[39m\u001b[38;5;124mmodel\u001b[39m\u001b[38;5;124m\"\u001b[39m:model})\n\u001b[0;32m     65\u001b[0m     \u001b[38;5;28mprint\u001b[39m(resp\u001b[38;5;241m.\u001b[39mtext)\n\u001b[0;32m     66\u001b[0m     results \u001b[38;5;241m=\u001b[39m json\u001b[38;5;241m.\u001b[39mloads(resp\u001b[38;5;241m.\u001b[39mtext)\n",
      "File \u001b[1;32md:\\Users\\uji_crush\\anaconda3\\envs\\ada\\Lib\\site-packages\\requests\\api.py:115\u001b[0m, in \u001b[0;36mpost\u001b[1;34m(url, data, json, **kwargs)\u001b[0m\n\u001b[0;32m    103\u001b[0m \u001b[38;5;28;01mdef\u001b[39;00m \u001b[38;5;21mpost\u001b[39m(url, data\u001b[38;5;241m=\u001b[39m\u001b[38;5;28;01mNone\u001b[39;00m, json\u001b[38;5;241m=\u001b[39m\u001b[38;5;28;01mNone\u001b[39;00m, \u001b[38;5;241m*\u001b[39m\u001b[38;5;241m*\u001b[39mkwargs):\n\u001b[0;32m    104\u001b[0m \u001b[38;5;250m    \u001b[39m\u001b[38;5;124mr\u001b[39m\u001b[38;5;124;03m\"\"\"Sends a POST request.\u001b[39;00m\n\u001b[0;32m    105\u001b[0m \n\u001b[0;32m    106\u001b[0m \u001b[38;5;124;03m    :param url: URL for the new :class:`Request` object.\u001b[39;00m\n\u001b[1;32m   (...)\u001b[0m\n\u001b[0;32m    112\u001b[0m \u001b[38;5;124;03m    :rtype: requests.Response\u001b[39;00m\n\u001b[0;32m    113\u001b[0m \u001b[38;5;124;03m    \"\"\"\u001b[39;00m\n\u001b[1;32m--> 115\u001b[0m     \u001b[38;5;28;01mreturn\u001b[39;00m request(\u001b[38;5;124m\"\u001b[39m\u001b[38;5;124mpost\u001b[39m\u001b[38;5;124m\"\u001b[39m, url, data\u001b[38;5;241m=\u001b[39mdata, json\u001b[38;5;241m=\u001b[39mjson, \u001b[38;5;241m*\u001b[39m\u001b[38;5;241m*\u001b[39mkwargs)\n",
      "File \u001b[1;32md:\\Users\\uji_crush\\anaconda3\\envs\\ada\\Lib\\site-packages\\requests\\api.py:59\u001b[0m, in \u001b[0;36mrequest\u001b[1;34m(method, url, **kwargs)\u001b[0m\n\u001b[0;32m     55\u001b[0m \u001b[38;5;66;03m# By using the 'with' statement we are sure the session is closed, thus we\u001b[39;00m\n\u001b[0;32m     56\u001b[0m \u001b[38;5;66;03m# avoid leaving sockets open which can trigger a ResourceWarning in some\u001b[39;00m\n\u001b[0;32m     57\u001b[0m \u001b[38;5;66;03m# cases, and look like a memory leak in others.\u001b[39;00m\n\u001b[0;32m     58\u001b[0m \u001b[38;5;28;01mwith\u001b[39;00m sessions\u001b[38;5;241m.\u001b[39mSession() \u001b[38;5;28;01mas\u001b[39;00m session:\n\u001b[1;32m---> 59\u001b[0m     \u001b[38;5;28;01mreturn\u001b[39;00m session\u001b[38;5;241m.\u001b[39mrequest(method\u001b[38;5;241m=\u001b[39mmethod, url\u001b[38;5;241m=\u001b[39murl, \u001b[38;5;241m*\u001b[39m\u001b[38;5;241m*\u001b[39mkwargs)\n",
      "File \u001b[1;32md:\\Users\\uji_crush\\anaconda3\\envs\\ada\\Lib\\site-packages\\requests\\sessions.py:589\u001b[0m, in \u001b[0;36mSession.request\u001b[1;34m(self, method, url, params, data, headers, cookies, files, auth, timeout, allow_redirects, proxies, hooks, stream, verify, cert, json)\u001b[0m\n\u001b[0;32m    584\u001b[0m send_kwargs \u001b[38;5;241m=\u001b[39m {\n\u001b[0;32m    585\u001b[0m     \u001b[38;5;124m\"\u001b[39m\u001b[38;5;124mtimeout\u001b[39m\u001b[38;5;124m\"\u001b[39m: timeout,\n\u001b[0;32m    586\u001b[0m     \u001b[38;5;124m\"\u001b[39m\u001b[38;5;124mallow_redirects\u001b[39m\u001b[38;5;124m\"\u001b[39m: allow_redirects,\n\u001b[0;32m    587\u001b[0m }\n\u001b[0;32m    588\u001b[0m send_kwargs\u001b[38;5;241m.\u001b[39mupdate(settings)\n\u001b[1;32m--> 589\u001b[0m resp \u001b[38;5;241m=\u001b[39m \u001b[38;5;28mself\u001b[39m\u001b[38;5;241m.\u001b[39msend(prep, \u001b[38;5;241m*\u001b[39m\u001b[38;5;241m*\u001b[39msend_kwargs)\n\u001b[0;32m    591\u001b[0m \u001b[38;5;28;01mreturn\u001b[39;00m resp\n",
      "File \u001b[1;32md:\\Users\\uji_crush\\anaconda3\\envs\\ada\\Lib\\site-packages\\requests\\sessions.py:703\u001b[0m, in \u001b[0;36mSession.send\u001b[1;34m(self, request, **kwargs)\u001b[0m\n\u001b[0;32m    700\u001b[0m start \u001b[38;5;241m=\u001b[39m preferred_clock()\n\u001b[0;32m    702\u001b[0m \u001b[38;5;66;03m# Send the request\u001b[39;00m\n\u001b[1;32m--> 703\u001b[0m r \u001b[38;5;241m=\u001b[39m adapter\u001b[38;5;241m.\u001b[39msend(request, \u001b[38;5;241m*\u001b[39m\u001b[38;5;241m*\u001b[39mkwargs)\n\u001b[0;32m    705\u001b[0m \u001b[38;5;66;03m# Total elapsed time of the request (approximately)\u001b[39;00m\n\u001b[0;32m    706\u001b[0m elapsed \u001b[38;5;241m=\u001b[39m preferred_clock() \u001b[38;5;241m-\u001b[39m start\n",
      "File \u001b[1;32md:\\Users\\uji_crush\\anaconda3\\envs\\ada\\Lib\\site-packages\\requests\\adapters.py:694\u001b[0m, in \u001b[0;36mHTTPAdapter.send\u001b[1;34m(self, request, stream, timeout, verify, cert, proxies)\u001b[0m\n\u001b[0;32m    691\u001b[0m     \u001b[38;5;28;01mraise\u001b[39;00m RetryError(e, request\u001b[38;5;241m=\u001b[39mrequest)\n\u001b[0;32m    693\u001b[0m \u001b[38;5;28;01mif\u001b[39;00m \u001b[38;5;28misinstance\u001b[39m(e\u001b[38;5;241m.\u001b[39mreason, _ProxyError):\n\u001b[1;32m--> 694\u001b[0m     \u001b[38;5;28;01mraise\u001b[39;00m ProxyError(e, request\u001b[38;5;241m=\u001b[39mrequest)\n\u001b[0;32m    696\u001b[0m \u001b[38;5;28;01mif\u001b[39;00m \u001b[38;5;28misinstance\u001b[39m(e\u001b[38;5;241m.\u001b[39mreason, _SSLError):\n\u001b[0;32m    697\u001b[0m     \u001b[38;5;66;03m# This branch is for urllib3 v1.22 and later.\u001b[39;00m\n\u001b[0;32m    698\u001b[0m     \u001b[38;5;28;01mraise\u001b[39;00m SSLError(e, request\u001b[38;5;241m=\u001b[39mrequest)\n",
      "\u001b[1;31mProxyError\u001b[0m: HTTPConnectionPool(host='127.0.0.1', port=1080): Max retries exceeded with url: http://54.148.189.209:8000/create_category (Caused by ProxyError('Unable to connect to proxy', NewConnectionError('<urllib3.connection.HTTPConnection object at 0x000001EC138439D0>: Failed to establish a new connection: [WinError 10061] 由于目标计算机积极拒绝，无法连接。')))"
     ]
    }
   ],
   "source": [
    "lexicon.create_category(\"festive_food\", [\"festive_food\",\"turkey\",\"eggnog\"], model=\"nytimes\")"
   ]
  },
  {
   "cell_type": "markdown",
   "metadata": {},
   "source": [
    "### List of further resources\n",
    "    * NLTK\n",
    "    * Jellyfish: string similarity library\n",
    "    * TextBlob: simplified text processing\n",
    "    * PyEnchant: language detection\n",
    "    * WordNet: ontology of concepts (inc. in NLTK)\n",
    "    * Stanford NLP (Java)\n",
    "    * Tweet NLP: https://www.cs.cmu.edu/~ark/TweetNLP/"
   ]
  },
  {
   "cell_type": "markdown",
   "metadata": {},
   "source": [
    "## Part 2"
   ]
  },
  {
   "cell_type": "markdown",
   "metadata": {},
   "source": [
    "### Question 1:\n",
    "An NLP preprocessing model, using the list of stopwords ['a', 'the', 'is', 'you', 'I','my','with','was'] for the input sentence\n",
    "“I was driving down the street with my CAR! :)” <br>\n",
    "gives the following output: {driving, down, street, car, :)}.\n",
    "The model consists of: <br>\n",
    "\n",
    "a) Stopword Removal, Casefolding and Stemming <br>\n",
    "b) Stopword Removal and Casefolding <br>\n",
    "c) Stopword Removal and Stemming <br>\n",
    "d) Casefolding and Stemming <br>"
   ]
  },
  {
   "cell_type": "code",
   "execution_count": 132,
   "metadata": {},
   "outputs": [],
   "source": [
    "# write your code and/or answer here\n",
    "# 选b)"
   ]
  },
  {
   "cell_type": "markdown",
   "metadata": {},
   "source": [
    "输入句子：\n",
    "“I was driving down the street with my CAR! :)”\n",
    "\n",
    "输出：\n",
    "{driving, down, street, car, :)}\n",
    "\n",
    "1. **Stopword Removal（去停用词）**：\n",
    "   - 根据提供的停用词列表 `['a', 'the', 'is', 'you', 'I','my','with','was']`，从句子中移除这些词：\n",
    "     - 原句：**“I was driving down the street with my CAR! :)”**\n",
    "     - 移除后：**“driving down street CAR! :)”**\n",
    "\n",
    "2. **Casefolding（大小写统一）**：\n",
    "   - 将文本转为小写：\n",
    "     - **“driving down street CAR! :)”** -> **“driving down street car! :)”**\n",
    "\n",
    "3. **Stemming（词干提取）**：\n",
    "   - 对单词提取词干，例如：\n",
    "     - `driving` -> `drive`。\n",
    "   - 如果使用了 Stemming，`driving` 会变成 `drive`，而输出中的 `driving` 没有被改变，因此 **Stemming** 没有被应用。"
   ]
  },
  {
   "cell_type": "markdown",
   "metadata": {},
   "source": [
    "### Question 2:\n",
    "What statement is false about topic detection using LSA: <br>\n",
    "\n",
    "a) It finds the representation of documents and words in the latent \"topic space\" <br>\n",
    "b) It produces topics interpretable in “word space” <br>\n",
    "c) A document's topic representation is a probability distribution over topics <br>\n",
    "d) The vectors representing topics in “word space” are linearly independent <br>"
   ]
  },
  {
   "cell_type": "code",
   "execution_count": 135,
   "metadata": {},
   "outputs": [],
   "source": [
    "# write your code and/or answer here\n",
    "# 选c)"
   ]
  },
  {
   "cell_type": "markdown",
   "metadata": {},
   "source": [
    "**LSA 的主要原理**\n",
    "1. **核心思想**：\n",
    "   - LSA 使用 **SVD**（奇异值分解，Singular Value Decomposition）来分解 **文档-词项矩阵**。\n",
    "   - 通过将词和文档投影到一个低维的 \"潜在语义空间\"（latent semantic space），捕捉文档和词之间的隐含语义关系。\n",
    "   \n",
    "2. **输出结果**：\n",
    "   - 每个文档和词语都可以被表示为在 \"潜在语义空间\" 中的向量。\n",
    "   - 潜在空间的维度可以理解为主题的数量，但这些主题本质上不是概率分布，而是线性组合的向量。\n",
    "\n",
    "**a) It finds the representation of documents and words in the latent \"topic space\"**\n",
    "- **正确**：\n",
    "  - LSA 通过 SVD 将文档和词项表示为低维的 \"潜在语义空间\" 中的向量。\n",
    "  - 这些向量是文档和词项在潜在语义主题上的表示。\n",
    "\n",
    "**b) It produces topics interpretable in “word space”**\n",
    "- **正确**：\n",
    "  - 在 \"词空间\" 中，主题向量可以通过查看高权重词汇解释。\n",
    "  - 这些向量由单词的线性组合表示，因此可以在“词空间”中理解主题。\n",
    "\n",
    "**c) A document's topic representation is a probability distribution over topics**\n",
    "- **错误**：\n",
    "  - 在 LSA 中，文档的主题表示是一个向量（非负非概率），表示文档在潜在语义空间中的位置。\n",
    "  - LSA 的输出不提供概率分布。\n",
    "  - 概率分布的主题模型通常由 **LDA**（Latent Dirichlet Allocation）等方法提供，而不是 LSA。\n",
    "\n",
    "**d) The vectors representing topics in “word space” are linearly independent**\n",
    "- **正确**：\n",
    "  - 在 LSA 中，使用 SVD 分解后得到的主题向量（即 SVD 的奇异向量）是线性独立的。这是 SVD 分解的一个基本特性。"
   ]
  },
  {
   "cell_type": "markdown",
   "metadata": {},
   "source": [
    "### Question 3:\n",
    "The problem of having more features than documents when using a TF-IDF matrix for document classification cannot be addressed by: <br>\n",
    "\n",
    "a) Using SVD for dimensionality reduction <br>\n",
    "b) Using min-max scaling of features <br>\n",
    "c) Penalizing very large positive and very large negative weights (a.k.a. regularization) <br>\n",
    "d) Using online feature selection <br>"
   ]
  },
  {
   "cell_type": "code",
   "execution_count": 136,
   "metadata": {},
   "outputs": [],
   "source": [
    "# write your code and/or answer here\n",
    "# 选b)"
   ]
  },
  {
   "cell_type": "markdown",
   "metadata": {},
   "source": [
    "这道题考察如何解决 **文档特征比文档数量更多** 的问题，即 **高维问题**（High Dimensionality Problem）。我们需要从选项中找出一种 **无法解决** 该问题的方法。\n",
    "\n",
    "**a) Using SVD for dimensionality reduction**\n",
    "- **正确：可以解决高维问题**\n",
    "  - **SVD（奇异值分解）** 是一种有效的降维方法。\n",
    "  - 通过将特征投影到低维 \"潜在语义空间\"，可以减少特征数量，同时保留文档间的重要语义关系。\n",
    "  - 适用于处理特征数量多于文档数量的情况。\n",
    "\n",
    "**b) Using min-max scaling of features**\n",
    "- **错误：无法解决高维问题**\n",
    "  - **Min-max scaling** 是一种数据归一化技术，将特征值缩放到指定的范围（例如 [0,1]）。\n",
    "  - 归一化可以让不同特征的数值范围一致，但 **不会减少特征数量**。\n",
    "  - 它无法从根本上解决 \"特征数量多于文档数量\" 的问题，因为特征数量没有减少。\n",
    "\n",
    "**c) Penalizing very large positive and very large negative weights (a.k.a. regularization)**\n",
    "- **正确：可以缓解高维问题**\n",
    "  - **正则化**（如 L1 或 L2 正则化）可以通过限制模型参数的大小来减少过拟合。\n",
    "  - 特别是 L1 正则化（Lasso），可以将一些不重要的特征权重缩减为零，从而实现特征选择。\n",
    "  - 这种方法可以在特征数量多于文档数量的情况下有效。\n",
    "\n",
    "**d) Using online feature selection**\n",
    "- **正确：可以解决高维问题**\n",
    "  - **在线特征选择** 是一种动态选择重要特征的方法，通常在数据流环境中使用。\n",
    "  - 它通过逐步评估特征的重要性，只保留相关特征，从而减少特征数量。\n",
    "  - 这种方法可以直接应对 \"特征数量多于文档数量\" 的问题。"
   ]
  },
  {
   "cell_type": "markdown",
   "metadata": {},
   "source": [
    "### Question 4:\n",
    "Which of the following is false about word vectors: <br>\n",
    "\n",
    "a) Word2vec is used to achieve a lower dimensional representation than bag of words <br>\n",
    "b) Semantically similar words typically have similar word2vec vectors <br>\n",
    "c) Each dimension in the word2vec embedding has a clear interpretation <br>\n",
    "d) Word2Vec can be used for the computation of sentence vectors <br>"
   ]
  },
  {
   "cell_type": "code",
   "execution_count": 137,
   "metadata": {},
   "outputs": [],
   "source": [
    "# write your code and/or answer here\n",
    "# 选c)"
   ]
  },
  {
   "cell_type": "markdown",
   "metadata": {},
   "source": [
    "**a) Word2vec is used to achieve a lower dimensional representation than bag of words**\n",
    "- **正确：这是 Word2Vec 的一个显著优势**\n",
    "  - Bag of Words（BOW）方法将词表示为高维稀疏向量，维度等于词汇表大小（可能是几千甚至几百万维）。\n",
    "  - Word2Vec 则将每个词映射为低维稠密向量（例如 100 或 300 维），显著降低了维度，同时保留了语义信息。\n",
    "\n",
    "**b) Semantically similar words typically have similar word2vec vectors**\n",
    "- **正确：这是 Word2Vec 的核心特点**\n",
    "  - Word2Vec 基于分布式假设（Distributional Hypothesis）：**语义相似的词倾向于出现在相似的上下文中**。\n",
    "  - 通过训练，语义相似的词（如 \"king\" 和 \"queen\" 或 \"man\" 和 \"woman\"）在词向量空间中通常距离较近或具有相似的方向。\n",
    "\n",
    "**c) Each dimension in the word2vec embedding has a clear interpretation**\n",
    "- **错误：维度没有明确的语义解释**\n",
    "  - Word2Vec 的维度是 **通过神经网络训练的稠密向量**，每个维度本质上是统计特征的混合，没有固定的语义意义。\n",
    "  - 与 BOW 中 \"某个维度表示某个单词\" 不同，Word2Vec 的每一维都是模型自动学习的，不对应任何特定的解释。\n",
    "  - 例如，Word2Vec 的一个维度不能明确表示 \"性别\" 或 \"国籍\"，而是这些语义的组合。\n",
    "\n",
    "**d) Word2Vec can be used for the computation of sentence vectors**\n",
    "- **正确：Word2Vec 可以用于句子向量的计算**\n",
    "  - 尽管 Word2Vec 是针对单词训练的，但可以通过多种方法（如向量平均、权重加权等）将单词向量组合成句子向量。\n",
    "  - 这种方法简单且有效，常用于许多 NLP 任务中。"
   ]
  },
  {
   "cell_type": "markdown",
   "metadata": {},
   "source": [
    "### Question 5:\n",
    "Given the following word (W) / context (C) co-occurrence frequencies, which statement is true regarding the pointwise mutual information (PMI)?\n",
    "\n",
    "|  |W1|W2|W3|\n",
    "|--|--|--|--|\n",
    "|C1| 2| 0| 3|\n",
    "|C2| 6| 4| 0|\n",
    "|C3| 1| 1| 3|\n",
    "\n",
    "a) PMI(w=W1, c=C2) > PMI(w=W2, c=C2) > PMI(w=W3, c=C3) <br>\n",
    "b) PMI(w=W2, c=C2) > PMI(w=W1, c=C2) >  PMI(w=W3, c=C3) <br>\n",
    "c) PMI(w=W3, c=C3) > PMI(w=W1, c=C2) > PMI(w=W2, c=C2) <br>\n",
    "d) PMI(w=W3, c=C3) > PMI(w=W2, c=C2) > PMI(w=W1, c=C2) <br>"
   ]
  },
  {
   "cell_type": "code",
   "execution_count": 138,
   "metadata": {},
   "outputs": [],
   "source": [
    "# write your code and/or answer here\n",
    "# 选d)"
   ]
  },
  {
   "cell_type": "markdown",
   "metadata": {},
   "source": [
    "PMI 是一种度量两个事件 \\( w \\) 和 \\( c \\) 之间关联程度的方法，公式如下：\n",
    "\n",
    "\\[\n",
    "PMI(w, c) = \\log \\frac{P(w, c)}{P(w) P(c)}\n",
    "\\]\n",
    "\n",
    "**计算 PMI 的步骤**\n",
    "\n",
    "1. **定义符号和总频率**：\n",
    "   - \\( P(w, c) \\) 是 \\( w \\) 和 \\( c \\) 的联合概率：该词 \\( w \\) 和上下文 \\( c \\) 同时出现的概率。\n",
    "   - \\( P(w) \\) 是词 \\( w \\) 的边缘概率：该词 \\( w \\) 的所有上下文出现频率的总和除以总频率。\n",
    "   - \\( P(c) \\) 是上下文 \\( c \\) 的边缘概率：该上下文 \\( c \\) 中所有词的出现频率的总和除以总频率。\n",
    "   - 总频率为表中所有数字的总和：\n",
    "     \\[\n",
    "     \\text{总频率} = 2 + 0 + 3 + 6 + 4 + 0 + 1 + 1 + 3 = 20\n",
    "     \\]\n",
    "\n",
    "2. **计算每个词 \\( w \\) 和上下文 \\( c \\) 的联合概率**：\n",
    "   \\[\n",
    "   P(w, c) = \\frac{\\text{对应的频率值}}{\\text{总频率}}\n",
    "   \\]\n",
    "\n",
    "3. **计算边缘概率 \\( P(w) \\) 和 \\( P(c) \\)**：\n",
    "   \\[\n",
    "   P(w) = \\frac{\\text{某词 \\( w \\) 的频率总和}}{\\text{总频率}}\n",
    "   \\]\n",
    "   \\[\n",
    "   P(c) = \\frac{\\text{某上下文 \\( c \\) 的频率总和}}{\\text{总频率}}\n",
    "   \\]\n",
    "\n",
    "4. **代入公式计算 PMI**：\n",
    "   \\[\n",
    "   PMI(w, c) = \\log \\frac{P(w, c)}{P(w) \\cdot P(c)}\n",
    "   \\]\n",
    "\n",
    "**逐项计算 PMI**\n",
    "\n",
    "**1. 计算频率总和**\n",
    "- **词频率总和 \\( P(w) \\)：**\n",
    "  - \\( P(W1) = \\frac{2 + 6 + 1}{20} = \\frac{9}{20} \\)\n",
    "  - \\( P(W2) = \\frac{0 + 4 + 1}{20} = \\frac{5}{20} \\)\n",
    "  - \\( P(W3) = \\frac{3 + 0 + 3}{20} = \\frac{6}{20} \\)\n",
    "\n",
    "- **上下文频率总和 \\( P(c) \\)：**\n",
    "  - \\( P(C1) = \\frac{2 + 0 + 3}{20} = \\frac{5}{20} \\)\n",
    "  - \\( P(C2) = \\frac{6 + 4 + 0}{20} = \\frac{10}{20} \\)\n",
    "  - \\( P(C3) = \\frac{1 + 1 + 3}{20} = \\frac{5}{20} \\)\n",
    "\n",
    "**2. 计算 \\( P(w, c) \\)**\n",
    "- \\( P(W1, C2) = \\frac{6}{20} \\)\n",
    "- \\( P(W2, C2) = \\frac{4}{20} \\)\n",
    "- \\( P(W3, C3) = \\frac{3}{20} \\)\n",
    "\n",
    "**3. 计算 PMI**\n",
    "根据公式：\n",
    "\\[\n",
    "PMI(w, c) = \\log \\frac{P(w, c)}{P(w) \\cdot P(c)}\n",
    "\\]\n",
    "\n",
    "- **PMI(W1, C2)**：\n",
    "  \\[\n",
    "  PMI(W1, C2) = \\log \\frac{\\frac{6}{20}}{\\frac{9}{20} \\cdot \\frac{10}{20}} = \\log \\frac{6}{9 \\cdot 10} = \\log \\frac{6}{90} = \\log \\frac{1}{15}\n",
    "  \\]\n",
    "\n",
    "- **PMI(W2, C2)**：\n",
    "  \\[\n",
    "  PMI(W2, C2) = \\log \\frac{\\frac{4}{20}}{\\frac{5}{20} \\cdot \\frac{10}{20}} = \\log \\frac{4}{5 \\cdot 10} = \\log \\frac{4}{50} = \\log \\frac{2}{25}\n",
    "  \\]\n",
    "\n",
    "- **PMI(W3, C3)**：\n",
    "  \\[\n",
    "  PMI(W3, C3) = \\log \\frac{\\frac{3}{20}}{\\frac{6}{20} \\cdot \\frac{5}{20}} = \\log \\frac{3}{6 \\cdot 5} = \\log \\frac{3}{30} = \\log \\frac{1}{10}\n",
    "  \\]\n",
    "\n",
    "**比较 PMI**\n",
    "根据上面的计算结果：\n",
    "\n",
    "1. \\( PMI(W3, C3) = \\log \\frac{1}{10} \\)\n",
    "2. \\( PMI(W1, C2) = \\log \\frac{1}{15} \\)\n",
    "3. \\( PMI(W2, C2) = \\log \\frac{2}{25} \\)\n",
    "\n",
    "比较大小：\n",
    "\\[\n",
    "PMI(W3, C3) > PMI(W1, C2) > PMI(W2, C2)\n",
    "\\]\n"
   ]
  }
 ],
 "metadata": {
  "kernelspec": {
   "display_name": "ada",
   "language": "python",
   "name": "python3"
  },
  "language_info": {
   "codemirror_mode": {
    "name": "ipython",
    "version": 3
   },
   "file_extension": ".py",
   "mimetype": "text/x-python",
   "name": "python",
   "nbconvert_exporter": "python",
   "pygments_lexer": "ipython3",
   "version": "3.11.9"
  },
  "toc": {
   "colors": {
    "hover_highlight": "#DAA520",
    "navigate_num": "#000000",
    "navigate_text": "#333333",
    "running_highlight": "#FF0000",
    "selected_highlight": "#FFD700",
    "sidebar_border": "#EEEEEE",
    "wrapper_background": "#FFFFFF"
   },
   "moveMenuLeft": true,
   "nav_menu": {
    "height": "228px",
    "width": "252px"
   },
   "navigate_menu": true,
   "number_sections": true,
   "sideBar": true,
   "threshold": 4,
   "toc_cell": false,
   "toc_section_display": "block",
   "toc_window_display": false,
   "widenNotebook": false
  },
  "varInspector": {
   "cols": {
    "lenName": 16,
    "lenType": 16,
    "lenVar": 40
   },
   "kernels_config": {
    "python": {
     "delete_cmd_postfix": "",
     "delete_cmd_prefix": "del ",
     "library": "var_list.py",
     "varRefreshCmd": "print(var_dic_list())"
    },
    "r": {
     "delete_cmd_postfix": ") ",
     "delete_cmd_prefix": "rm(",
     "library": "var_list.r",
     "varRefreshCmd": "cat(var_dic_list()) "
    }
   },
   "types_to_exclude": [
    "module",
    "function",
    "builtin_function_or_method",
    "instance",
    "_Feature"
   ],
   "window_display": false
  }
 },
 "nbformat": 4,
 "nbformat_minor": 4
}
